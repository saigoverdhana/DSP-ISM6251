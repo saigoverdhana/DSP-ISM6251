{
 "cells": [
  {
   "cell_type": "markdown",
   "id": "718c966f-09e5-4241-a42b-b1c0bea404e9",
   "metadata": {},
   "source": [
    "### Sai Srihitha Goverdhana U58956033"
   ]
  },
  {
   "cell_type": "markdown",
   "id": "a232e69c-cb17-4bbf-a3a3-2f31a7af4933",
   "metadata": {},
   "source": [
    "### Assignment - 2 "
   ]
  },
  {
   "cell_type": "markdown",
   "id": "e5d0ee79-bb0d-447b-b3dd-ef8c88b14c8e",
   "metadata": {},
   "source": [
    "Apply the SKLearn MLPClassifer/Regressor and Keras techniques covered in classes 08 and 08 to the data you used in Assignment 01.\n",
    "\n",
    "Define and train an MLP and Keras Sequential model that predicts the output target variable. Experiment with the settings discussed/demonstrated in to identify the best-performing predictive model.\n",
    "\n",
    "Discuss how the MLP and Keras models perform versus your previous predictive models from Assignment01. \n",
    "\n",
    "NOTE: Be careful not to let the training time get too long -- as we discussed in class, a broad parameter search can result in significantly long training times. Start this assignment early to have enough time to train and test your models. "
   ]
  },
  {
   "cell_type": "markdown",
   "id": "66c4f556-6a79-4583-9045-fd059f39e671",
   "metadata": {},
   "source": [
    "#### Import Required Documents"
   ]
  },
  {
   "cell_type": "code",
   "execution_count": 1,
   "id": "8a10aa45-0b43-49c9-b961-d89c1967a16a",
   "metadata": {},
   "outputs": [],
   "source": [
    "import warnings   #To get rid of warnings\n",
    "warnings.filterwarnings(\"ignore\")\n",
    "\n",
    "import pandas as pd\n",
    "import numpy as np\n",
    "\n",
    "## Performence Metric\n",
    "from sklearn.metrics import confusion_matrix\n",
    "from sklearn.metrics import accuracy_score, precision_score, recall_score, f1_score\n",
    "from sklearn.metrics import classification_report\n",
    "\n",
    "\n",
    "## train test split\n",
    "from sklearn import model_selection\n",
    "from sklearn.model_selection import train_test_split\n",
    "\n",
    "## Different Models\n",
    "from sklearn.linear_model import LogisticRegression\n",
    "from sklearn.svm import SVC\n",
    "from sklearn.tree import DecisionTreeClassifier\n",
    "\n",
    "## Hyper parameter tuning\n",
    "from sklearn.model_selection import RandomizedSearchCV, GridSearchCV\n",
    "\n",
    "## Plots\n",
    "from matplotlib import pyplot as plt\n",
    "%matplotlib inline\n",
    "\n",
    "## Neural Network\n",
    "from sklearn.neural_network import MLPClassifier\n",
    "\n",
    "##importing keras\n",
    "import tensorflow as tf\n",
    "from tensorflow import keras\n",
    "\n",
    "## Set random seed to 1 - to maintain the consistency of the results\n",
    "np.random.seed(1)\n",
    "\n",
    "# from sklearn.preprocessing import StandardScaler\n",
    "# from sklearn.preprocessing import LabelEncoder"
   ]
  },
  {
   "cell_type": "markdown",
   "id": "84190e8a-64ae-4dd7-af79-907aa312a2d0",
   "metadata": {},
   "source": [
    "### Import the data"
   ]
  },
  {
   "cell_type": "code",
   "execution_count": 2,
   "id": "ba629cee-05af-4336-ae3b-b6885cd5179d",
   "metadata": {},
   "outputs": [
    {
     "name": "stdout",
     "output_type": "stream",
     "text": [
      "C:\\Users\\srihi\\DSP\n"
     ]
    }
   ],
   "source": [
    "import os\n",
    "print(os.getcwd())"
   ]
  },
  {
   "cell_type": "code",
   "execution_count": 3,
   "id": "452ce781-62a3-48b9-8325-0f31ccb444e2",
   "metadata": {},
   "outputs": [],
   "source": [
    "df = pd.read_csv(\"./data/thyroid_prep.csv\")"
   ]
  },
  {
   "cell_type": "code",
   "execution_count": 4,
   "id": "fd045a16-9dc4-47a6-b88c-05f88e6aa83e",
   "metadata": {},
   "outputs": [],
   "source": [
    "X_train = pd.read_csv('./data/thyroid_X_train.csv')\n",
    "y_train = pd.read_csv('./data/thyroid_y_train.csv')\n",
    "X_test = pd.read_csv('./data/thyroid_X_test.csv')\n",
    "y_test = pd.read_csv('./data/thyroid_y_test.csv')"
   ]
  },
  {
   "cell_type": "code",
   "execution_count": 5,
   "id": "10403a26-3c32-425b-b166-80b8fda0548d",
   "metadata": {},
   "outputs": [
    {
     "data": {
      "text/html": [
       "<div>\n",
       "<style scoped>\n",
       "    .dataframe tbody tr th:only-of-type {\n",
       "        vertical-align: middle;\n",
       "    }\n",
       "\n",
       "    .dataframe tbody tr th {\n",
       "        vertical-align: top;\n",
       "    }\n",
       "\n",
       "    .dataframe thead th {\n",
       "        text-align: right;\n",
       "    }\n",
       "</style>\n",
       "<table border=\"1\" class=\"dataframe\">\n",
       "  <thead>\n",
       "    <tr style=\"text-align: right;\">\n",
       "      <th></th>\n",
       "      <th>age</th>\n",
       "      <th>sex</th>\n",
       "      <th>on_thyroxine</th>\n",
       "      <th>query_on_thyroxine</th>\n",
       "      <th>on_antithyroid_medication</th>\n",
       "      <th>sick</th>\n",
       "      <th>pregnant</th>\n",
       "      <th>thyroid_surgery</th>\n",
       "      <th>i131_treatment</th>\n",
       "      <th>query_hypothyroid</th>\n",
       "      <th>...</th>\n",
       "      <th>goitre</th>\n",
       "      <th>tumor</th>\n",
       "      <th>hypopituitary</th>\n",
       "      <th>psych</th>\n",
       "      <th>tsh</th>\n",
       "      <th>t3</th>\n",
       "      <th>tt4</th>\n",
       "      <th>t4u</th>\n",
       "      <th>fti</th>\n",
       "      <th>class</th>\n",
       "    </tr>\n",
       "  </thead>\n",
       "  <tbody>\n",
       "    <tr>\n",
       "      <th>0</th>\n",
       "      <td>0.73</td>\n",
       "      <td>0</td>\n",
       "      <td>1</td>\n",
       "      <td>0</td>\n",
       "      <td>0</td>\n",
       "      <td>0</td>\n",
       "      <td>0</td>\n",
       "      <td>0</td>\n",
       "      <td>1</td>\n",
       "      <td>0</td>\n",
       "      <td>...</td>\n",
       "      <td>0</td>\n",
       "      <td>0</td>\n",
       "      <td>0</td>\n",
       "      <td>0</td>\n",
       "      <td>0.00060</td>\n",
       "      <td>0.015</td>\n",
       "      <td>0.120</td>\n",
       "      <td>0.082</td>\n",
       "      <td>0.146</td>\n",
       "      <td>3</td>\n",
       "    </tr>\n",
       "    <tr>\n",
       "      <th>1</th>\n",
       "      <td>0.24</td>\n",
       "      <td>0</td>\n",
       "      <td>0</td>\n",
       "      <td>0</td>\n",
       "      <td>0</td>\n",
       "      <td>0</td>\n",
       "      <td>0</td>\n",
       "      <td>0</td>\n",
       "      <td>0</td>\n",
       "      <td>0</td>\n",
       "      <td>...</td>\n",
       "      <td>0</td>\n",
       "      <td>0</td>\n",
       "      <td>0</td>\n",
       "      <td>0</td>\n",
       "      <td>0.00025</td>\n",
       "      <td>0.030</td>\n",
       "      <td>0.143</td>\n",
       "      <td>0.133</td>\n",
       "      <td>0.108</td>\n",
       "      <td>3</td>\n",
       "    </tr>\n",
       "    <tr>\n",
       "      <th>2</th>\n",
       "      <td>0.47</td>\n",
       "      <td>0</td>\n",
       "      <td>0</td>\n",
       "      <td>0</td>\n",
       "      <td>0</td>\n",
       "      <td>0</td>\n",
       "      <td>0</td>\n",
       "      <td>0</td>\n",
       "      <td>0</td>\n",
       "      <td>0</td>\n",
       "      <td>...</td>\n",
       "      <td>0</td>\n",
       "      <td>0</td>\n",
       "      <td>0</td>\n",
       "      <td>0</td>\n",
       "      <td>0.00190</td>\n",
       "      <td>0.024</td>\n",
       "      <td>0.102</td>\n",
       "      <td>0.131</td>\n",
       "      <td>0.078</td>\n",
       "      <td>3</td>\n",
       "    </tr>\n",
       "    <tr>\n",
       "      <th>3</th>\n",
       "      <td>0.64</td>\n",
       "      <td>1</td>\n",
       "      <td>0</td>\n",
       "      <td>0</td>\n",
       "      <td>0</td>\n",
       "      <td>0</td>\n",
       "      <td>0</td>\n",
       "      <td>0</td>\n",
       "      <td>0</td>\n",
       "      <td>0</td>\n",
       "      <td>...</td>\n",
       "      <td>0</td>\n",
       "      <td>0</td>\n",
       "      <td>0</td>\n",
       "      <td>0</td>\n",
       "      <td>0.00090</td>\n",
       "      <td>0.017</td>\n",
       "      <td>0.077</td>\n",
       "      <td>0.090</td>\n",
       "      <td>0.085</td>\n",
       "      <td>3</td>\n",
       "    </tr>\n",
       "    <tr>\n",
       "      <th>4</th>\n",
       "      <td>0.23</td>\n",
       "      <td>0</td>\n",
       "      <td>0</td>\n",
       "      <td>0</td>\n",
       "      <td>0</td>\n",
       "      <td>0</td>\n",
       "      <td>0</td>\n",
       "      <td>0</td>\n",
       "      <td>0</td>\n",
       "      <td>0</td>\n",
       "      <td>...</td>\n",
       "      <td>0</td>\n",
       "      <td>0</td>\n",
       "      <td>0</td>\n",
       "      <td>0</td>\n",
       "      <td>0.00025</td>\n",
       "      <td>0.026</td>\n",
       "      <td>0.139</td>\n",
       "      <td>0.090</td>\n",
       "      <td>0.153</td>\n",
       "      <td>3</td>\n",
       "    </tr>\n",
       "    <tr>\n",
       "      <th>5</th>\n",
       "      <td>0.69</td>\n",
       "      <td>1</td>\n",
       "      <td>0</td>\n",
       "      <td>0</td>\n",
       "      <td>0</td>\n",
       "      <td>0</td>\n",
       "      <td>0</td>\n",
       "      <td>0</td>\n",
       "      <td>0</td>\n",
       "      <td>0</td>\n",
       "      <td>...</td>\n",
       "      <td>0</td>\n",
       "      <td>0</td>\n",
       "      <td>0</td>\n",
       "      <td>0</td>\n",
       "      <td>0.00025</td>\n",
       "      <td>0.016</td>\n",
       "      <td>0.086</td>\n",
       "      <td>0.070</td>\n",
       "      <td>0.123</td>\n",
       "      <td>3</td>\n",
       "    </tr>\n",
       "  </tbody>\n",
       "</table>\n",
       "<p>6 rows × 22 columns</p>\n",
       "</div>"
      ],
      "text/plain": [
       "    age   sex   on_thyroxine   query_on_thyroxine   on_antithyroid_medication   \n",
       "0  0.73     0              1                    0                           0  \\\n",
       "1  0.24     0              0                    0                           0   \n",
       "2  0.47     0              0                    0                           0   \n",
       "3  0.64     1              0                    0                           0   \n",
       "4  0.23     0              0                    0                           0   \n",
       "5  0.69     1              0                    0                           0   \n",
       "\n",
       "    sick   pregnant   thyroid_surgery   i131_treatment   query_hypothyroid   \n",
       "0      0          0                 0                1                   0  \\\n",
       "1      0          0                 0                0                   0   \n",
       "2      0          0                 0                0                   0   \n",
       "3      0          0                 0                0                   0   \n",
       "4      0          0                 0                0                   0   \n",
       "5      0          0                 0                0                   0   \n",
       "\n",
       "   ...   goitre   tumor   hypopituitary   psych      tsh     t3    tt4    t4u   \n",
       "0  ...        0       0               0       0  0.00060  0.015  0.120  0.082  \\\n",
       "1  ...        0       0               0       0  0.00025  0.030  0.143  0.133   \n",
       "2  ...        0       0               0       0  0.00190  0.024  0.102  0.131   \n",
       "3  ...        0       0               0       0  0.00090  0.017  0.077  0.090   \n",
       "4  ...        0       0               0       0  0.00025  0.026  0.139  0.090   \n",
       "5  ...        0       0               0       0  0.00025  0.016  0.086  0.070   \n",
       "\n",
       "     fti  class  \n",
       "0  0.146      3  \n",
       "1  0.108      3  \n",
       "2  0.078      3  \n",
       "3  0.085      3  \n",
       "4  0.153      3  \n",
       "5  0.123      3  \n",
       "\n",
       "[6 rows x 22 columns]"
      ]
     },
     "execution_count": 5,
     "metadata": {},
     "output_type": "execute_result"
    }
   ],
   "source": [
    "df.head(6)"
   ]
  },
  {
   "cell_type": "markdown",
   "id": "d7afda70-94d8-4a76-85c5-75e1f1d1d692",
   "metadata": {},
   "source": [
    "### Model the Data"
   ]
  },
  {
   "cell_type": "markdown",
   "id": "2a4eff21-95af-477a-9bfa-01692727fc76",
   "metadata": {},
   "source": [
    "> Lets create a pandas dataframe to store our performance metric which is Accuracy in our case\n",
    "\n",
    "> Purpose of creating the performace(dataframe) is for easy comparision of different models on our dataset"
   ]
  },
  {
   "cell_type": "code",
   "execution_count": 6,
   "id": "b48d0e10-9563-4c94-9727-b5135fb2213e",
   "metadata": {},
   "outputs": [],
   "source": [
    "performance = pd.DataFrame({\"model\": [], \"Accuracy\": []})"
   ]
  },
  {
   "cell_type": "markdown",
   "id": "9da7d8e9-0886-4db5-b380-4f4135426fa2",
   "metadata": {},
   "source": [
    "## Logistic Regression"
   ]
  },
  {
   "cell_type": "code",
   "execution_count": 7,
   "id": "6f4f075b-aeb5-4169-a7d8-4a1fff9120e1",
   "metadata": {},
   "outputs": [],
   "source": [
    "log_reg_model = LogisticRegression(max_iter=1100)\n",
    "_ = log_reg_model.fit(X_train, np.ravel(y_train))"
   ]
  },
  {
   "cell_type": "code",
   "execution_count": 8,
   "id": "369ad149-c92d-40de-8b42-e35b161046d5",
   "metadata": {},
   "outputs": [],
   "source": [
    "model_preds = log_reg_model.predict(X_test)\n",
    "c_matrix = confusion_matrix(y_test, model_preds)"
   ]
  },
  {
   "cell_type": "code",
   "execution_count": 9,
   "id": "13ccc247-f3e3-43c6-9b90-237264ab4366",
   "metadata": {},
   "outputs": [
    {
     "data": {
      "text/plain": [
       "array([[  32,    9,    0],\n",
       "       [   1,  113,    1],\n",
       "       [  17,  130, 1857]], dtype=int64)"
      ]
     },
     "execution_count": 9,
     "metadata": {},
     "output_type": "execute_result"
    }
   ],
   "source": [
    "confusion_matrix(y_test, model_preds)"
   ]
  },
  {
   "cell_type": "markdown",
   "id": "e8a67122-0269-4677-821f-20b9985681ee",
   "metadata": {},
   "source": [
    "### Manually Calculating Total TP,FP and Total FN"
   ]
  },
  {
   "cell_type": "markdown",
   "id": "825a036c-fbad-4e7e-aaa7-800d7ad2c381",
   "metadata": {},
   "source": [
    "> For better understanding on model performance, let us calculate True Positive , Flase Positive and False negative values\n",
    "\n",
    "> As its a multi-classification(class - 1,2,3) problem, our confusion matrix will be a 3 X 3 matrix. "
   ]
  },
  {
   "cell_type": "code",
   "execution_count": 10,
   "id": "79ed20e0-f347-4606-9aa2-e4549d9ecb83",
   "metadata": {},
   "outputs": [
    {
     "name": "stdout",
     "output_type": "stream",
     "text": [
      "Total True Positive Values: 1859\n",
      "Total False Positive Values: 301\n",
      "Total False Negative Values: 301\n"
     ]
    }
   ],
   "source": [
    "# Values are considered from above confusion matrix\n",
    "Total_TP = 34+109+1716\n",
    "print(\"Total True Positive Values:\",Total_TP)\n",
    "Total_FP = (0+30)+(7+258)+(0+6)\n",
    "print(\"Total False Positive Values:\",Total_FP)\n",
    "Total_FN = (7+0)+(0+6)+(30+258)\n",
    "print(\"Total False Negative Values:\",Total_FN)"
   ]
  },
  {
   "cell_type": "markdown",
   "id": "4010ca37-cc17-4f33-acca-5fa7a0f4dbde",
   "metadata": {},
   "source": [
    "> From the above output, we can see that FP is same as FN, In this case, the 'cost' of FP/FN are equal, so micro average accuracy is will be sufficient to evaluate my model\n",
    "\n",
    "> In multiclass evaluation accuracy=recall=precision=f1 for 'micro' average\n",
    "\n",
    "> Here Iam using micro-avergaing score as there is need to weight each prediction equally\n",
    "\n",
    "**As Accuracy,recall,Precision,f1 score are equal. Iam considering Accuracy as models best performance metric.**\n"
   ]
  },
  {
   "cell_type": "code",
   "execution_count": 11,
   "id": "c79acb39-9e8f-4e16-bdee-c77730403df4",
   "metadata": {},
   "outputs": [
    {
     "name": "stdout",
     "output_type": "stream",
     "text": [
      "0.9268518518518518\n"
     ]
    }
   ],
   "source": [
    "logreg_acc= accuracy_score(y_test, model_preds)\n",
    "print(logreg_acc)"
   ]
  },
  {
   "cell_type": "code",
   "execution_count": 12,
   "id": "7b756af4-6260-4cb7-8314-0fedc7e4669c",
   "metadata": {},
   "outputs": [
    {
     "data": {
      "text/plain": [
       "0.9268518518518518"
      ]
     },
     "execution_count": 12,
     "metadata": {},
     "output_type": "execute_result"
    }
   ],
   "source": [
    "precision_score(y_test, model_preds, average='micro')"
   ]
  },
  {
   "cell_type": "code",
   "execution_count": 13,
   "id": "f10b2aca-81d1-411d-bd49-1f7eaa7380f5",
   "metadata": {},
   "outputs": [
    {
     "data": {
      "text/plain": [
       "0.9268518518518518"
      ]
     },
     "execution_count": 13,
     "metadata": {},
     "output_type": "execute_result"
    }
   ],
   "source": [
    "recall_score(y_test, model_preds, average='micro')"
   ]
  },
  {
   "cell_type": "code",
   "execution_count": 14,
   "id": "3d5fb642-7b33-4371-826f-3cb2954b35fd",
   "metadata": {},
   "outputs": [
    {
     "data": {
      "text/plain": [
       "0.9268518518518518"
      ]
     },
     "execution_count": 14,
     "metadata": {},
     "output_type": "execute_result"
    }
   ],
   "source": [
    "f1_score(y_test, model_preds, average='micro')"
   ]
  },
  {
   "cell_type": "markdown",
   "id": "7f2b8b52-96e9-4e9b-ab8d-fc579b64729f",
   "metadata": {},
   "source": [
    "> As We considered Micro averaging, Just checking the various performance metric values(Its evident that all has same value(0.9518518518518518))\n",
    "\n",
    "> From next model, lets just calculate and print accuracy only"
   ]
  },
  {
   "cell_type": "code",
   "execution_count": 15,
   "id": "40c2a6ff-a0bf-47f5-9c63-2b48173d9929",
   "metadata": {},
   "outputs": [
    {
     "name": "stdout",
     "output_type": "stream",
     "text": [
      "              precision    recall  f1-score   support\n",
      "\n",
      "           1       0.64      0.78      0.70        41\n",
      "           2       0.45      0.98      0.62       115\n",
      "           3       1.00      0.93      0.96      2004\n",
      "\n",
      "    accuracy                           0.93      2160\n",
      "   macro avg       0.70      0.90      0.76      2160\n",
      "weighted avg       0.96      0.93      0.94      2160\n",
      "\n"
     ]
    }
   ],
   "source": [
    "print(classification_report(y_test, model_preds))"
   ]
  },
  {
   "cell_type": "code",
   "execution_count": 16,
   "id": "a7e27298-b77e-4cd3-825a-b696979c6a18",
   "metadata": {},
   "outputs": [],
   "source": [
    "performance = pd.concat([performance, pd.DataFrame({'model':\"Log Reg\", \n",
    "                                                    'Accuracy': logreg_acc }, index=[0])])"
   ]
  },
  {
   "cell_type": "code",
   "execution_count": 17,
   "id": "fa95c7fd-a85b-4f75-b5d1-9dba914acd67",
   "metadata": {},
   "outputs": [
    {
     "data": {
      "text/html": [
       "<div>\n",
       "<style scoped>\n",
       "    .dataframe tbody tr th:only-of-type {\n",
       "        vertical-align: middle;\n",
       "    }\n",
       "\n",
       "    .dataframe tbody tr th {\n",
       "        vertical-align: top;\n",
       "    }\n",
       "\n",
       "    .dataframe thead th {\n",
       "        text-align: right;\n",
       "    }\n",
       "</style>\n",
       "<table border=\"1\" class=\"dataframe\">\n",
       "  <thead>\n",
       "    <tr style=\"text-align: right;\">\n",
       "      <th></th>\n",
       "      <th>model</th>\n",
       "      <th>Accuracy</th>\n",
       "    </tr>\n",
       "  </thead>\n",
       "  <tbody>\n",
       "    <tr>\n",
       "      <th>0</th>\n",
       "      <td>Log Reg</td>\n",
       "      <td>0.926852</td>\n",
       "    </tr>\n",
       "  </tbody>\n",
       "</table>\n",
       "</div>"
      ],
      "text/plain": [
       "     model  Accuracy\n",
       "0  Log Reg  0.926852"
      ]
     },
     "execution_count": 17,
     "metadata": {},
     "output_type": "execute_result"
    }
   ],
   "source": [
    "performance"
   ]
  },
  {
   "cell_type": "markdown",
   "id": "35b5a698-a248-4c79-9fd1-5ad17dc272ef",
   "metadata": {},
   "source": [
    "### Logistic Regression - RandomSearchCV "
   ]
  },
  {
   "cell_type": "code",
   "execution_count": 18,
   "id": "3b8d44d7-4e49-4c65-adda-5b3da38e4fe0",
   "metadata": {},
   "outputs": [
    {
     "name": "stdout",
     "output_type": "stream",
     "text": [
      "The best accuracy score is 0.9642574257425742\n",
      "... with parameters: {'C': 100}\n"
     ]
    }
   ],
   "source": [
    "#prepare the hyperparameter list to tune\n",
    "hyperparameter_list = {'C':[0.001, 0.01, 0.1, 1, 10, 100]\n",
    "                     }\n",
    "\n",
    "score_measure = \"accuracy\"\n",
    "\n",
    "#create a random search cv object\n",
    "random_search_cv_log = RandomizedSearchCV(estimator=log_reg_model,\n",
    "                                     param_distributions=hyperparameter_list,\n",
    "                                     cv=5,\n",
    "                                          scoring=score_measure,\n",
    "                                     n_iter=10,\n",
    "                                     n_jobs=-1\n",
    "                                    )\n",
    "\n",
    "_ = random_search_cv_log.fit(X_train, y_train)\n",
    "\n",
    "print(f\"The best {score_measure} score is {random_search_cv_log.best_score_}\")\n",
    "print(f\"... with parameters: {random_search_cv_log.best_params_}\")\n",
    "\n",
    "bestRecallTree = random_search_cv_log.best_estimator_\n"
   ]
  },
  {
   "cell_type": "code",
   "execution_count": 19,
   "id": "7cc490ce-7c86-4772-a41a-c888b2943cc9",
   "metadata": {},
   "outputs": [
    {
     "name": "stdout",
     "output_type": "stream",
     "text": [
      "0.9569444444444445\n"
     ]
    }
   ],
   "source": [
    "model_preds = random_search_cv_log.predict(X_test)\n",
    "c_matrix = confusion_matrix(y_test, model_preds)\n",
    "rand_logreg_acc= accuracy_score(y_test, model_preds)\n",
    "print(rand_logreg_acc)"
   ]
  },
  {
   "cell_type": "code",
   "execution_count": 20,
   "id": "1f2ed9ca-64bd-4660-837a-aa002d2404ad",
   "metadata": {},
   "outputs": [],
   "source": [
    "c_matrix = confusion_matrix(y_test, random_search_cv_log.predict(X_test))\n",
    "\n",
    "performance = pd.concat([performance, pd.DataFrame({'model':\"Rand Log Reg\", \n",
    "                                                    'Accuracy': rand_logreg_acc }, index=[0])])"
   ]
  },
  {
   "cell_type": "code",
   "execution_count": 21,
   "id": "985ca00a-fb1c-497e-8022-1642c68dc092",
   "metadata": {},
   "outputs": [
    {
     "data": {
      "text/html": [
       "<div>\n",
       "<style scoped>\n",
       "    .dataframe tbody tr th:only-of-type {\n",
       "        vertical-align: middle;\n",
       "    }\n",
       "\n",
       "    .dataframe tbody tr th {\n",
       "        vertical-align: top;\n",
       "    }\n",
       "\n",
       "    .dataframe thead th {\n",
       "        text-align: right;\n",
       "    }\n",
       "</style>\n",
       "<table border=\"1\" class=\"dataframe\">\n",
       "  <thead>\n",
       "    <tr style=\"text-align: right;\">\n",
       "      <th></th>\n",
       "      <th>model</th>\n",
       "      <th>Accuracy</th>\n",
       "    </tr>\n",
       "  </thead>\n",
       "  <tbody>\n",
       "    <tr>\n",
       "      <th>0</th>\n",
       "      <td>Log Reg</td>\n",
       "      <td>0.926852</td>\n",
       "    </tr>\n",
       "    <tr>\n",
       "      <th>0</th>\n",
       "      <td>Rand Log Reg</td>\n",
       "      <td>0.956944</td>\n",
       "    </tr>\n",
       "  </tbody>\n",
       "</table>\n",
       "</div>"
      ],
      "text/plain": [
       "          model  Accuracy\n",
       "0       Log Reg  0.926852\n",
       "0  Rand Log Reg  0.956944"
      ]
     },
     "execution_count": 21,
     "metadata": {},
     "output_type": "execute_result"
    }
   ],
   "source": [
    "performance"
   ]
  },
  {
   "cell_type": "markdown",
   "id": "6fe46023-d0c8-4a07-8857-0ebadcfe09e0",
   "metadata": {},
   "source": [
    "### Logistic Regression - GridSearchCV "
   ]
  },
  {
   "cell_type": "code",
   "execution_count": 22,
   "id": "ef634aeb-4760-4c49-86b6-631a513c1f2b",
   "metadata": {},
   "outputs": [
    {
     "name": "stdout",
     "output_type": "stream",
     "text": [
      "The best accuracy score is 0.9622772277227722\n",
      "... with parameters: {'C': 10}\n"
     ]
    }
   ],
   "source": [
    "score_measure = \"accuracy\"\n",
    "\n",
    "#Define the parameter grid\n",
    "param_grid = {\n",
    "    'C':[0.1,1,10]\n",
    "}\n",
    "\n",
    "grid_search = GridSearchCV(estimator=log_reg_model, param_grid=param_grid, cv = 5, scoring=score_measure)\n",
    "\n",
    "\n",
    "_ = grid_search.fit(X_train, y_train)\n",
    "\n",
    "print(f\"The best {score_measure} score is {grid_search.best_score_}\")\n",
    "print(f\"... with parameters: {grid_search.best_params_}\")\n",
    "\n",
    "bestRecallTree = grid_search.best_estimator_"
   ]
  },
  {
   "cell_type": "code",
   "execution_count": 23,
   "id": "cf9d2d47-aec6-4d7c-b3d1-0c3b0004c75b",
   "metadata": {},
   "outputs": [
    {
     "name": "stdout",
     "output_type": "stream",
     "text": [
      "0.9546296296296296\n"
     ]
    }
   ],
   "source": [
    "model_preds = grid_search.predict(X_test)\n",
    "c_matrix = confusion_matrix(y_test, model_preds)\n",
    "grid_logreg_acc= accuracy_score(y_test, model_preds)\n",
    "print(grid_logreg_acc)"
   ]
  },
  {
   "cell_type": "code",
   "execution_count": 24,
   "id": "2ad98b53-6121-4365-bf44-349915650534",
   "metadata": {},
   "outputs": [
    {
     "data": {
      "text/html": [
       "<div>\n",
       "<style scoped>\n",
       "    .dataframe tbody tr th:only-of-type {\n",
       "        vertical-align: middle;\n",
       "    }\n",
       "\n",
       "    .dataframe tbody tr th {\n",
       "        vertical-align: top;\n",
       "    }\n",
       "\n",
       "    .dataframe thead th {\n",
       "        text-align: right;\n",
       "    }\n",
       "</style>\n",
       "<table border=\"1\" class=\"dataframe\">\n",
       "  <thead>\n",
       "    <tr style=\"text-align: right;\">\n",
       "      <th></th>\n",
       "      <th>model</th>\n",
       "      <th>Accuracy</th>\n",
       "    </tr>\n",
       "  </thead>\n",
       "  <tbody>\n",
       "    <tr>\n",
       "      <th>0</th>\n",
       "      <td>Log Reg</td>\n",
       "      <td>0.926852</td>\n",
       "    </tr>\n",
       "    <tr>\n",
       "      <th>0</th>\n",
       "      <td>Rand Log Reg</td>\n",
       "      <td>0.956944</td>\n",
       "    </tr>\n",
       "    <tr>\n",
       "      <th>0</th>\n",
       "      <td>Grid Log Reg</td>\n",
       "      <td>0.954630</td>\n",
       "    </tr>\n",
       "  </tbody>\n",
       "</table>\n",
       "</div>"
      ],
      "text/plain": [
       "          model  Accuracy\n",
       "0       Log Reg  0.926852\n",
       "0  Rand Log Reg  0.956944\n",
       "0  Grid Log Reg  0.954630"
      ]
     },
     "execution_count": 24,
     "metadata": {},
     "output_type": "execute_result"
    }
   ],
   "source": [
    "c_matrix = confusion_matrix(y_test, grid_search.predict(X_test))\n",
    "performance = pd.concat([performance, pd.DataFrame({'model':\"Grid Log Reg\", \n",
    "                                                    'Accuracy': grid_logreg_acc }, index=[0])])\n",
    "performance"
   ]
  },
  {
   "cell_type": "markdown",
   "id": "7f870c14-ee7b-410b-887c-ac5eb4ef0360",
   "metadata": {},
   "source": [
    "### SVM"
   ]
  },
  {
   "cell_type": "markdown",
   "id": "351120ff-c2a8-4303-9c49-6da9852e88f7",
   "metadata": {},
   "source": [
    "#### 3.1 Fit a SVM classification model using linear kernal"
   ]
  },
  {
   "cell_type": "code",
   "execution_count": 25,
   "id": "edf11adf-06e7-4ab1-8e02-60023a869b90",
   "metadata": {},
   "outputs": [],
   "source": [
    "svm_lin_model = SVC(kernel=\"linear\")\n",
    "_ = svm_lin_model.fit(X_train, np.ravel(y_train))"
   ]
  },
  {
   "cell_type": "code",
   "execution_count": 26,
   "id": "dfac84c0-b063-4035-84d6-1f82431f2168",
   "metadata": {},
   "outputs": [
    {
     "name": "stdout",
     "output_type": "stream",
     "text": [
      "0.9375\n"
     ]
    }
   ],
   "source": [
    "model_preds = svm_lin_model.predict(X_test)\n",
    "c_matrix = confusion_matrix(y_test, model_preds)\n",
    "lin_svm_acc= accuracy_score(y_test, model_preds)\n",
    "print(lin_svm_acc)"
   ]
  },
  {
   "cell_type": "code",
   "execution_count": 27,
   "id": "bb238fc1-6939-435c-94ad-ddf06534b1fc",
   "metadata": {},
   "outputs": [
    {
     "data": {
      "text/html": [
       "<div>\n",
       "<style scoped>\n",
       "    .dataframe tbody tr th:only-of-type {\n",
       "        vertical-align: middle;\n",
       "    }\n",
       "\n",
       "    .dataframe tbody tr th {\n",
       "        vertical-align: top;\n",
       "    }\n",
       "\n",
       "    .dataframe thead th {\n",
       "        text-align: right;\n",
       "    }\n",
       "</style>\n",
       "<table border=\"1\" class=\"dataframe\">\n",
       "  <thead>\n",
       "    <tr style=\"text-align: right;\">\n",
       "      <th></th>\n",
       "      <th>model</th>\n",
       "      <th>Accuracy</th>\n",
       "    </tr>\n",
       "  </thead>\n",
       "  <tbody>\n",
       "    <tr>\n",
       "      <th>0</th>\n",
       "      <td>Log Reg</td>\n",
       "      <td>0.926852</td>\n",
       "    </tr>\n",
       "    <tr>\n",
       "      <th>0</th>\n",
       "      <td>Rand Log Reg</td>\n",
       "      <td>0.956944</td>\n",
       "    </tr>\n",
       "    <tr>\n",
       "      <th>0</th>\n",
       "      <td>Grid Log Reg</td>\n",
       "      <td>0.954630</td>\n",
       "    </tr>\n",
       "    <tr>\n",
       "      <th>0</th>\n",
       "      <td>Linear SVM</td>\n",
       "      <td>0.937500</td>\n",
       "    </tr>\n",
       "  </tbody>\n",
       "</table>\n",
       "</div>"
      ],
      "text/plain": [
       "          model  Accuracy\n",
       "0       Log Reg  0.926852\n",
       "0  Rand Log Reg  0.956944\n",
       "0  Grid Log Reg  0.954630\n",
       "0    Linear SVM  0.937500"
      ]
     },
     "execution_count": 27,
     "metadata": {},
     "output_type": "execute_result"
    }
   ],
   "source": [
    "performance = pd.concat([performance, pd.DataFrame({'model':\"Linear SVM\", \n",
    "                                                    'Accuracy': lin_svm_acc }, index=[0])])\n",
    "performance"
   ]
  },
  {
   "cell_type": "markdown",
   "id": "cd27308d-c5be-414a-a964-130b28daf569",
   "metadata": {},
   "source": [
    "### SVM Linear - RandomSeearchCV"
   ]
  },
  {
   "cell_type": "code",
   "execution_count": 28,
   "id": "9daf28c7-972b-4302-afc5-3c549c337791",
   "metadata": {},
   "outputs": [
    {
     "name": "stdout",
     "output_type": "stream",
     "text": [
      "Fitting 5 folds for each of 12 candidates, totalling 60 fits\n",
      "The best accuracy score is 0.9681980198019801\n",
      "... with parameters: {'max_iter': 1500, 'C': 10}\n"
     ]
    }
   ],
   "source": [
    "score_measure = \"accuracy\"\n",
    "# Create parameter grid\n",
    "param_grid = {'C': [0.1, 1, 10, 100],\n",
    "              'max_iter': [1000, 1500, 2000]}\n",
    "\n",
    "\n",
    "# Create the random search model\n",
    "rand_search = RandomizedSearchCV(svm_lin_model, param_grid, cv=5, n_iter=50, scoring=score_measure, n_jobs=-1, verbose=1)\n",
    "\n",
    "\n",
    "_ = rand_search.fit(X_train, y_train)\n",
    "\n",
    "print(f\"The best {score_measure} score is {rand_search.best_score_}\")\n",
    "print(f\"... with parameters: {rand_search.best_params_}\")\n",
    "\n",
    "bestRecallTree = rand_search.best_estimator_"
   ]
  },
  {
   "cell_type": "code",
   "execution_count": 29,
   "id": "43b5c141-5517-4c65-8d81-daf3d70f0f9f",
   "metadata": {},
   "outputs": [
    {
     "name": "stdout",
     "output_type": "stream",
     "text": [
      "0.9435185185185185\n"
     ]
    }
   ],
   "source": [
    "model_preds = rand_search.predict(X_test)\n",
    "lin_svm_acc= accuracy_score(y_test, model_preds)\n",
    "print(lin_svm_acc)"
   ]
  },
  {
   "cell_type": "code",
   "execution_count": 30,
   "id": "b0085e4d-c4bf-4998-badb-ba4600839411",
   "metadata": {},
   "outputs": [
    {
     "data": {
      "text/html": [
       "<div>\n",
       "<style scoped>\n",
       "    .dataframe tbody tr th:only-of-type {\n",
       "        vertical-align: middle;\n",
       "    }\n",
       "\n",
       "    .dataframe tbody tr th {\n",
       "        vertical-align: top;\n",
       "    }\n",
       "\n",
       "    .dataframe thead th {\n",
       "        text-align: right;\n",
       "    }\n",
       "</style>\n",
       "<table border=\"1\" class=\"dataframe\">\n",
       "  <thead>\n",
       "    <tr style=\"text-align: right;\">\n",
       "      <th></th>\n",
       "      <th>model</th>\n",
       "      <th>Accuracy</th>\n",
       "    </tr>\n",
       "  </thead>\n",
       "  <tbody>\n",
       "    <tr>\n",
       "      <th>0</th>\n",
       "      <td>Log Reg</td>\n",
       "      <td>0.926852</td>\n",
       "    </tr>\n",
       "    <tr>\n",
       "      <th>0</th>\n",
       "      <td>Rand Log Reg</td>\n",
       "      <td>0.956944</td>\n",
       "    </tr>\n",
       "    <tr>\n",
       "      <th>0</th>\n",
       "      <td>Grid Log Reg</td>\n",
       "      <td>0.954630</td>\n",
       "    </tr>\n",
       "    <tr>\n",
       "      <th>0</th>\n",
       "      <td>Linear SVM</td>\n",
       "      <td>0.937500</td>\n",
       "    </tr>\n",
       "    <tr>\n",
       "      <th>0</th>\n",
       "      <td>Linear Rand SVM</td>\n",
       "      <td>0.943519</td>\n",
       "    </tr>\n",
       "  </tbody>\n",
       "</table>\n",
       "</div>"
      ],
      "text/plain": [
       "             model  Accuracy\n",
       "0          Log Reg  0.926852\n",
       "0     Rand Log Reg  0.956944\n",
       "0     Grid Log Reg  0.954630\n",
       "0       Linear SVM  0.937500\n",
       "0  Linear Rand SVM  0.943519"
      ]
     },
     "execution_count": 30,
     "metadata": {},
     "output_type": "execute_result"
    }
   ],
   "source": [
    "c_matrix = confusion_matrix(y_test, rand_search.predict(X_test))\n",
    "performance = pd.concat([performance, pd.DataFrame({'model':\"Linear Rand SVM\", \n",
    "                                                    'Accuracy': lin_svm_acc }, index=[0])])\n",
    "performance"
   ]
  },
  {
   "cell_type": "markdown",
   "id": "917a02ec-e0a7-464c-9787-8468d16c12c0",
   "metadata": {},
   "source": [
    "### SVM Linear - GridSearchCV"
   ]
  },
  {
   "cell_type": "code",
   "execution_count": 31,
   "id": "a18805a4-9235-47a2-9e97-19379e30b093",
   "metadata": {},
   "outputs": [
    {
     "name": "stdout",
     "output_type": "stream",
     "text": [
      "The best accuracy score is 0.9661782178217821\n",
      "... with parameters: {'C': 100, 'gamma': 1, 'kernel': 'linear'}\n"
     ]
    }
   ],
   "source": [
    "score_measure = \"accuracy\"\n",
    "kfolds = 5\n",
    "\n",
    "#define the parameter grid\n",
    "param_grid = {'C': [0.1, 1, 10, 100],  \n",
    "              'gamma': [1, 0.1, 0.01, 0.001], \n",
    "              'kernel': ['linear']}  \n",
    "#instantiate the GridSearchCV object\n",
    "grid = GridSearchCV(svm_lin_model, param_grid, cv=5,scoring=score_measure)\n",
    "\n",
    "\n",
    "_ = grid.fit(X_train, y_train)\n",
    "\n",
    "print(f\"The best {score_measure} score is {grid.best_score_}\")\n",
    "print(f\"... with parameters: {grid.best_params_}\")\n",
    "\n",
    "bestRecallTree = grid.best_estimator_\n"
   ]
  },
  {
   "cell_type": "code",
   "execution_count": 32,
   "id": "34819ce9-96eb-4467-933c-dd108994e65a",
   "metadata": {},
   "outputs": [
    {
     "name": "stdout",
     "output_type": "stream",
     "text": [
      "0.9555555555555556\n"
     ]
    }
   ],
   "source": [
    "model_preds = grid.predict(X_test)\n",
    "lingrid_svm_acc= accuracy_score(y_test, model_preds)\n",
    "print(lingrid_svm_acc)"
   ]
  },
  {
   "cell_type": "code",
   "execution_count": 33,
   "id": "b0b462cb-1683-4cbd-bc58-1ee6dfa20bba",
   "metadata": {},
   "outputs": [
    {
     "data": {
      "text/html": [
       "<div>\n",
       "<style scoped>\n",
       "    .dataframe tbody tr th:only-of-type {\n",
       "        vertical-align: middle;\n",
       "    }\n",
       "\n",
       "    .dataframe tbody tr th {\n",
       "        vertical-align: top;\n",
       "    }\n",
       "\n",
       "    .dataframe thead th {\n",
       "        text-align: right;\n",
       "    }\n",
       "</style>\n",
       "<table border=\"1\" class=\"dataframe\">\n",
       "  <thead>\n",
       "    <tr style=\"text-align: right;\">\n",
       "      <th></th>\n",
       "      <th>model</th>\n",
       "      <th>Accuracy</th>\n",
       "    </tr>\n",
       "  </thead>\n",
       "  <tbody>\n",
       "    <tr>\n",
       "      <th>0</th>\n",
       "      <td>Log Reg</td>\n",
       "      <td>0.926852</td>\n",
       "    </tr>\n",
       "    <tr>\n",
       "      <th>0</th>\n",
       "      <td>Rand Log Reg</td>\n",
       "      <td>0.956944</td>\n",
       "    </tr>\n",
       "    <tr>\n",
       "      <th>0</th>\n",
       "      <td>Grid Log Reg</td>\n",
       "      <td>0.954630</td>\n",
       "    </tr>\n",
       "    <tr>\n",
       "      <th>0</th>\n",
       "      <td>Linear SVM</td>\n",
       "      <td>0.937500</td>\n",
       "    </tr>\n",
       "    <tr>\n",
       "      <th>0</th>\n",
       "      <td>Linear Rand SVM</td>\n",
       "      <td>0.943519</td>\n",
       "    </tr>\n",
       "    <tr>\n",
       "      <th>0</th>\n",
       "      <td>Linear Grid SVM</td>\n",
       "      <td>0.955556</td>\n",
       "    </tr>\n",
       "  </tbody>\n",
       "</table>\n",
       "</div>"
      ],
      "text/plain": [
       "             model  Accuracy\n",
       "0          Log Reg  0.926852\n",
       "0     Rand Log Reg  0.956944\n",
       "0     Grid Log Reg  0.954630\n",
       "0       Linear SVM  0.937500\n",
       "0  Linear Rand SVM  0.943519\n",
       "0  Linear Grid SVM  0.955556"
      ]
     },
     "execution_count": 33,
     "metadata": {},
     "output_type": "execute_result"
    }
   ],
   "source": [
    "c_matrix = confusion_matrix(y_test, grid.predict(X_test))\n",
    "performance = pd.concat([performance, pd.DataFrame({'model':\"Linear Grid SVM\", \n",
    "                                                    'Accuracy': lingrid_svm_acc}, index=[0])])\n",
    "performance"
   ]
  },
  {
   "cell_type": "markdown",
   "id": "6d6cfc39-5c26-4fe1-81a7-ad7ef6798507",
   "metadata": {},
   "source": [
    "### 3.2 Fit a SVM classification model using rbf kernal"
   ]
  },
  {
   "cell_type": "code",
   "execution_count": 34,
   "id": "c921b5c8-b38c-40f7-9389-3d911b4d04d7",
   "metadata": {},
   "outputs": [],
   "source": [
    "svm_rbf_model = SVC(kernel=\"rbf\", C=10, gamma='scale')\n",
    "_ = svm_rbf_model.fit(X_train, np.ravel(y_train))"
   ]
  },
  {
   "cell_type": "code",
   "execution_count": 35,
   "id": "f9a932d8-8af1-4989-b51b-5d0aa38bce84",
   "metadata": {},
   "outputs": [],
   "source": [
    "model_preds = svm_rbf_model.predict(X_test)\n",
    "c_matrix = confusion_matrix(y_test, model_preds)"
   ]
  },
  {
   "cell_type": "code",
   "execution_count": 36,
   "id": "3e02f3c4-d8a1-45f8-8923-45c439c690b4",
   "metadata": {},
   "outputs": [
    {
     "name": "stdout",
     "output_type": "stream",
     "text": [
      "0.8462962962962963\n"
     ]
    }
   ],
   "source": [
    "rbf_svm_acc= accuracy_score(y_test, model_preds)\n",
    "print(rbf_svm_acc)"
   ]
  },
  {
   "cell_type": "code",
   "execution_count": 37,
   "id": "93c8b73c-9c97-4a37-b38b-f4b4d41921a0",
   "metadata": {},
   "outputs": [
    {
     "data": {
      "text/html": [
       "<div>\n",
       "<style scoped>\n",
       "    .dataframe tbody tr th:only-of-type {\n",
       "        vertical-align: middle;\n",
       "    }\n",
       "\n",
       "    .dataframe tbody tr th {\n",
       "        vertical-align: top;\n",
       "    }\n",
       "\n",
       "    .dataframe thead th {\n",
       "        text-align: right;\n",
       "    }\n",
       "</style>\n",
       "<table border=\"1\" class=\"dataframe\">\n",
       "  <thead>\n",
       "    <tr style=\"text-align: right;\">\n",
       "      <th></th>\n",
       "      <th>model</th>\n",
       "      <th>Accuracy</th>\n",
       "    </tr>\n",
       "  </thead>\n",
       "  <tbody>\n",
       "    <tr>\n",
       "      <th>0</th>\n",
       "      <td>Log Reg</td>\n",
       "      <td>0.926852</td>\n",
       "    </tr>\n",
       "    <tr>\n",
       "      <th>0</th>\n",
       "      <td>Rand Log Reg</td>\n",
       "      <td>0.956944</td>\n",
       "    </tr>\n",
       "    <tr>\n",
       "      <th>0</th>\n",
       "      <td>Grid Log Reg</td>\n",
       "      <td>0.954630</td>\n",
       "    </tr>\n",
       "    <tr>\n",
       "      <th>0</th>\n",
       "      <td>Linear SVM</td>\n",
       "      <td>0.937500</td>\n",
       "    </tr>\n",
       "    <tr>\n",
       "      <th>0</th>\n",
       "      <td>Linear Rand SVM</td>\n",
       "      <td>0.943519</td>\n",
       "    </tr>\n",
       "    <tr>\n",
       "      <th>0</th>\n",
       "      <td>Linear Grid SVM</td>\n",
       "      <td>0.955556</td>\n",
       "    </tr>\n",
       "    <tr>\n",
       "      <th>0</th>\n",
       "      <td>rbf SVM</td>\n",
       "      <td>0.846296</td>\n",
       "    </tr>\n",
       "  </tbody>\n",
       "</table>\n",
       "</div>"
      ],
      "text/plain": [
       "             model  Accuracy\n",
       "0          Log Reg  0.926852\n",
       "0     Rand Log Reg  0.956944\n",
       "0     Grid Log Reg  0.954630\n",
       "0       Linear SVM  0.937500\n",
       "0  Linear Rand SVM  0.943519\n",
       "0  Linear Grid SVM  0.955556\n",
       "0          rbf SVM  0.846296"
      ]
     },
     "execution_count": 37,
     "metadata": {},
     "output_type": "execute_result"
    }
   ],
   "source": [
    "performance = pd.concat([performance, pd.DataFrame({'model':\"rbf SVM\", \n",
    "                                                    'Accuracy': rbf_svm_acc }, index=[0])])\n",
    "performance"
   ]
  },
  {
   "cell_type": "markdown",
   "id": "e92e2ba7-4ee8-495c-9af1-2a4c26375756",
   "metadata": {},
   "source": [
    "### SVM rbf - RandomSearchCV"
   ]
  },
  {
   "cell_type": "code",
   "execution_count": 38,
   "id": "044c3e90-74e3-40f2-883a-87fef903d105",
   "metadata": {},
   "outputs": [
    {
     "name": "stdout",
     "output_type": "stream",
     "text": [
      "Fitting 5 folds for each of 12 candidates, totalling 60 fits\n",
      "The best accuracy score is 0.9164950495049504\n",
      "... with parameters: {'max_iter': 1000, 'C': 10}\n"
     ]
    }
   ],
   "source": [
    "from sklearn.model_selection import RandomizedSearchCV\n",
    "\n",
    "score_measure = \"accuracy\"\n",
    "# Create parameter grid\n",
    "param_grid = {'C': [0.1, 1, 10, 100],\n",
    "              'max_iter': [1000, 1500, 2000]}\n",
    "\n",
    "# Create the random search model\n",
    "rand_search_rbf = RandomizedSearchCV(svm_rbf_model, param_grid, cv=5, n_iter=50, scoring=score_measure, n_jobs=-1, verbose=1)\n",
    "\n",
    "\n",
    "_ = rand_search_rbf.fit(X_train, y_train)\n",
    "\n",
    "print(f\"The best {score_measure} score is {rand_search_rbf.best_score_}\")\n",
    "print(f\"... with parameters: {rand_search_rbf.best_params_}\")\n",
    "\n",
    "bestRecallTree = rand_search_rbf.best_estimator_"
   ]
  },
  {
   "cell_type": "code",
   "execution_count": 39,
   "id": "5720ffc5-cbdd-4d30-b383-9633b2a5c43d",
   "metadata": {},
   "outputs": [
    {
     "name": "stdout",
     "output_type": "stream",
     "text": [
      "0.8462962962962963\n"
     ]
    }
   ],
   "source": [
    "model_preds = rand_search_rbf.predict(X_test)\n",
    "rand_rbf_acc= accuracy_score(y_test, model_preds)\n",
    "print(rand_rbf_acc)"
   ]
  },
  {
   "cell_type": "code",
   "execution_count": 40,
   "id": "efbc7cd7-6a52-4746-8373-c534287da23b",
   "metadata": {},
   "outputs": [
    {
     "data": {
      "text/html": [
       "<div>\n",
       "<style scoped>\n",
       "    .dataframe tbody tr th:only-of-type {\n",
       "        vertical-align: middle;\n",
       "    }\n",
       "\n",
       "    .dataframe tbody tr th {\n",
       "        vertical-align: top;\n",
       "    }\n",
       "\n",
       "    .dataframe thead th {\n",
       "        text-align: right;\n",
       "    }\n",
       "</style>\n",
       "<table border=\"1\" class=\"dataframe\">\n",
       "  <thead>\n",
       "    <tr style=\"text-align: right;\">\n",
       "      <th></th>\n",
       "      <th>model</th>\n",
       "      <th>Accuracy</th>\n",
       "    </tr>\n",
       "  </thead>\n",
       "  <tbody>\n",
       "    <tr>\n",
       "      <th>0</th>\n",
       "      <td>Log Reg</td>\n",
       "      <td>0.926852</td>\n",
       "    </tr>\n",
       "    <tr>\n",
       "      <th>0</th>\n",
       "      <td>Rand Log Reg</td>\n",
       "      <td>0.956944</td>\n",
       "    </tr>\n",
       "    <tr>\n",
       "      <th>0</th>\n",
       "      <td>Grid Log Reg</td>\n",
       "      <td>0.954630</td>\n",
       "    </tr>\n",
       "    <tr>\n",
       "      <th>0</th>\n",
       "      <td>Linear SVM</td>\n",
       "      <td>0.937500</td>\n",
       "    </tr>\n",
       "    <tr>\n",
       "      <th>0</th>\n",
       "      <td>Linear Rand SVM</td>\n",
       "      <td>0.943519</td>\n",
       "    </tr>\n",
       "    <tr>\n",
       "      <th>0</th>\n",
       "      <td>Linear Grid SVM</td>\n",
       "      <td>0.955556</td>\n",
       "    </tr>\n",
       "    <tr>\n",
       "      <th>0</th>\n",
       "      <td>rbf SVM</td>\n",
       "      <td>0.846296</td>\n",
       "    </tr>\n",
       "    <tr>\n",
       "      <th>0</th>\n",
       "      <td>rbf rand svm</td>\n",
       "      <td>0.846296</td>\n",
       "    </tr>\n",
       "  </tbody>\n",
       "</table>\n",
       "</div>"
      ],
      "text/plain": [
       "             model  Accuracy\n",
       "0          Log Reg  0.926852\n",
       "0     Rand Log Reg  0.956944\n",
       "0     Grid Log Reg  0.954630\n",
       "0       Linear SVM  0.937500\n",
       "0  Linear Rand SVM  0.943519\n",
       "0  Linear Grid SVM  0.955556\n",
       "0          rbf SVM  0.846296\n",
       "0     rbf rand svm  0.846296"
      ]
     },
     "execution_count": 40,
     "metadata": {},
     "output_type": "execute_result"
    }
   ],
   "source": [
    "c_matrix = confusion_matrix(y_test, rand_search_rbf.predict(X_test))\n",
    "performance = pd.concat([performance, pd.DataFrame({'model':\"rbf rand svm\", \n",
    "                                                    'Accuracy': rand_rbf_acc }, index=[0])])\n",
    "performance"
   ]
  },
  {
   "cell_type": "markdown",
   "id": "ce85a142-319c-45a1-acf4-5b81a14da0ce",
   "metadata": {},
   "source": [
    "### SVM rbf - GridSearchCV"
   ]
  },
  {
   "cell_type": "code",
   "execution_count": 41,
   "id": "7cb6ab26-5a7f-4599-9e05-18f958782314",
   "metadata": {},
   "outputs": [
    {
     "name": "stdout",
     "output_type": "stream",
     "text": [
      "The best accuracy score is 0.9523366336633664\n",
      "... with parameters: {'C': 100, 'gamma': 0.01, 'kernel': 'rbf'}\n"
     ]
    }
   ],
   "source": [
    "score_measure = \"accuracy\"\n",
    "\n",
    "#define the parameter grid\n",
    "param_grid = {'C': [0.1, 1, 10, 100],  \n",
    "              'gamma': [1, 0.1, 0.01, 0.001], \n",
    "              'kernel': ['rbf']}  \n",
    "#instantiate the GridSearchCV object\n",
    "grid = GridSearchCV(svm_rbf_model, param_grid, cv=5, scoring=score_measure)\n",
    "\n",
    "\n",
    "_ = grid.fit(X_train, y_train)\n",
    "\n",
    "print(f\"The best {score_measure} score is {grid.best_score_}\")\n",
    "print(f\"... with parameters: {grid.best_params_}\")\n",
    "\n",
    "bestRecallTree = grid.best_estimator_\n"
   ]
  },
  {
   "cell_type": "code",
   "execution_count": 42,
   "id": "4363badd-a9cc-4faa-a50f-6d6e8789b387",
   "metadata": {},
   "outputs": [
    {
     "name": "stdout",
     "output_type": "stream",
     "text": [
      "0.9361111111111111\n"
     ]
    }
   ],
   "source": [
    "model_preds = grid.predict(X_test)\n",
    "grid_rbf_acc= accuracy_score(y_test, model_preds)\n",
    "print(grid_rbf_acc)"
   ]
  },
  {
   "cell_type": "code",
   "execution_count": 43,
   "id": "62c836fd-62cf-46aa-a67b-947fee0573cb",
   "metadata": {},
   "outputs": [
    {
     "data": {
      "text/html": [
       "<div>\n",
       "<style scoped>\n",
       "    .dataframe tbody tr th:only-of-type {\n",
       "        vertical-align: middle;\n",
       "    }\n",
       "\n",
       "    .dataframe tbody tr th {\n",
       "        vertical-align: top;\n",
       "    }\n",
       "\n",
       "    .dataframe thead th {\n",
       "        text-align: right;\n",
       "    }\n",
       "</style>\n",
       "<table border=\"1\" class=\"dataframe\">\n",
       "  <thead>\n",
       "    <tr style=\"text-align: right;\">\n",
       "      <th></th>\n",
       "      <th>model</th>\n",
       "      <th>Accuracy</th>\n",
       "    </tr>\n",
       "  </thead>\n",
       "  <tbody>\n",
       "    <tr>\n",
       "      <th>0</th>\n",
       "      <td>Log Reg</td>\n",
       "      <td>0.926852</td>\n",
       "    </tr>\n",
       "    <tr>\n",
       "      <th>0</th>\n",
       "      <td>Rand Log Reg</td>\n",
       "      <td>0.956944</td>\n",
       "    </tr>\n",
       "    <tr>\n",
       "      <th>0</th>\n",
       "      <td>Grid Log Reg</td>\n",
       "      <td>0.954630</td>\n",
       "    </tr>\n",
       "    <tr>\n",
       "      <th>0</th>\n",
       "      <td>Linear SVM</td>\n",
       "      <td>0.937500</td>\n",
       "    </tr>\n",
       "    <tr>\n",
       "      <th>0</th>\n",
       "      <td>Linear Rand SVM</td>\n",
       "      <td>0.943519</td>\n",
       "    </tr>\n",
       "    <tr>\n",
       "      <th>0</th>\n",
       "      <td>Linear Grid SVM</td>\n",
       "      <td>0.955556</td>\n",
       "    </tr>\n",
       "    <tr>\n",
       "      <th>0</th>\n",
       "      <td>rbf SVM</td>\n",
       "      <td>0.846296</td>\n",
       "    </tr>\n",
       "    <tr>\n",
       "      <th>0</th>\n",
       "      <td>rbf rand svm</td>\n",
       "      <td>0.846296</td>\n",
       "    </tr>\n",
       "    <tr>\n",
       "      <th>0</th>\n",
       "      <td>rbf grid svm</td>\n",
       "      <td>0.936111</td>\n",
       "    </tr>\n",
       "  </tbody>\n",
       "</table>\n",
       "</div>"
      ],
      "text/plain": [
       "             model  Accuracy\n",
       "0          Log Reg  0.926852\n",
       "0     Rand Log Reg  0.956944\n",
       "0     Grid Log Reg  0.954630\n",
       "0       Linear SVM  0.937500\n",
       "0  Linear Rand SVM  0.943519\n",
       "0  Linear Grid SVM  0.955556\n",
       "0          rbf SVM  0.846296\n",
       "0     rbf rand svm  0.846296\n",
       "0     rbf grid svm  0.936111"
      ]
     },
     "execution_count": 43,
     "metadata": {},
     "output_type": "execute_result"
    }
   ],
   "source": [
    "c_matrix = confusion_matrix(y_test, grid.predict(X_test))\n",
    "performance = pd.concat([performance, pd.DataFrame({'model':\"rbf grid svm\", \n",
    "                                                    'Accuracy': grid_rbf_acc }, index=[0])])\n",
    "performance"
   ]
  },
  {
   "cell_type": "markdown",
   "id": "cfef70c9-bb73-4aeb-b66f-39550b797d1a",
   "metadata": {},
   "source": [
    "### 3.3 Fit a SVM classification model using polynomial kernal"
   ]
  },
  {
   "cell_type": "code",
   "execution_count": 44,
   "id": "f12c7cc2-5855-4170-bb6a-f3cd34453c31",
   "metadata": {},
   "outputs": [],
   "source": [
    " svm_poly_model= SVC(kernel=\"poly\", degree=3, coef0=1, C=10, probability = True)\n",
    "_ = svm_poly_model.fit(X_train, np.ravel(y_train))"
   ]
  },
  {
   "cell_type": "code",
   "execution_count": 45,
   "id": "050848ce-0901-4417-8bb1-2e58f8068d5e",
   "metadata": {},
   "outputs": [
    {
     "name": "stdout",
     "output_type": "stream",
     "text": [
      "0.9180555555555555\n"
     ]
    }
   ],
   "source": [
    "model_preds = svm_poly_model.predict(X_test)\n",
    "c_matrix = confusion_matrix(y_test, model_preds)\n",
    "poly_svm_acc= accuracy_score(y_test, model_preds)\n",
    "print(poly_svm_acc)"
   ]
  },
  {
   "cell_type": "code",
   "execution_count": 46,
   "id": "9c9d576d-3c23-4f6f-97a0-38c9bc144aba",
   "metadata": {},
   "outputs": [],
   "source": [
    "performance = pd.concat([performance, pd.DataFrame({'model':\"poly svm\", \n",
    "                                                    'Accuracy': poly_svm_acc}, index=[0])])"
   ]
  },
  {
   "cell_type": "code",
   "execution_count": 47,
   "id": "42bf27d7-343b-41ac-9bbd-76c079bcdce6",
   "metadata": {},
   "outputs": [
    {
     "data": {
      "text/html": [
       "<div>\n",
       "<style scoped>\n",
       "    .dataframe tbody tr th:only-of-type {\n",
       "        vertical-align: middle;\n",
       "    }\n",
       "\n",
       "    .dataframe tbody tr th {\n",
       "        vertical-align: top;\n",
       "    }\n",
       "\n",
       "    .dataframe thead th {\n",
       "        text-align: right;\n",
       "    }\n",
       "</style>\n",
       "<table border=\"1\" class=\"dataframe\">\n",
       "  <thead>\n",
       "    <tr style=\"text-align: right;\">\n",
       "      <th></th>\n",
       "      <th>model</th>\n",
       "      <th>Accuracy</th>\n",
       "    </tr>\n",
       "  </thead>\n",
       "  <tbody>\n",
       "    <tr>\n",
       "      <th>0</th>\n",
       "      <td>Log Reg</td>\n",
       "      <td>0.926852</td>\n",
       "    </tr>\n",
       "    <tr>\n",
       "      <th>0</th>\n",
       "      <td>Rand Log Reg</td>\n",
       "      <td>0.956944</td>\n",
       "    </tr>\n",
       "    <tr>\n",
       "      <th>0</th>\n",
       "      <td>Grid Log Reg</td>\n",
       "      <td>0.954630</td>\n",
       "    </tr>\n",
       "    <tr>\n",
       "      <th>0</th>\n",
       "      <td>Linear SVM</td>\n",
       "      <td>0.937500</td>\n",
       "    </tr>\n",
       "    <tr>\n",
       "      <th>0</th>\n",
       "      <td>Linear Rand SVM</td>\n",
       "      <td>0.943519</td>\n",
       "    </tr>\n",
       "    <tr>\n",
       "      <th>0</th>\n",
       "      <td>Linear Grid SVM</td>\n",
       "      <td>0.955556</td>\n",
       "    </tr>\n",
       "    <tr>\n",
       "      <th>0</th>\n",
       "      <td>rbf SVM</td>\n",
       "      <td>0.846296</td>\n",
       "    </tr>\n",
       "    <tr>\n",
       "      <th>0</th>\n",
       "      <td>rbf rand svm</td>\n",
       "      <td>0.846296</td>\n",
       "    </tr>\n",
       "    <tr>\n",
       "      <th>0</th>\n",
       "      <td>rbf grid svm</td>\n",
       "      <td>0.936111</td>\n",
       "    </tr>\n",
       "    <tr>\n",
       "      <th>0</th>\n",
       "      <td>poly svm</td>\n",
       "      <td>0.918056</td>\n",
       "    </tr>\n",
       "  </tbody>\n",
       "</table>\n",
       "</div>"
      ],
      "text/plain": [
       "             model  Accuracy\n",
       "0          Log Reg  0.926852\n",
       "0     Rand Log Reg  0.956944\n",
       "0     Grid Log Reg  0.954630\n",
       "0       Linear SVM  0.937500\n",
       "0  Linear Rand SVM  0.943519\n",
       "0  Linear Grid SVM  0.955556\n",
       "0          rbf SVM  0.846296\n",
       "0     rbf rand svm  0.846296\n",
       "0     rbf grid svm  0.936111\n",
       "0         poly svm  0.918056"
      ]
     },
     "execution_count": 47,
     "metadata": {},
     "output_type": "execute_result"
    }
   ],
   "source": [
    "performance"
   ]
  },
  {
   "cell_type": "markdown",
   "id": "a5bfd0c4-ea9c-448c-9eeb-6f0afecd1ac0",
   "metadata": {},
   "source": [
    "### SVM Poly - RandomSearchCV"
   ]
  },
  {
   "cell_type": "code",
   "execution_count": 48,
   "id": "e3d4c9ba-7359-4a38-b02a-edc513c587a8",
   "metadata": {},
   "outputs": [
    {
     "name": "stdout",
     "output_type": "stream",
     "text": [
      "Fitting 5 folds for each of 12 candidates, totalling 60 fits\n",
      "The best accuracy score is 0.9463762376237623\n",
      "... with parameters: {'max_iter': 1000, 'C': 100}\n"
     ]
    }
   ],
   "source": [
    "score_measure = \"accuracy\"\n",
    "# Create parameter grid\n",
    "param_grid = {'C': [0.1, 1, 10, 100],\n",
    "              'max_iter': [1000, 1500, 2000]}\n",
    "\n",
    "\n",
    "# Create the random search model\n",
    "rand_search_poly = RandomizedSearchCV(svm_poly_model, param_grid, cv=5, n_iter=50, scoring=score_measure, n_jobs=-1, verbose=1)\n",
    "\n",
    "\n",
    "_ = rand_search_poly.fit(X_train, y_train)\n",
    "\n",
    "print(f\"The best {score_measure} score is {rand_search_poly.best_score_}\")\n",
    "print(f\"... with parameters: {rand_search_poly.best_params_}\")\n",
    "\n",
    "bestRecallTree = rand_search_poly.best_estimator_"
   ]
  },
  {
   "cell_type": "code",
   "execution_count": 49,
   "id": "55e8bbdc-8e79-40bb-a235-fb9936d89aa5",
   "metadata": {},
   "outputs": [
    {
     "name": "stdout",
     "output_type": "stream",
     "text": [
      "0.9101851851851852\n"
     ]
    }
   ],
   "source": [
    "model_preds = rand_search_poly.predict(X_test)\n",
    "rand_poly_acc= accuracy_score(y_test, model_preds)\n",
    "print(rand_poly_acc)"
   ]
  },
  {
   "cell_type": "code",
   "execution_count": 50,
   "id": "f9f693dd-1c53-4f2a-bf50-5e976f18464d",
   "metadata": {},
   "outputs": [
    {
     "data": {
      "text/html": [
       "<div>\n",
       "<style scoped>\n",
       "    .dataframe tbody tr th:only-of-type {\n",
       "        vertical-align: middle;\n",
       "    }\n",
       "\n",
       "    .dataframe tbody tr th {\n",
       "        vertical-align: top;\n",
       "    }\n",
       "\n",
       "    .dataframe thead th {\n",
       "        text-align: right;\n",
       "    }\n",
       "</style>\n",
       "<table border=\"1\" class=\"dataframe\">\n",
       "  <thead>\n",
       "    <tr style=\"text-align: right;\">\n",
       "      <th></th>\n",
       "      <th>model</th>\n",
       "      <th>Accuracy</th>\n",
       "    </tr>\n",
       "  </thead>\n",
       "  <tbody>\n",
       "    <tr>\n",
       "      <th>0</th>\n",
       "      <td>Log Reg</td>\n",
       "      <td>0.926852</td>\n",
       "    </tr>\n",
       "    <tr>\n",
       "      <th>0</th>\n",
       "      <td>Rand Log Reg</td>\n",
       "      <td>0.956944</td>\n",
       "    </tr>\n",
       "    <tr>\n",
       "      <th>0</th>\n",
       "      <td>Grid Log Reg</td>\n",
       "      <td>0.954630</td>\n",
       "    </tr>\n",
       "    <tr>\n",
       "      <th>0</th>\n",
       "      <td>Linear SVM</td>\n",
       "      <td>0.937500</td>\n",
       "    </tr>\n",
       "    <tr>\n",
       "      <th>0</th>\n",
       "      <td>Linear Rand SVM</td>\n",
       "      <td>0.943519</td>\n",
       "    </tr>\n",
       "    <tr>\n",
       "      <th>0</th>\n",
       "      <td>Linear Grid SVM</td>\n",
       "      <td>0.955556</td>\n",
       "    </tr>\n",
       "    <tr>\n",
       "      <th>0</th>\n",
       "      <td>rbf SVM</td>\n",
       "      <td>0.846296</td>\n",
       "    </tr>\n",
       "    <tr>\n",
       "      <th>0</th>\n",
       "      <td>rbf rand svm</td>\n",
       "      <td>0.846296</td>\n",
       "    </tr>\n",
       "    <tr>\n",
       "      <th>0</th>\n",
       "      <td>rbf grid svm</td>\n",
       "      <td>0.936111</td>\n",
       "    </tr>\n",
       "    <tr>\n",
       "      <th>0</th>\n",
       "      <td>poly svm</td>\n",
       "      <td>0.918056</td>\n",
       "    </tr>\n",
       "    <tr>\n",
       "      <th>0</th>\n",
       "      <td>poly rand svm</td>\n",
       "      <td>0.910185</td>\n",
       "    </tr>\n",
       "  </tbody>\n",
       "</table>\n",
       "</div>"
      ],
      "text/plain": [
       "             model  Accuracy\n",
       "0          Log Reg  0.926852\n",
       "0     Rand Log Reg  0.956944\n",
       "0     Grid Log Reg  0.954630\n",
       "0       Linear SVM  0.937500\n",
       "0  Linear Rand SVM  0.943519\n",
       "0  Linear Grid SVM  0.955556\n",
       "0          rbf SVM  0.846296\n",
       "0     rbf rand svm  0.846296\n",
       "0     rbf grid svm  0.936111\n",
       "0         poly svm  0.918056\n",
       "0    poly rand svm  0.910185"
      ]
     },
     "execution_count": 50,
     "metadata": {},
     "output_type": "execute_result"
    }
   ],
   "source": [
    "c_matrix = confusion_matrix(y_test, rand_search_poly.predict(X_test))\n",
    "performance = pd.concat([performance, pd.DataFrame({'model':\"poly rand svm\", \n",
    "                                                    'Accuracy': rand_poly_acc }, index=[0])])\n",
    "performance"
   ]
  },
  {
   "cell_type": "markdown",
   "id": "2242cedf-1ff7-4180-909a-0fd6d1350857",
   "metadata": {},
   "source": [
    "### SVM Poly - GridSearchCV"
   ]
  },
  {
   "cell_type": "code",
   "execution_count": 51,
   "id": "3866f23e-9cd4-4d01-901f-861d854ae395",
   "metadata": {},
   "outputs": [
    {
     "name": "stdout",
     "output_type": "stream",
     "text": [
      "The best accuracy score is 0.8828118811881188\n",
      "... with parameters: {'C': 1, 'gamma': 1, 'kernel': 'poly'}\n"
     ]
    }
   ],
   "source": [
    "score_measure = \"accuracy\"\n",
    "#create a SVM classifier\n",
    "clf = SVC(kernel='poly')\n",
    "#define the parameter grid\n",
    "param_grid = {'C': [0.1, 1, 10, 100],  \n",
    "              'gamma': [1, 0.1, 0.01, 0.001], \n",
    "              'kernel': ['poly']}  \n",
    "#instantiate the GridSearchCV object\n",
    "grid = GridSearchCV(clf, param_grid, cv=5,scoring=score_measure)\n",
    "\n",
    "\n",
    "_ = grid.fit(X_train, y_train)\n",
    "\n",
    "print(f\"The best {score_measure} score is {grid.best_score_}\")\n",
    "print(f\"... with parameters: {grid.best_params_}\")\n",
    "\n",
    "bestRecallTree = grid.best_estimator_\n"
   ]
  },
  {
   "cell_type": "code",
   "execution_count": 52,
   "id": "a2e227d2-6c03-428e-825f-1f25f4e22101",
   "metadata": {},
   "outputs": [
    {
     "name": "stdout",
     "output_type": "stream",
     "text": [
      "0.8462962962962963\n"
     ]
    }
   ],
   "source": [
    "model_preds = grid.predict(X_test)\n",
    "grid_poly_acc= accuracy_score(y_test, model_preds)\n",
    "print(grid_poly_acc)"
   ]
  },
  {
   "cell_type": "code",
   "execution_count": 53,
   "id": "1747e949-2351-4eea-9c2a-c74ed78c0cc3",
   "metadata": {},
   "outputs": [
    {
     "data": {
      "text/html": [
       "<div>\n",
       "<style scoped>\n",
       "    .dataframe tbody tr th:only-of-type {\n",
       "        vertical-align: middle;\n",
       "    }\n",
       "\n",
       "    .dataframe tbody tr th {\n",
       "        vertical-align: top;\n",
       "    }\n",
       "\n",
       "    .dataframe thead th {\n",
       "        text-align: right;\n",
       "    }\n",
       "</style>\n",
       "<table border=\"1\" class=\"dataframe\">\n",
       "  <thead>\n",
       "    <tr style=\"text-align: right;\">\n",
       "      <th></th>\n",
       "      <th>model</th>\n",
       "      <th>Accuracy</th>\n",
       "    </tr>\n",
       "  </thead>\n",
       "  <tbody>\n",
       "    <tr>\n",
       "      <th>0</th>\n",
       "      <td>Log Reg</td>\n",
       "      <td>0.926852</td>\n",
       "    </tr>\n",
       "    <tr>\n",
       "      <th>0</th>\n",
       "      <td>Rand Log Reg</td>\n",
       "      <td>0.956944</td>\n",
       "    </tr>\n",
       "    <tr>\n",
       "      <th>0</th>\n",
       "      <td>Grid Log Reg</td>\n",
       "      <td>0.954630</td>\n",
       "    </tr>\n",
       "    <tr>\n",
       "      <th>0</th>\n",
       "      <td>Linear SVM</td>\n",
       "      <td>0.937500</td>\n",
       "    </tr>\n",
       "    <tr>\n",
       "      <th>0</th>\n",
       "      <td>Linear Rand SVM</td>\n",
       "      <td>0.943519</td>\n",
       "    </tr>\n",
       "    <tr>\n",
       "      <th>0</th>\n",
       "      <td>Linear Grid SVM</td>\n",
       "      <td>0.955556</td>\n",
       "    </tr>\n",
       "    <tr>\n",
       "      <th>0</th>\n",
       "      <td>rbf SVM</td>\n",
       "      <td>0.846296</td>\n",
       "    </tr>\n",
       "    <tr>\n",
       "      <th>0</th>\n",
       "      <td>rbf rand svm</td>\n",
       "      <td>0.846296</td>\n",
       "    </tr>\n",
       "    <tr>\n",
       "      <th>0</th>\n",
       "      <td>rbf grid svm</td>\n",
       "      <td>0.936111</td>\n",
       "    </tr>\n",
       "    <tr>\n",
       "      <th>0</th>\n",
       "      <td>poly svm</td>\n",
       "      <td>0.918056</td>\n",
       "    </tr>\n",
       "    <tr>\n",
       "      <th>0</th>\n",
       "      <td>poly rand svm</td>\n",
       "      <td>0.910185</td>\n",
       "    </tr>\n",
       "    <tr>\n",
       "      <th>0</th>\n",
       "      <td>poly grid svm</td>\n",
       "      <td>0.846296</td>\n",
       "    </tr>\n",
       "  </tbody>\n",
       "</table>\n",
       "</div>"
      ],
      "text/plain": [
       "             model  Accuracy\n",
       "0          Log Reg  0.926852\n",
       "0     Rand Log Reg  0.956944\n",
       "0     Grid Log Reg  0.954630\n",
       "0       Linear SVM  0.937500\n",
       "0  Linear Rand SVM  0.943519\n",
       "0  Linear Grid SVM  0.955556\n",
       "0          rbf SVM  0.846296\n",
       "0     rbf rand svm  0.846296\n",
       "0     rbf grid svm  0.936111\n",
       "0         poly svm  0.918056\n",
       "0    poly rand svm  0.910185\n",
       "0    poly grid svm  0.846296"
      ]
     },
     "execution_count": 53,
     "metadata": {},
     "output_type": "execute_result"
    }
   ],
   "source": [
    "c_matrix = confusion_matrix(y_test, grid.predict(X_test))\n",
    "performance = pd.concat([performance, pd.DataFrame({'model':\"poly grid svm\", \n",
    "                                                    'Accuracy': grid_poly_acc }, index=[0])])\n",
    "performance"
   ]
  },
  {
   "cell_type": "markdown",
   "id": "da5b7e0a-e5fb-4aeb-b3a3-e0087c04f1d6",
   "metadata": {},
   "source": [
    "### Decision Tree"
   ]
  },
  {
   "cell_type": "code",
   "execution_count": 54,
   "id": "a1d21a7b-4a9a-42f8-869d-ffe29815f1dc",
   "metadata": {},
   "outputs": [],
   "source": [
    "dtree = DecisionTreeClassifier()\n",
    "_ = dtree.fit(X_train, np.ravel(y_train))"
   ]
  },
  {
   "cell_type": "code",
   "execution_count": 55,
   "id": "3d286e30-71c9-48b5-9ae4-d1089bfa4401",
   "metadata": {},
   "outputs": [
    {
     "name": "stdout",
     "output_type": "stream",
     "text": [
      "0.987037037037037\n"
     ]
    }
   ],
   "source": [
    "model_preds = dtree.predict(X_test)\n",
    "c_matrix = confusion_matrix(y_test, model_preds)\n",
    "dtree_acc= accuracy_score(y_test, model_preds)\n",
    "print(dtree_acc)"
   ]
  },
  {
   "cell_type": "code",
   "execution_count": 56,
   "id": "fd236a9c-0836-4b8d-b10e-f817e8ad8566",
   "metadata": {},
   "outputs": [
    {
     "data": {
      "text/html": [
       "<div>\n",
       "<style scoped>\n",
       "    .dataframe tbody tr th:only-of-type {\n",
       "        vertical-align: middle;\n",
       "    }\n",
       "\n",
       "    .dataframe tbody tr th {\n",
       "        vertical-align: top;\n",
       "    }\n",
       "\n",
       "    .dataframe thead th {\n",
       "        text-align: right;\n",
       "    }\n",
       "</style>\n",
       "<table border=\"1\" class=\"dataframe\">\n",
       "  <thead>\n",
       "    <tr style=\"text-align: right;\">\n",
       "      <th></th>\n",
       "      <th>model</th>\n",
       "      <th>Accuracy</th>\n",
       "    </tr>\n",
       "  </thead>\n",
       "  <tbody>\n",
       "    <tr>\n",
       "      <th>0</th>\n",
       "      <td>Log Reg</td>\n",
       "      <td>0.926852</td>\n",
       "    </tr>\n",
       "    <tr>\n",
       "      <th>0</th>\n",
       "      <td>Rand Log Reg</td>\n",
       "      <td>0.956944</td>\n",
       "    </tr>\n",
       "    <tr>\n",
       "      <th>0</th>\n",
       "      <td>Grid Log Reg</td>\n",
       "      <td>0.954630</td>\n",
       "    </tr>\n",
       "    <tr>\n",
       "      <th>0</th>\n",
       "      <td>Linear SVM</td>\n",
       "      <td>0.937500</td>\n",
       "    </tr>\n",
       "    <tr>\n",
       "      <th>0</th>\n",
       "      <td>Linear Rand SVM</td>\n",
       "      <td>0.943519</td>\n",
       "    </tr>\n",
       "    <tr>\n",
       "      <th>0</th>\n",
       "      <td>Linear Grid SVM</td>\n",
       "      <td>0.955556</td>\n",
       "    </tr>\n",
       "    <tr>\n",
       "      <th>0</th>\n",
       "      <td>rbf SVM</td>\n",
       "      <td>0.846296</td>\n",
       "    </tr>\n",
       "    <tr>\n",
       "      <th>0</th>\n",
       "      <td>rbf rand svm</td>\n",
       "      <td>0.846296</td>\n",
       "    </tr>\n",
       "    <tr>\n",
       "      <th>0</th>\n",
       "      <td>rbf grid svm</td>\n",
       "      <td>0.936111</td>\n",
       "    </tr>\n",
       "    <tr>\n",
       "      <th>0</th>\n",
       "      <td>poly svm</td>\n",
       "      <td>0.918056</td>\n",
       "    </tr>\n",
       "    <tr>\n",
       "      <th>0</th>\n",
       "      <td>poly rand svm</td>\n",
       "      <td>0.910185</td>\n",
       "    </tr>\n",
       "    <tr>\n",
       "      <th>0</th>\n",
       "      <td>poly grid svm</td>\n",
       "      <td>0.846296</td>\n",
       "    </tr>\n",
       "    <tr>\n",
       "      <th>0</th>\n",
       "      <td>D Tree</td>\n",
       "      <td>0.987037</td>\n",
       "    </tr>\n",
       "  </tbody>\n",
       "</table>\n",
       "</div>"
      ],
      "text/plain": [
       "             model  Accuracy\n",
       "0          Log Reg  0.926852\n",
       "0     Rand Log Reg  0.956944\n",
       "0     Grid Log Reg  0.954630\n",
       "0       Linear SVM  0.937500\n",
       "0  Linear Rand SVM  0.943519\n",
       "0  Linear Grid SVM  0.955556\n",
       "0          rbf SVM  0.846296\n",
       "0     rbf rand svm  0.846296\n",
       "0     rbf grid svm  0.936111\n",
       "0         poly svm  0.918056\n",
       "0    poly rand svm  0.910185\n",
       "0    poly grid svm  0.846296\n",
       "0           D Tree  0.987037"
      ]
     },
     "execution_count": 56,
     "metadata": {},
     "output_type": "execute_result"
    }
   ],
   "source": [
    "performance = pd.concat([performance, pd.DataFrame({'model':\"D Tree\", \n",
    "                                                    'Accuracy': dtree_acc }, index=[0])])\n",
    "performance"
   ]
  },
  {
   "cell_type": "markdown",
   "id": "0825d20d-804c-4fe4-81b3-c91a03493271",
   "metadata": {},
   "source": [
    "### DTree - RandomSearchCV"
   ]
  },
  {
   "cell_type": "code",
   "execution_count": 57,
   "id": "b9e69799-7869-4bb5-84c6-248d0c9c5947",
   "metadata": {},
   "outputs": [
    {
     "name": "stdout",
     "output_type": "stream",
     "text": [
      "Fitting 5 folds for each of 500 candidates, totalling 2500 fits\n",
      "The best accuracy score is 0.996019801980198\n",
      "... with parameters: {'min_samples_split': 38, 'min_samples_leaf': 1, 'min_impurity_decrease': 0.004600000000000001, 'max_leaf_nodes': 129, 'max_depth': 41, 'criterion': 'gini'}\n"
     ]
    }
   ],
   "source": [
    "score_measure = \"accuracy\"\n",
    "kfolds = 5\n",
    "\n",
    "param_grid = {\n",
    "    'min_samples_split': np.arange(1,50),  \n",
    "    'min_samples_leaf': np.arange(1,50),\n",
    "    'min_impurity_decrease': np.arange(0.0001, 0.01, 0.0005),\n",
    "    'max_leaf_nodes': np.arange(5, 200), \n",
    "    'max_depth': np.arange(1,50), \n",
    "    'criterion': ['entropy', 'gini'],\n",
    "}\n",
    "\n",
    "dtree = DecisionTreeClassifier()\n",
    "rand_search = RandomizedSearchCV(estimator = dtree, param_distributions=param_grid, cv=kfolds, n_iter=500,\n",
    "                           scoring=score_measure, verbose=1, n_jobs=-1,  # n_jobs=-1 will utilize all available CPUs \n",
    "                           return_train_score=True)\n",
    "\n",
    "_ = rand_search.fit(X_train, y_train)\n",
    "\n",
    "print(f\"The best {score_measure} score is {rand_search.best_score_}\")\n",
    "print(f\"... with parameters: {rand_search.best_params_}\")\n",
    "\n",
    "bestRecallTree = rand_search.best_estimator_"
   ]
  },
  {
   "cell_type": "code",
   "execution_count": 58,
   "id": "e803fbda-b00f-4ea1-b12e-69458072fd54",
   "metadata": {},
   "outputs": [
    {
     "name": "stdout",
     "output_type": "stream",
     "text": [
      "0.9828703703703704\n"
     ]
    }
   ],
   "source": [
    "model_preds = rand_search.predict(X_test)\n",
    "dtree_rand_acc= accuracy_score(y_test, model_preds)\n",
    "print(dtree_rand_acc)"
   ]
  },
  {
   "cell_type": "code",
   "execution_count": 59,
   "id": "e4e4d0e2-f4a1-43bf-878b-9686c2b969f8",
   "metadata": {},
   "outputs": [
    {
     "data": {
      "text/html": [
       "<div>\n",
       "<style scoped>\n",
       "    .dataframe tbody tr th:only-of-type {\n",
       "        vertical-align: middle;\n",
       "    }\n",
       "\n",
       "    .dataframe tbody tr th {\n",
       "        vertical-align: top;\n",
       "    }\n",
       "\n",
       "    .dataframe thead th {\n",
       "        text-align: right;\n",
       "    }\n",
       "</style>\n",
       "<table border=\"1\" class=\"dataframe\">\n",
       "  <thead>\n",
       "    <tr style=\"text-align: right;\">\n",
       "      <th></th>\n",
       "      <th>model</th>\n",
       "      <th>Accuracy</th>\n",
       "    </tr>\n",
       "  </thead>\n",
       "  <tbody>\n",
       "    <tr>\n",
       "      <th>0</th>\n",
       "      <td>Log Reg</td>\n",
       "      <td>0.926852</td>\n",
       "    </tr>\n",
       "    <tr>\n",
       "      <th>0</th>\n",
       "      <td>Rand Log Reg</td>\n",
       "      <td>0.956944</td>\n",
       "    </tr>\n",
       "    <tr>\n",
       "      <th>0</th>\n",
       "      <td>Grid Log Reg</td>\n",
       "      <td>0.954630</td>\n",
       "    </tr>\n",
       "    <tr>\n",
       "      <th>0</th>\n",
       "      <td>Linear SVM</td>\n",
       "      <td>0.937500</td>\n",
       "    </tr>\n",
       "    <tr>\n",
       "      <th>0</th>\n",
       "      <td>Linear Rand SVM</td>\n",
       "      <td>0.943519</td>\n",
       "    </tr>\n",
       "    <tr>\n",
       "      <th>0</th>\n",
       "      <td>Linear Grid SVM</td>\n",
       "      <td>0.955556</td>\n",
       "    </tr>\n",
       "    <tr>\n",
       "      <th>0</th>\n",
       "      <td>rbf SVM</td>\n",
       "      <td>0.846296</td>\n",
       "    </tr>\n",
       "    <tr>\n",
       "      <th>0</th>\n",
       "      <td>rbf rand svm</td>\n",
       "      <td>0.846296</td>\n",
       "    </tr>\n",
       "    <tr>\n",
       "      <th>0</th>\n",
       "      <td>rbf grid svm</td>\n",
       "      <td>0.936111</td>\n",
       "    </tr>\n",
       "    <tr>\n",
       "      <th>0</th>\n",
       "      <td>poly svm</td>\n",
       "      <td>0.918056</td>\n",
       "    </tr>\n",
       "    <tr>\n",
       "      <th>0</th>\n",
       "      <td>poly rand svm</td>\n",
       "      <td>0.910185</td>\n",
       "    </tr>\n",
       "    <tr>\n",
       "      <th>0</th>\n",
       "      <td>poly grid svm</td>\n",
       "      <td>0.846296</td>\n",
       "    </tr>\n",
       "    <tr>\n",
       "      <th>0</th>\n",
       "      <td>D Tree</td>\n",
       "      <td>0.987037</td>\n",
       "    </tr>\n",
       "    <tr>\n",
       "      <th>0</th>\n",
       "      <td>D Tree Rand</td>\n",
       "      <td>0.982870</td>\n",
       "    </tr>\n",
       "  </tbody>\n",
       "</table>\n",
       "</div>"
      ],
      "text/plain": [
       "             model  Accuracy\n",
       "0          Log Reg  0.926852\n",
       "0     Rand Log Reg  0.956944\n",
       "0     Grid Log Reg  0.954630\n",
       "0       Linear SVM  0.937500\n",
       "0  Linear Rand SVM  0.943519\n",
       "0  Linear Grid SVM  0.955556\n",
       "0          rbf SVM  0.846296\n",
       "0     rbf rand svm  0.846296\n",
       "0     rbf grid svm  0.936111\n",
       "0         poly svm  0.918056\n",
       "0    poly rand svm  0.910185\n",
       "0    poly grid svm  0.846296\n",
       "0           D Tree  0.987037\n",
       "0      D Tree Rand  0.982870"
      ]
     },
     "execution_count": 59,
     "metadata": {},
     "output_type": "execute_result"
    }
   ],
   "source": [
    "c_matrix = confusion_matrix(y_test, rand_search.predict(X_test))\n",
    "performance = pd.concat([performance, pd.DataFrame({'model':\"D Tree Rand\", \n",
    "                                                    'Accuracy': dtree_rand_acc}, index=[0])])\n",
    "performance"
   ]
  },
  {
   "cell_type": "markdown",
   "id": "fa183730-bb24-4d8d-aeb6-37f8782ea6bf",
   "metadata": {},
   "source": [
    "### DTree - GridSearchCV"
   ]
  },
  {
   "cell_type": "code",
   "execution_count": 60,
   "id": "c8988994-acd7-4584-87b4-b61b248474eb",
   "metadata": {},
   "outputs": [
    {
     "name": "stdout",
     "output_type": "stream",
     "text": [
      "Fitting 5 folds for each of 9072 candidates, totalling 45360 fits\n",
      "The best accuracy score is 0.9840990099009901\n",
      "... with parameters: {'criterion': 'entropy', 'max_depth': 15, 'max_leaf_nodes': 162, 'min_impurity_decrease': 0.0048, 'min_samples_leaf': 8, 'min_samples_split': 30}\n"
     ]
    }
   ],
   "source": [
    "score_measure = \"accuracy\"\n",
    "kfolds = 5\n",
    "\n",
    "param_grid = {\n",
    "    'min_samples_split': np.arange(30,36),  \n",
    "    'min_samples_leaf': np.arange(6,12),\n",
    "    'min_impurity_decrease': np.arange(0.0048, 0.0054, 0.0001),\n",
    "    'max_leaf_nodes': np.arange(162,168), \n",
    "    'max_depth': np.arange(15,21), \n",
    "    'criterion': ['entropy'],\n",
    "}\n",
    "\n",
    "dtree = DecisionTreeClassifier()\n",
    "grid_search = GridSearchCV(estimator = dtree, param_grid=param_grid, cv=kfolds, \n",
    "                           scoring=score_measure, verbose=1, n_jobs=-1,  # n_jobs=-1 will utilize all available CPUs \n",
    "                           return_train_score=True)\n",
    "\n",
    "_ = grid_search.fit(X_train, y_train)\n",
    "\n",
    "print(f\"The best {score_measure} score is {grid_search.best_score_}\")\n",
    "print(f\"... with parameters: {grid_search.best_params_}\")\n",
    "\n",
    "bestRecallTree = grid_search.best_estimator_"
   ]
  },
  {
   "cell_type": "code",
   "execution_count": 61,
   "id": "3cef5136-757b-4260-a02e-271328f6ee9f",
   "metadata": {},
   "outputs": [
    {
     "name": "stdout",
     "output_type": "stream",
     "text": [
      "0.950925925925926\n"
     ]
    }
   ],
   "source": [
    "model_preds = grid_search.predict(X_test)\n",
    "dtree_grid_acc= accuracy_score(y_test, model_preds)\n",
    "print(dtree_grid_acc)"
   ]
  },
  {
   "cell_type": "code",
   "execution_count": 62,
   "id": "10b7e71d-9e6f-45a4-9df2-7905eead4b41",
   "metadata": {},
   "outputs": [
    {
     "data": {
      "text/html": [
       "<div>\n",
       "<style scoped>\n",
       "    .dataframe tbody tr th:only-of-type {\n",
       "        vertical-align: middle;\n",
       "    }\n",
       "\n",
       "    .dataframe tbody tr th {\n",
       "        vertical-align: top;\n",
       "    }\n",
       "\n",
       "    .dataframe thead th {\n",
       "        text-align: right;\n",
       "    }\n",
       "</style>\n",
       "<table border=\"1\" class=\"dataframe\">\n",
       "  <thead>\n",
       "    <tr style=\"text-align: right;\">\n",
       "      <th></th>\n",
       "      <th>model</th>\n",
       "      <th>Accuracy</th>\n",
       "    </tr>\n",
       "  </thead>\n",
       "  <tbody>\n",
       "    <tr>\n",
       "      <th>0</th>\n",
       "      <td>Log Reg</td>\n",
       "      <td>0.926852</td>\n",
       "    </tr>\n",
       "    <tr>\n",
       "      <th>0</th>\n",
       "      <td>Rand Log Reg</td>\n",
       "      <td>0.956944</td>\n",
       "    </tr>\n",
       "    <tr>\n",
       "      <th>0</th>\n",
       "      <td>Grid Log Reg</td>\n",
       "      <td>0.954630</td>\n",
       "    </tr>\n",
       "    <tr>\n",
       "      <th>0</th>\n",
       "      <td>Linear SVM</td>\n",
       "      <td>0.937500</td>\n",
       "    </tr>\n",
       "    <tr>\n",
       "      <th>0</th>\n",
       "      <td>Linear Rand SVM</td>\n",
       "      <td>0.943519</td>\n",
       "    </tr>\n",
       "    <tr>\n",
       "      <th>0</th>\n",
       "      <td>Linear Grid SVM</td>\n",
       "      <td>0.955556</td>\n",
       "    </tr>\n",
       "    <tr>\n",
       "      <th>0</th>\n",
       "      <td>rbf SVM</td>\n",
       "      <td>0.846296</td>\n",
       "    </tr>\n",
       "    <tr>\n",
       "      <th>0</th>\n",
       "      <td>rbf rand svm</td>\n",
       "      <td>0.846296</td>\n",
       "    </tr>\n",
       "    <tr>\n",
       "      <th>0</th>\n",
       "      <td>rbf grid svm</td>\n",
       "      <td>0.936111</td>\n",
       "    </tr>\n",
       "    <tr>\n",
       "      <th>0</th>\n",
       "      <td>poly svm</td>\n",
       "      <td>0.918056</td>\n",
       "    </tr>\n",
       "    <tr>\n",
       "      <th>0</th>\n",
       "      <td>poly rand svm</td>\n",
       "      <td>0.910185</td>\n",
       "    </tr>\n",
       "    <tr>\n",
       "      <th>0</th>\n",
       "      <td>poly grid svm</td>\n",
       "      <td>0.846296</td>\n",
       "    </tr>\n",
       "    <tr>\n",
       "      <th>0</th>\n",
       "      <td>D Tree</td>\n",
       "      <td>0.987037</td>\n",
       "    </tr>\n",
       "    <tr>\n",
       "      <th>0</th>\n",
       "      <td>D Tree Rand</td>\n",
       "      <td>0.982870</td>\n",
       "    </tr>\n",
       "    <tr>\n",
       "      <th>0</th>\n",
       "      <td>D Tree Grid</td>\n",
       "      <td>0.950926</td>\n",
       "    </tr>\n",
       "  </tbody>\n",
       "</table>\n",
       "</div>"
      ],
      "text/plain": [
       "             model  Accuracy\n",
       "0          Log Reg  0.926852\n",
       "0     Rand Log Reg  0.956944\n",
       "0     Grid Log Reg  0.954630\n",
       "0       Linear SVM  0.937500\n",
       "0  Linear Rand SVM  0.943519\n",
       "0  Linear Grid SVM  0.955556\n",
       "0          rbf SVM  0.846296\n",
       "0     rbf rand svm  0.846296\n",
       "0     rbf grid svm  0.936111\n",
       "0         poly svm  0.918056\n",
       "0    poly rand svm  0.910185\n",
       "0    poly grid svm  0.846296\n",
       "0           D Tree  0.987037\n",
       "0      D Tree Rand  0.982870\n",
       "0      D Tree Grid  0.950926"
      ]
     },
     "execution_count": 62,
     "metadata": {},
     "output_type": "execute_result"
    }
   ],
   "source": [
    "c_matrix = confusion_matrix(y_test, grid_search.predict(X_test))\n",
    "performance = pd.concat([performance, pd.DataFrame({'model':\"D Tree Grid\", \n",
    "                                                    'Accuracy': dtree_grid_acc}, index=[0])])\n",
    "performance"
   ]
  },
  {
   "cell_type": "markdown",
   "id": "5c175598-1ccc-4580-970c-79e12d2815e1",
   "metadata": {},
   "source": [
    "## Neural Network"
   ]
  },
  {
   "cell_type": "code",
   "execution_count": 63,
   "id": "5084f449-f8fd-4ce0-a971-773e1b24cedb",
   "metadata": {},
   "outputs": [
    {
     "name": "stdout",
     "output_type": "stream",
     "text": [
      "CPU times: total: 4.89 s\n",
      "Wall time: 946 ms\n"
     ]
    }
   ],
   "source": [
    "%%time\n",
    "\n",
    "ann = MLPClassifier(hidden_layer_sizes=(60,50,40), solver='adam', max_iter=200)\n",
    "_ = ann.fit(X_train, y_train)"
   ]
  },
  {
   "cell_type": "code",
   "execution_count": 64,
   "id": "3b69e874-9be1-475e-a7db-2a5fdd0c12ea",
   "metadata": {},
   "outputs": [
    {
     "name": "stdout",
     "output_type": "stream",
     "text": [
      "CPU times: total: 141 ms\n",
      "Wall time: 71.7 ms\n"
     ]
    }
   ],
   "source": [
    "%%time\n",
    "y_pred = ann.predict(X_test)"
   ]
  },
  {
   "cell_type": "code",
   "execution_count": 65,
   "id": "de31938f-02a6-4fbb-8f63-70ae23152b80",
   "metadata": {},
   "outputs": [
    {
     "name": "stdout",
     "output_type": "stream",
     "text": [
      "0.8763888888888889\n"
     ]
    }
   ],
   "source": [
    "nn_acc= accuracy_score(y_test, y_pred)\n",
    "print(nn_acc)"
   ]
  },
  {
   "cell_type": "code",
   "execution_count": 66,
   "id": "e03b851d-c358-4171-a7b2-4822673c12dc",
   "metadata": {},
   "outputs": [
    {
     "name": "stdout",
     "output_type": "stream",
     "text": [
      "              precision    recall  f1-score   support\n",
      "\n",
      "           1       0.52      0.83      0.64        41\n",
      "           2       0.32      0.97      0.48       115\n",
      "           3       1.00      0.87      0.93      2004\n",
      "\n",
      "    accuracy                           0.88      2160\n",
      "   macro avg       0.61      0.89      0.69      2160\n",
      "weighted avg       0.95      0.88      0.90      2160\n",
      "\n"
     ]
    }
   ],
   "source": [
    "print(classification_report(y_test, y_pred))"
   ]
  },
  {
   "cell_type": "code",
   "execution_count": 67,
   "id": "c6320501-96dd-46ef-9d16-7434b19d1664",
   "metadata": {},
   "outputs": [
    {
     "data": {
      "text/html": [
       "<div>\n",
       "<style scoped>\n",
       "    .dataframe tbody tr th:only-of-type {\n",
       "        vertical-align: middle;\n",
       "    }\n",
       "\n",
       "    .dataframe tbody tr th {\n",
       "        vertical-align: top;\n",
       "    }\n",
       "\n",
       "    .dataframe thead th {\n",
       "        text-align: right;\n",
       "    }\n",
       "</style>\n",
       "<table border=\"1\" class=\"dataframe\">\n",
       "  <thead>\n",
       "    <tr style=\"text-align: right;\">\n",
       "      <th></th>\n",
       "      <th>model</th>\n",
       "      <th>Accuracy</th>\n",
       "    </tr>\n",
       "  </thead>\n",
       "  <tbody>\n",
       "    <tr>\n",
       "      <th>0</th>\n",
       "      <td>Log Reg</td>\n",
       "      <td>0.926852</td>\n",
       "    </tr>\n",
       "    <tr>\n",
       "      <th>0</th>\n",
       "      <td>Rand Log Reg</td>\n",
       "      <td>0.956944</td>\n",
       "    </tr>\n",
       "    <tr>\n",
       "      <th>0</th>\n",
       "      <td>Grid Log Reg</td>\n",
       "      <td>0.954630</td>\n",
       "    </tr>\n",
       "    <tr>\n",
       "      <th>0</th>\n",
       "      <td>Linear SVM</td>\n",
       "      <td>0.937500</td>\n",
       "    </tr>\n",
       "    <tr>\n",
       "      <th>0</th>\n",
       "      <td>Linear Rand SVM</td>\n",
       "      <td>0.943519</td>\n",
       "    </tr>\n",
       "    <tr>\n",
       "      <th>0</th>\n",
       "      <td>Linear Grid SVM</td>\n",
       "      <td>0.955556</td>\n",
       "    </tr>\n",
       "    <tr>\n",
       "      <th>0</th>\n",
       "      <td>rbf SVM</td>\n",
       "      <td>0.846296</td>\n",
       "    </tr>\n",
       "    <tr>\n",
       "      <th>0</th>\n",
       "      <td>rbf rand svm</td>\n",
       "      <td>0.846296</td>\n",
       "    </tr>\n",
       "    <tr>\n",
       "      <th>0</th>\n",
       "      <td>rbf grid svm</td>\n",
       "      <td>0.936111</td>\n",
       "    </tr>\n",
       "    <tr>\n",
       "      <th>0</th>\n",
       "      <td>poly svm</td>\n",
       "      <td>0.918056</td>\n",
       "    </tr>\n",
       "    <tr>\n",
       "      <th>0</th>\n",
       "      <td>poly rand svm</td>\n",
       "      <td>0.910185</td>\n",
       "    </tr>\n",
       "    <tr>\n",
       "      <th>0</th>\n",
       "      <td>poly grid svm</td>\n",
       "      <td>0.846296</td>\n",
       "    </tr>\n",
       "    <tr>\n",
       "      <th>0</th>\n",
       "      <td>D Tree</td>\n",
       "      <td>0.987037</td>\n",
       "    </tr>\n",
       "    <tr>\n",
       "      <th>0</th>\n",
       "      <td>D Tree Rand</td>\n",
       "      <td>0.982870</td>\n",
       "    </tr>\n",
       "    <tr>\n",
       "      <th>0</th>\n",
       "      <td>D Tree Grid</td>\n",
       "      <td>0.950926</td>\n",
       "    </tr>\n",
       "    <tr>\n",
       "      <th>0</th>\n",
       "      <td>Neural Net</td>\n",
       "      <td>0.876389</td>\n",
       "    </tr>\n",
       "  </tbody>\n",
       "</table>\n",
       "</div>"
      ],
      "text/plain": [
       "             model  Accuracy\n",
       "0          Log Reg  0.926852\n",
       "0     Rand Log Reg  0.956944\n",
       "0     Grid Log Reg  0.954630\n",
       "0       Linear SVM  0.937500\n",
       "0  Linear Rand SVM  0.943519\n",
       "0  Linear Grid SVM  0.955556\n",
       "0          rbf SVM  0.846296\n",
       "0     rbf rand svm  0.846296\n",
       "0     rbf grid svm  0.936111\n",
       "0         poly svm  0.918056\n",
       "0    poly rand svm  0.910185\n",
       "0    poly grid svm  0.846296\n",
       "0           D Tree  0.987037\n",
       "0      D Tree Rand  0.982870\n",
       "0      D Tree Grid  0.950926\n",
       "0       Neural Net  0.876389"
      ]
     },
     "execution_count": 67,
     "metadata": {},
     "output_type": "execute_result"
    }
   ],
   "source": [
    "performance = pd.concat([performance, pd.DataFrame({'model':\"Neural Net\", \n",
    "                                                    'Accuracy': nn_acc}, index=[0])])\n",
    "performance"
   ]
  },
  {
   "cell_type": "markdown",
   "id": "fb852ca4-e91c-4922-aed4-5369db503f5c",
   "metadata": {},
   "source": [
    "### Neural Networks With RandomsearchCV"
   ]
  },
  {
   "cell_type": "code",
   "execution_count": 68,
   "id": "60f30dcc-0613-4883-9b62-96f13c5c36f6",
   "metadata": {},
   "outputs": [
    {
     "name": "stdout",
     "output_type": "stream",
     "text": [
      "Fitting 5 folds for each of 100 candidates, totalling 500 fits\n",
      "{'solver': 'adam', 'max_iter': 5000, 'learning_rate_init': 0.01, 'learning_rate': 'invscaling', 'hidden_layer_sizes': (50,), 'alpha': 0, 'activation': 'tanh'}\n",
      "CPU times: total: 6.09 s\n",
      "Wall time: 24.5 s\n"
     ]
    }
   ],
   "source": [
    "%%time\n",
    "\n",
    "score_measure = \"accuracy\"\n",
    "kfolds = 5\n",
    "\n",
    "param_grid = {\n",
    "    'hidden_layer_sizes': [ (50,), (70,),(50,30), (40,20), (60,40, 20), (70,50,40)],\n",
    "    'activation': ['logistic', 'tanh', 'relu'],\n",
    "    'solver': ['adam', 'sgd'],\n",
    "    'alpha': [0, .2, .5, .7, 1],\n",
    "    'learning_rate': ['constant', 'invscaling', 'adaptive'],\n",
    "    'learning_rate_init': [0.001, 0.01, 0.1, 0.2, 0.5],\n",
    "    'max_iter': [5000]\n",
    "}\n",
    "\n",
    "ann = MLPClassifier()\n",
    "grid_search = RandomizedSearchCV(estimator = ann, param_distributions=param_grid, cv=kfolds, n_iter=100,\n",
    "                           scoring=score_measure, verbose=1, n_jobs=-1,  # n_jobs=-1 will utilize all available CPUs \n",
    "                           return_train_score=True)\n",
    "\n",
    "_ = grid_search.fit(X_train, y_train)\n",
    "\n",
    "bestRecallTree = grid_search.best_estimator_\n",
    "\n",
    "print(grid_search.best_params_)"
   ]
  },
  {
   "cell_type": "code",
   "execution_count": 69,
   "id": "29f9a6af-d101-4614-a328-a884e4b4c5ee",
   "metadata": {},
   "outputs": [
    {
     "name": "stdout",
     "output_type": "stream",
     "text": [
      "              precision    recall  f1-score   support\n",
      "\n",
      "           1       0.34      0.85      0.49        41\n",
      "           2       0.41      0.97      0.57       115\n",
      "           3       1.00      0.89      0.94      2004\n",
      "\n",
      "    accuracy                           0.89      2160\n",
      "   macro avg       0.58      0.90      0.67      2160\n",
      "weighted avg       0.95      0.89      0.91      2160\n",
      "\n",
      "CPU times: total: 46.9 ms\n",
      "Wall time: 34.7 ms\n"
     ]
    }
   ],
   "source": [
    "%%time\n",
    "y_pred = bestRecallTree.predict(X_test)\n",
    "\n",
    "print(classification_report(y_test, y_pred))"
   ]
  },
  {
   "cell_type": "code",
   "execution_count": 70,
   "id": "7d28de90-4da8-4281-b783-a729c4e77862",
   "metadata": {},
   "outputs": [
    {
     "name": "stdout",
     "output_type": "stream",
     "text": [
      "0.8935185185185185\n"
     ]
    }
   ],
   "source": [
    "nn_acc_rand= accuracy_score(y_test, y_pred)\n",
    "print(nn_acc_rand)"
   ]
  },
  {
   "cell_type": "code",
   "execution_count": 71,
   "id": "7bb6fa9c-35c8-40b5-9e37-7c0b9be6340d",
   "metadata": {},
   "outputs": [
    {
     "data": {
      "text/html": [
       "<div>\n",
       "<style scoped>\n",
       "    .dataframe tbody tr th:only-of-type {\n",
       "        vertical-align: middle;\n",
       "    }\n",
       "\n",
       "    .dataframe tbody tr th {\n",
       "        vertical-align: top;\n",
       "    }\n",
       "\n",
       "    .dataframe thead th {\n",
       "        text-align: right;\n",
       "    }\n",
       "</style>\n",
       "<table border=\"1\" class=\"dataframe\">\n",
       "  <thead>\n",
       "    <tr style=\"text-align: right;\">\n",
       "      <th></th>\n",
       "      <th>model</th>\n",
       "      <th>Accuracy</th>\n",
       "    </tr>\n",
       "  </thead>\n",
       "  <tbody>\n",
       "    <tr>\n",
       "      <th>0</th>\n",
       "      <td>Log Reg</td>\n",
       "      <td>0.926852</td>\n",
       "    </tr>\n",
       "    <tr>\n",
       "      <th>0</th>\n",
       "      <td>Rand Log Reg</td>\n",
       "      <td>0.956944</td>\n",
       "    </tr>\n",
       "    <tr>\n",
       "      <th>0</th>\n",
       "      <td>Grid Log Reg</td>\n",
       "      <td>0.954630</td>\n",
       "    </tr>\n",
       "    <tr>\n",
       "      <th>0</th>\n",
       "      <td>Linear SVM</td>\n",
       "      <td>0.937500</td>\n",
       "    </tr>\n",
       "    <tr>\n",
       "      <th>0</th>\n",
       "      <td>Linear Rand SVM</td>\n",
       "      <td>0.943519</td>\n",
       "    </tr>\n",
       "    <tr>\n",
       "      <th>0</th>\n",
       "      <td>Linear Grid SVM</td>\n",
       "      <td>0.955556</td>\n",
       "    </tr>\n",
       "    <tr>\n",
       "      <th>0</th>\n",
       "      <td>rbf SVM</td>\n",
       "      <td>0.846296</td>\n",
       "    </tr>\n",
       "    <tr>\n",
       "      <th>0</th>\n",
       "      <td>rbf rand svm</td>\n",
       "      <td>0.846296</td>\n",
       "    </tr>\n",
       "    <tr>\n",
       "      <th>0</th>\n",
       "      <td>rbf grid svm</td>\n",
       "      <td>0.936111</td>\n",
       "    </tr>\n",
       "    <tr>\n",
       "      <th>0</th>\n",
       "      <td>poly svm</td>\n",
       "      <td>0.918056</td>\n",
       "    </tr>\n",
       "    <tr>\n",
       "      <th>0</th>\n",
       "      <td>poly rand svm</td>\n",
       "      <td>0.910185</td>\n",
       "    </tr>\n",
       "    <tr>\n",
       "      <th>0</th>\n",
       "      <td>poly grid svm</td>\n",
       "      <td>0.846296</td>\n",
       "    </tr>\n",
       "    <tr>\n",
       "      <th>0</th>\n",
       "      <td>D Tree</td>\n",
       "      <td>0.987037</td>\n",
       "    </tr>\n",
       "    <tr>\n",
       "      <th>0</th>\n",
       "      <td>D Tree Rand</td>\n",
       "      <td>0.982870</td>\n",
       "    </tr>\n",
       "    <tr>\n",
       "      <th>0</th>\n",
       "      <td>D Tree Grid</td>\n",
       "      <td>0.950926</td>\n",
       "    </tr>\n",
       "    <tr>\n",
       "      <th>0</th>\n",
       "      <td>Neural Net</td>\n",
       "      <td>0.876389</td>\n",
       "    </tr>\n",
       "    <tr>\n",
       "      <th>0</th>\n",
       "      <td>NN Rand</td>\n",
       "      <td>0.893519</td>\n",
       "    </tr>\n",
       "  </tbody>\n",
       "</table>\n",
       "</div>"
      ],
      "text/plain": [
       "             model  Accuracy\n",
       "0          Log Reg  0.926852\n",
       "0     Rand Log Reg  0.956944\n",
       "0     Grid Log Reg  0.954630\n",
       "0       Linear SVM  0.937500\n",
       "0  Linear Rand SVM  0.943519\n",
       "0  Linear Grid SVM  0.955556\n",
       "0          rbf SVM  0.846296\n",
       "0     rbf rand svm  0.846296\n",
       "0     rbf grid svm  0.936111\n",
       "0         poly svm  0.918056\n",
       "0    poly rand svm  0.910185\n",
       "0    poly grid svm  0.846296\n",
       "0           D Tree  0.987037\n",
       "0      D Tree Rand  0.982870\n",
       "0      D Tree Grid  0.950926\n",
       "0       Neural Net  0.876389\n",
       "0          NN Rand  0.893519"
      ]
     },
     "execution_count": 71,
     "metadata": {},
     "output_type": "execute_result"
    }
   ],
   "source": [
    "performance = pd.concat([performance, pd.DataFrame({'model':\"NN Rand\", \n",
    "                                                    'Accuracy': nn_acc_rand}, index=[0])])\n",
    "performance"
   ]
  },
  {
   "cell_type": "markdown",
   "id": "c41f3314-e6db-4bc7-bfec-7e04c1d9d6a6",
   "metadata": {},
   "source": [
    "### Neural Networks With GridSearchCV"
   ]
  },
  {
   "cell_type": "code",
   "execution_count": 72,
   "id": "f72f0b11-82b9-4f57-8ee4-54bec69f5d84",
   "metadata": {},
   "outputs": [
    {
     "name": "stdout",
     "output_type": "stream",
     "text": [
      "Fitting 5 folds for each of 144 candidates, totalling 720 fits\n",
      "{'activation': 'tanh', 'alpha': 0.5, 'hidden_layer_sizes': (90,), 'learning_rate': 'adaptive', 'learning_rate_init': 0.005, 'max_iter': 5000, 'solver': 'adam'}\n",
      "CPU times: total: 3.53 s\n",
      "Wall time: 9.56 s\n"
     ]
    }
   ],
   "source": [
    "%%time\n",
    "\n",
    "score_measure = \"accuracy\"\n",
    "kfolds = 5\n",
    "\n",
    "param_grid = {\n",
    "    'hidden_layer_sizes': [ (30,), (50,), (70,), (90,)],\n",
    "    'activation': ['tanh', 'relu'],\n",
    "    'solver': ['adam'],\n",
    "    'alpha': [.5, .7, 1],\n",
    "    'learning_rate': ['adaptive', 'invscaling'],\n",
    "    'learning_rate_init': [0.005, 0.01, 0.15],\n",
    "    'max_iter': [5000]\n",
    "}\n",
    "\n",
    "ann = MLPClassifier()\n",
    "grid_search = GridSearchCV(estimator = ann, param_grid=param_grid, cv=kfolds, \n",
    "                           scoring=score_measure, verbose=1, n_jobs=-1,  # n_jobs=-1 will utilize all available CPUs \n",
    "                           return_train_score=True)\n",
    "\n",
    "_ = grid_search.fit(X_train, y_train)\n",
    "\n",
    "bestRecallTree = grid_search.best_estimator_\n",
    "\n",
    "print(grid_search.best_params_)"
   ]
  },
  {
   "cell_type": "code",
   "execution_count": 73,
   "id": "6bf2289b-91c6-4bbe-9146-6190dd652a92",
   "metadata": {},
   "outputs": [
    {
     "name": "stdout",
     "output_type": "stream",
     "text": [
      "              precision    recall  f1-score   support\n",
      "\n",
      "           1       0.59      0.80      0.68        41\n",
      "           2       0.59      0.99      0.74       115\n",
      "           3       1.00      0.95      0.98      2004\n",
      "\n",
      "    accuracy                           0.95      2160\n",
      "   macro avg       0.73      0.92      0.80      2160\n",
      "weighted avg       0.97      0.95      0.96      2160\n",
      "\n",
      "CPU times: total: 62.5 ms\n",
      "Wall time: 39.5 ms\n"
     ]
    }
   ],
   "source": [
    "%%time\n",
    "y_pred = bestRecallTree.predict(X_test)\n",
    "\n",
    "print(classification_report(y_test, y_pred))"
   ]
  },
  {
   "cell_type": "code",
   "execution_count": 103,
   "id": "c5ed812c-a601-4525-a21d-815c102322f6",
   "metadata": {},
   "outputs": [],
   "source": [
    "nn_acc_grid= accuracy_score(y_test, y_pred)\n"
   ]
  },
  {
   "cell_type": "code",
   "execution_count": 75,
   "id": "74c811ba-1945-46fd-a756-5543dea85c60",
   "metadata": {},
   "outputs": [
    {
     "data": {
      "text/html": [
       "<div>\n",
       "<style scoped>\n",
       "    .dataframe tbody tr th:only-of-type {\n",
       "        vertical-align: middle;\n",
       "    }\n",
       "\n",
       "    .dataframe tbody tr th {\n",
       "        vertical-align: top;\n",
       "    }\n",
       "\n",
       "    .dataframe thead th {\n",
       "        text-align: right;\n",
       "    }\n",
       "</style>\n",
       "<table border=\"1\" class=\"dataframe\">\n",
       "  <thead>\n",
       "    <tr style=\"text-align: right;\">\n",
       "      <th></th>\n",
       "      <th>model</th>\n",
       "      <th>Accuracy</th>\n",
       "    </tr>\n",
       "  </thead>\n",
       "  <tbody>\n",
       "    <tr>\n",
       "      <th>0</th>\n",
       "      <td>Log Reg</td>\n",
       "      <td>0.926852</td>\n",
       "    </tr>\n",
       "    <tr>\n",
       "      <th>0</th>\n",
       "      <td>Rand Log Reg</td>\n",
       "      <td>0.956944</td>\n",
       "    </tr>\n",
       "    <tr>\n",
       "      <th>0</th>\n",
       "      <td>Grid Log Reg</td>\n",
       "      <td>0.954630</td>\n",
       "    </tr>\n",
       "    <tr>\n",
       "      <th>0</th>\n",
       "      <td>Linear SVM</td>\n",
       "      <td>0.937500</td>\n",
       "    </tr>\n",
       "    <tr>\n",
       "      <th>0</th>\n",
       "      <td>Linear Rand SVM</td>\n",
       "      <td>0.943519</td>\n",
       "    </tr>\n",
       "    <tr>\n",
       "      <th>0</th>\n",
       "      <td>Linear Grid SVM</td>\n",
       "      <td>0.955556</td>\n",
       "    </tr>\n",
       "    <tr>\n",
       "      <th>0</th>\n",
       "      <td>rbf SVM</td>\n",
       "      <td>0.846296</td>\n",
       "    </tr>\n",
       "    <tr>\n",
       "      <th>0</th>\n",
       "      <td>rbf rand svm</td>\n",
       "      <td>0.846296</td>\n",
       "    </tr>\n",
       "    <tr>\n",
       "      <th>0</th>\n",
       "      <td>rbf grid svm</td>\n",
       "      <td>0.936111</td>\n",
       "    </tr>\n",
       "    <tr>\n",
       "      <th>0</th>\n",
       "      <td>poly svm</td>\n",
       "      <td>0.918056</td>\n",
       "    </tr>\n",
       "    <tr>\n",
       "      <th>0</th>\n",
       "      <td>poly rand svm</td>\n",
       "      <td>0.910185</td>\n",
       "    </tr>\n",
       "    <tr>\n",
       "      <th>0</th>\n",
       "      <td>poly grid svm</td>\n",
       "      <td>0.846296</td>\n",
       "    </tr>\n",
       "    <tr>\n",
       "      <th>0</th>\n",
       "      <td>D Tree</td>\n",
       "      <td>0.987037</td>\n",
       "    </tr>\n",
       "    <tr>\n",
       "      <th>0</th>\n",
       "      <td>D Tree Rand</td>\n",
       "      <td>0.982870</td>\n",
       "    </tr>\n",
       "    <tr>\n",
       "      <th>0</th>\n",
       "      <td>D Tree Grid</td>\n",
       "      <td>0.950926</td>\n",
       "    </tr>\n",
       "    <tr>\n",
       "      <th>0</th>\n",
       "      <td>Neural Net</td>\n",
       "      <td>0.876389</td>\n",
       "    </tr>\n",
       "    <tr>\n",
       "      <th>0</th>\n",
       "      <td>NN Rand</td>\n",
       "      <td>0.893519</td>\n",
       "    </tr>\n",
       "    <tr>\n",
       "      <th>0</th>\n",
       "      <td>NN Grid</td>\n",
       "      <td>0.952778</td>\n",
       "    </tr>\n",
       "  </tbody>\n",
       "</table>\n",
       "</div>"
      ],
      "text/plain": [
       "             model  Accuracy\n",
       "0          Log Reg  0.926852\n",
       "0     Rand Log Reg  0.956944\n",
       "0     Grid Log Reg  0.954630\n",
       "0       Linear SVM  0.937500\n",
       "0  Linear Rand SVM  0.943519\n",
       "0  Linear Grid SVM  0.955556\n",
       "0          rbf SVM  0.846296\n",
       "0     rbf rand svm  0.846296\n",
       "0     rbf grid svm  0.936111\n",
       "0         poly svm  0.918056\n",
       "0    poly rand svm  0.910185\n",
       "0    poly grid svm  0.846296\n",
       "0           D Tree  0.987037\n",
       "0      D Tree Rand  0.982870\n",
       "0      D Tree Grid  0.950926\n",
       "0       Neural Net  0.876389\n",
       "0          NN Rand  0.893519\n",
       "0          NN Grid  0.952778"
      ]
     },
     "execution_count": 75,
     "metadata": {},
     "output_type": "execute_result"
    }
   ],
   "source": [
    "performance = pd.concat([performance, pd.DataFrame({'model':\"NN Grid\", \n",
    "                                                    'Accuracy': nn_acc_grid}, index=[0])])\n",
    "performance"
   ]
  },
  {
   "cell_type": "markdown",
   "id": "1ffb487a-2a7a-4c57-b50a-c8470f89cc10",
   "metadata": {},
   "source": [
    "#### Using Keras\n",
    "### Deep Network"
   ]
  },
  {
   "cell_type": "code",
   "execution_count": 77,
   "id": "533b211a-9a24-41d2-94b3-c81b43311240",
   "metadata": {},
   "outputs": [
    {
     "name": "stdout",
     "output_type": "stream",
     "text": [
      "CPU times: total: 125 ms\n",
      "Wall time: 209 ms\n"
     ]
    }
   ],
   "source": [
    "%%time\n",
    "\n",
    "# create model stucture\n",
    "model = keras.models.Sequential()\n",
    "model.add(keras.layers.Input(21))\n",
    "model.add(keras.layers.Dense(50, activation='relu'))\n",
    "model.add(keras.layers.Dense(50, activation='relu'))\n",
    "model.add(keras.layers.Dense(50, activation='relu'))\n",
    "model.add(keras.layers.Dense(10, activation='softmax')) # final layer, 10 categories\n",
    "\n",
    "\n",
    "# compile\n",
    "model.compile(loss='sparse_categorical_crossentropy', optimizer='adam', metrics=['accuracy'])\n",
    "\n",
    "# if you want to overide the defaults for the optimizer....\n",
    "#adam = keras.optimizers.Adam(learning_rate=0.01)\n",
    "#model.compile(loss='sparse_categorical_crossentropy', optimizer=adam, metrics=['accuracy'])\n"
   ]
  },
  {
   "cell_type": "code",
   "execution_count": 78,
   "id": "7247eb65-a4e2-49e2-95ec-229da71f070c",
   "metadata": {},
   "outputs": [
    {
     "name": "stdout",
     "output_type": "stream",
     "text": [
      "Epoch 1/63\n",
      "6/6 [==============================] - 1s 123ms/step - loss: 2.4190 - accuracy: 0.0298 - val_loss: 2.2590 - val_accuracy: 0.0824\n",
      "Epoch 2/63\n",
      "6/6 [==============================] - 0s 22ms/step - loss: 2.0849 - accuracy: 0.3082 - val_loss: 2.0692 - val_accuracy: 0.1657\n",
      "Epoch 3/63\n",
      "6/6 [==============================] - 0s 19ms/step - loss: 1.8236 - accuracy: 0.5964 - val_loss: 1.9042 - val_accuracy: 0.1426\n",
      "Epoch 4/63\n",
      "6/6 [==============================] - 0s 20ms/step - loss: 1.5879 - accuracy: 0.6402 - val_loss: 1.7678 - val_accuracy: 0.0972\n",
      "Epoch 5/63\n",
      "6/6 [==============================] - 0s 19ms/step - loss: 1.3699 - accuracy: 0.6561 - val_loss: 1.6694 - val_accuracy: 0.0801\n",
      "Epoch 6/63\n",
      "6/6 [==============================] - 0s 15ms/step - loss: 1.1790 - accuracy: 0.6660 - val_loss: 1.5461 - val_accuracy: 0.0852\n",
      "Epoch 7/63\n",
      "6/6 [==============================] - 0s 16ms/step - loss: 1.0238 - accuracy: 0.6799 - val_loss: 1.4423 - val_accuracy: 0.0986\n",
      "Epoch 8/63\n",
      "6/6 [==============================] - 0s 15ms/step - loss: 0.8973 - accuracy: 0.6859 - val_loss: 1.3129 - val_accuracy: 0.1537\n",
      "Epoch 9/63\n",
      "6/6 [==============================] - 0s 16ms/step - loss: 0.7959 - accuracy: 0.7018 - val_loss: 1.2040 - val_accuracy: 0.1894\n",
      "Epoch 10/63\n",
      "6/6 [==============================] - 0s 16ms/step - loss: 0.7129 - accuracy: 0.7356 - val_loss: 0.9727 - val_accuracy: 0.3444\n",
      "Epoch 11/63\n",
      "6/6 [==============================] - 0s 16ms/step - loss: 0.6564 - accuracy: 0.7674 - val_loss: 0.8693 - val_accuracy: 0.4264\n",
      "Epoch 12/63\n",
      "6/6 [==============================] - 0s 15ms/step - loss: 0.6149 - accuracy: 0.7714 - val_loss: 0.8197 - val_accuracy: 0.4722\n",
      "Epoch 13/63\n",
      "6/6 [==============================] - 0s 16ms/step - loss: 0.5769 - accuracy: 0.7694 - val_loss: 0.8750 - val_accuracy: 0.4218\n",
      "Epoch 14/63\n",
      "6/6 [==============================] - 0s 16ms/step - loss: 0.5400 - accuracy: 0.7853 - val_loss: 1.0167 - val_accuracy: 0.3481\n",
      "Epoch 15/63\n",
      "6/6 [==============================] - 0s 15ms/step - loss: 0.5226 - accuracy: 0.7853 - val_loss: 0.9683 - val_accuracy: 0.3977\n",
      "Epoch 16/63\n",
      "6/6 [==============================] - 0s 17ms/step - loss: 0.5042 - accuracy: 0.7932 - val_loss: 0.9671 - val_accuracy: 0.4120\n",
      "Epoch 17/63\n",
      "6/6 [==============================] - 0s 15ms/step - loss: 0.4869 - accuracy: 0.7972 - val_loss: 0.8456 - val_accuracy: 0.4843\n",
      "Epoch 18/63\n",
      "6/6 [==============================] - 0s 16ms/step - loss: 0.4658 - accuracy: 0.8151 - val_loss: 0.7117 - val_accuracy: 0.5884\n",
      "Epoch 19/63\n",
      "6/6 [==============================] - 0s 16ms/step - loss: 0.4535 - accuracy: 0.8290 - val_loss: 0.7034 - val_accuracy: 0.6014\n",
      "Epoch 20/63\n",
      "6/6 [==============================] - 0s 18ms/step - loss: 0.4412 - accuracy: 0.8250 - val_loss: 0.7422 - val_accuracy: 0.5731\n",
      "Epoch 21/63\n",
      "6/6 [==============================] - 0s 17ms/step - loss: 0.4287 - accuracy: 0.8290 - val_loss: 0.7647 - val_accuracy: 0.5764\n",
      "Epoch 22/63\n",
      "6/6 [==============================] - 0s 16ms/step - loss: 0.4285 - accuracy: 0.8270 - val_loss: 0.7842 - val_accuracy: 0.5676\n",
      "Epoch 23/63\n",
      "6/6 [==============================] - 0s 15ms/step - loss: 0.4373 - accuracy: 0.8250 - val_loss: 0.6768 - val_accuracy: 0.6491\n",
      "Epoch 24/63\n",
      "6/6 [==============================] - 0s 17ms/step - loss: 0.4174 - accuracy: 0.8370 - val_loss: 0.4791 - val_accuracy: 0.8060\n",
      "Epoch 25/63\n",
      "6/6 [==============================] - 0s 16ms/step - loss: 0.4274 - accuracy: 0.8191 - val_loss: 0.6391 - val_accuracy: 0.6792\n",
      "Epoch 26/63\n",
      "6/6 [==============================] - 0s 16ms/step - loss: 0.3909 - accuracy: 0.8588 - val_loss: 1.0710 - val_accuracy: 0.3917\n",
      "Epoch 27/63\n",
      "6/6 [==============================] - 0s 16ms/step - loss: 0.4324 - accuracy: 0.8032 - val_loss: 1.1712 - val_accuracy: 0.3481\n",
      "Epoch 28/63\n",
      "6/6 [==============================] - 0s 16ms/step - loss: 0.4072 - accuracy: 0.8171 - val_loss: 0.8668 - val_accuracy: 0.4801\n",
      "Epoch 29/63\n",
      "6/6 [==============================] - 0s 16ms/step - loss: 0.3652 - accuracy: 0.8549 - val_loss: 0.7009 - val_accuracy: 0.5829\n",
      "Epoch 30/63\n",
      "6/6 [==============================] - 0s 15ms/step - loss: 0.3540 - accuracy: 0.8767 - val_loss: 0.6224 - val_accuracy: 0.6454\n",
      "Epoch 31/63\n",
      "6/6 [==============================] - 0s 16ms/step - loss: 0.3474 - accuracy: 0.8847 - val_loss: 0.6824 - val_accuracy: 0.6000\n",
      "Epoch 32/63\n",
      "6/6 [==============================] - 0s 16ms/step - loss: 0.3385 - accuracy: 0.8748 - val_loss: 0.7500 - val_accuracy: 0.5546\n",
      "Epoch 33/63\n",
      "6/6 [==============================] - 0s 14ms/step - loss: 0.3329 - accuracy: 0.8668 - val_loss: 0.7306 - val_accuracy: 0.5940\n",
      "Epoch 34/63\n",
      "6/6 [==============================] - 0s 16ms/step - loss: 0.3277 - accuracy: 0.8748 - val_loss: 0.5748 - val_accuracy: 0.7194\n",
      "Epoch 35/63\n",
      "6/6 [==============================] - 0s 17ms/step - loss: 0.3261 - accuracy: 0.8827 - val_loss: 0.6154 - val_accuracy: 0.6944\n",
      "Epoch 36/63\n",
      "6/6 [==============================] - 0s 14ms/step - loss: 0.3110 - accuracy: 0.8867 - val_loss: 0.8504 - val_accuracy: 0.5227\n",
      "Epoch 37/63\n",
      "6/6 [==============================] - 0s 15ms/step - loss: 0.3167 - accuracy: 0.8688 - val_loss: 0.8302 - val_accuracy: 0.5315\n",
      "Epoch 38/63\n",
      "6/6 [==============================] - 0s 18ms/step - loss: 0.2999 - accuracy: 0.8827 - val_loss: 0.6069 - val_accuracy: 0.6833\n",
      "Epoch 39/63\n",
      "6/6 [==============================] - 0s 17ms/step - loss: 0.2949 - accuracy: 0.9145 - val_loss: 0.4886 - val_accuracy: 0.7782\n",
      "Epoch 40/63\n",
      "6/6 [==============================] - 0s 20ms/step - loss: 0.2874 - accuracy: 0.9105 - val_loss: 0.6183 - val_accuracy: 0.6931\n",
      "Epoch 41/63\n",
      "6/6 [==============================] - 0s 15ms/step - loss: 0.2834 - accuracy: 0.8966 - val_loss: 0.7045 - val_accuracy: 0.6356\n",
      "Epoch 42/63\n",
      "6/6 [==============================] - 0s 15ms/step - loss: 0.2761 - accuracy: 0.8966 - val_loss: 0.6066 - val_accuracy: 0.6949\n",
      "Epoch 43/63\n",
      "6/6 [==============================] - 0s 15ms/step - loss: 0.2700 - accuracy: 0.9145 - val_loss: 0.4336 - val_accuracy: 0.8116\n",
      "Epoch 44/63\n",
      "6/6 [==============================] - 0s 17ms/step - loss: 0.2682 - accuracy: 0.9185 - val_loss: 0.5846 - val_accuracy: 0.7134\n",
      "Epoch 45/63\n",
      "6/6 [==============================] - 0s 15ms/step - loss: 0.2520 - accuracy: 0.9165 - val_loss: 0.6861 - val_accuracy: 0.6546\n",
      "Epoch 46/63\n",
      "6/6 [==============================] - 0s 18ms/step - loss: 0.2444 - accuracy: 0.9304 - val_loss: 0.4849 - val_accuracy: 0.7745\n",
      "Epoch 47/63\n",
      "6/6 [==============================] - 0s 17ms/step - loss: 0.2517 - accuracy: 0.9304 - val_loss: 0.4876 - val_accuracy: 0.7769\n",
      "Epoch 48/63\n",
      "6/6 [==============================] - 0s 15ms/step - loss: 0.2377 - accuracy: 0.9443 - val_loss: 0.6928 - val_accuracy: 0.6495\n",
      "Epoch 49/63\n",
      "6/6 [==============================] - 0s 16ms/step - loss: 0.2345 - accuracy: 0.9105 - val_loss: 0.6924 - val_accuracy: 0.6500\n",
      "Epoch 50/63\n",
      "6/6 [==============================] - 0s 16ms/step - loss: 0.2235 - accuracy: 0.9245 - val_loss: 0.5068 - val_accuracy: 0.7792\n",
      "Epoch 51/63\n",
      "6/6 [==============================] - 0s 16ms/step - loss: 0.2147 - accuracy: 0.9563 - val_loss: 0.4055 - val_accuracy: 0.8435\n",
      "Epoch 52/63\n",
      "6/6 [==============================] - 0s 17ms/step - loss: 0.2079 - accuracy: 0.9563 - val_loss: 0.5889 - val_accuracy: 0.7338\n",
      "Epoch 53/63\n",
      "6/6 [==============================] - 0s 19ms/step - loss: 0.2023 - accuracy: 0.9404 - val_loss: 0.6745 - val_accuracy: 0.6796\n",
      "Epoch 54/63\n",
      "6/6 [==============================] - 0s 16ms/step - loss: 0.1954 - accuracy: 0.9423 - val_loss: 0.5693 - val_accuracy: 0.7481\n",
      "Epoch 55/63\n",
      "6/6 [==============================] - 0s 16ms/step - loss: 0.1859 - accuracy: 0.9463 - val_loss: 0.5936 - val_accuracy: 0.7431\n",
      "Epoch 56/63\n",
      "6/6 [==============================] - 0s 17ms/step - loss: 0.1805 - accuracy: 0.9543 - val_loss: 0.4810 - val_accuracy: 0.8185\n",
      "Epoch 57/63\n",
      "6/6 [==============================] - 0s 16ms/step - loss: 0.1849 - accuracy: 0.9642 - val_loss: 0.4239 - val_accuracy: 0.8440\n",
      "Epoch 58/63\n",
      "6/6 [==============================] - 0s 16ms/step - loss: 0.1749 - accuracy: 0.9662 - val_loss: 0.4967 - val_accuracy: 0.8009\n",
      "Epoch 59/63\n",
      "6/6 [==============================] - 0s 16ms/step - loss: 0.1601 - accuracy: 0.9583 - val_loss: 0.5545 - val_accuracy: 0.7745\n",
      "Epoch 60/63\n",
      "6/6 [==============================] - 0s 16ms/step - loss: 0.1550 - accuracy: 0.9602 - val_loss: 0.5292 - val_accuracy: 0.7847\n",
      "Epoch 61/63\n",
      "6/6 [==============================] - 0s 15ms/step - loss: 0.1463 - accuracy: 0.9702 - val_loss: 0.4801 - val_accuracy: 0.8139\n",
      "Epoch 62/63\n",
      "6/6 [==============================] - 0s 14ms/step - loss: 0.1404 - accuracy: 0.9761 - val_loss: 0.4287 - val_accuracy: 0.8449\n",
      "Epoch 63/63\n",
      "6/6 [==============================] - 0s 13ms/step - loss: 0.1352 - accuracy: 0.9801 - val_loss: 0.4866 - val_accuracy: 0.8157\n",
      "CPU times: total: 1min 1s\n",
      "Wall time: 6.88 s\n"
     ]
    }
   ],
   "source": [
    "%%time\n",
    "\n",
    "# fit the model\n",
    "history = model.fit(X_train, y_train, \n",
    "                    validation_data=(X_test, y_test), \n",
    "                    epochs=63, batch_size=100)"
   ]
  },
  {
   "cell_type": "code",
   "execution_count": 79,
   "id": "630b5494-6137-40a5-ac0e-0ebe645e3dca",
   "metadata": {},
   "outputs": [
    {
     "name": "stdout",
     "output_type": "stream",
     "text": [
      "68/68 [==============================] - 0s 4ms/step - loss: 0.4866 - accuracy: 0.8157\n"
     ]
    },
    {
     "data": {
      "text/plain": [
       "[0.4866466522216797, 0.8157407641410828]"
      ]
     },
     "execution_count": 79,
     "metadata": {},
     "output_type": "execute_result"
    }
   ],
   "source": [
    "# evaluate the model\n",
    "\n",
    "scores = model.evaluate(X_test, y_test)\n",
    "scores\n",
    "# In results, first is loss, second is accuracy\n",
    "\n",
    "\n",
    "# y_pred = model.predict(X_test)\n",
    "\n",
    "# dn_acc= accuracy_score(y_test, y_pred)\n",
    "# print(dn_acc)"
   ]
  },
  {
   "cell_type": "code",
   "execution_count": 101,
   "id": "85b3596a-dfe5-47d5-af9d-a49a24709b0a",
   "metadata": {},
   "outputs": [],
   "source": [
    "dp_acc = 0.8157407"
   ]
  },
  {
   "cell_type": "code",
   "execution_count": 82,
   "id": "a9e0b6e8-98d5-4f03-8d99-259a496ed3d5",
   "metadata": {},
   "outputs": [
    {
     "name": "stdout",
     "output_type": "stream",
     "text": [
      "loss: 0.49\n",
      "accuracy: 81.57%\n"
     ]
    },
    {
     "data": {
      "text/html": [
       "<div>\n",
       "<style scoped>\n",
       "    .dataframe tbody tr th:only-of-type {\n",
       "        vertical-align: middle;\n",
       "    }\n",
       "\n",
       "    .dataframe tbody tr th {\n",
       "        vertical-align: top;\n",
       "    }\n",
       "\n",
       "    .dataframe thead th {\n",
       "        text-align: right;\n",
       "    }\n",
       "</style>\n",
       "<table border=\"1\" class=\"dataframe\">\n",
       "  <thead>\n",
       "    <tr style=\"text-align: right;\">\n",
       "      <th></th>\n",
       "      <th>model</th>\n",
       "      <th>Accuracy</th>\n",
       "    </tr>\n",
       "  </thead>\n",
       "  <tbody>\n",
       "    <tr>\n",
       "      <th>0</th>\n",
       "      <td>Log Reg</td>\n",
       "      <td>0.926852</td>\n",
       "    </tr>\n",
       "    <tr>\n",
       "      <th>0</th>\n",
       "      <td>Rand Log Reg</td>\n",
       "      <td>0.956944</td>\n",
       "    </tr>\n",
       "    <tr>\n",
       "      <th>0</th>\n",
       "      <td>Grid Log Reg</td>\n",
       "      <td>0.954630</td>\n",
       "    </tr>\n",
       "    <tr>\n",
       "      <th>0</th>\n",
       "      <td>Linear SVM</td>\n",
       "      <td>0.937500</td>\n",
       "    </tr>\n",
       "    <tr>\n",
       "      <th>0</th>\n",
       "      <td>Linear Rand SVM</td>\n",
       "      <td>0.943519</td>\n",
       "    </tr>\n",
       "    <tr>\n",
       "      <th>0</th>\n",
       "      <td>Linear Grid SVM</td>\n",
       "      <td>0.955556</td>\n",
       "    </tr>\n",
       "    <tr>\n",
       "      <th>0</th>\n",
       "      <td>rbf SVM</td>\n",
       "      <td>0.846296</td>\n",
       "    </tr>\n",
       "    <tr>\n",
       "      <th>0</th>\n",
       "      <td>rbf rand svm</td>\n",
       "      <td>0.846296</td>\n",
       "    </tr>\n",
       "    <tr>\n",
       "      <th>0</th>\n",
       "      <td>rbf grid svm</td>\n",
       "      <td>0.936111</td>\n",
       "    </tr>\n",
       "    <tr>\n",
       "      <th>0</th>\n",
       "      <td>poly svm</td>\n",
       "      <td>0.918056</td>\n",
       "    </tr>\n",
       "    <tr>\n",
       "      <th>0</th>\n",
       "      <td>poly rand svm</td>\n",
       "      <td>0.910185</td>\n",
       "    </tr>\n",
       "    <tr>\n",
       "      <th>0</th>\n",
       "      <td>poly grid svm</td>\n",
       "      <td>0.846296</td>\n",
       "    </tr>\n",
       "    <tr>\n",
       "      <th>0</th>\n",
       "      <td>D Tree</td>\n",
       "      <td>0.987037</td>\n",
       "    </tr>\n",
       "    <tr>\n",
       "      <th>0</th>\n",
       "      <td>D Tree Rand</td>\n",
       "      <td>0.982870</td>\n",
       "    </tr>\n",
       "    <tr>\n",
       "      <th>0</th>\n",
       "      <td>D Tree Grid</td>\n",
       "      <td>0.950926</td>\n",
       "    </tr>\n",
       "    <tr>\n",
       "      <th>0</th>\n",
       "      <td>Neural Net</td>\n",
       "      <td>0.876389</td>\n",
       "    </tr>\n",
       "    <tr>\n",
       "      <th>0</th>\n",
       "      <td>NN Rand</td>\n",
       "      <td>0.893519</td>\n",
       "    </tr>\n",
       "    <tr>\n",
       "      <th>0</th>\n",
       "      <td>NN Grid</td>\n",
       "      <td>0.952778</td>\n",
       "    </tr>\n",
       "    <tr>\n",
       "      <th>0</th>\n",
       "      <td>Deep Network</td>\n",
       "      <td>0.815741</td>\n",
       "    </tr>\n",
       "  </tbody>\n",
       "</table>\n",
       "</div>"
      ],
      "text/plain": [
       "             model  Accuracy\n",
       "0          Log Reg  0.926852\n",
       "0     Rand Log Reg  0.956944\n",
       "0     Grid Log Reg  0.954630\n",
       "0       Linear SVM  0.937500\n",
       "0  Linear Rand SVM  0.943519\n",
       "0  Linear Grid SVM  0.955556\n",
       "0          rbf SVM  0.846296\n",
       "0     rbf rand svm  0.846296\n",
       "0     rbf grid svm  0.936111\n",
       "0         poly svm  0.918056\n",
       "0    poly rand svm  0.910185\n",
       "0    poly grid svm  0.846296\n",
       "0           D Tree  0.987037\n",
       "0      D Tree Rand  0.982870\n",
       "0      D Tree Grid  0.950926\n",
       "0       Neural Net  0.876389\n",
       "0          NN Rand  0.893519\n",
       "0          NN Grid  0.952778\n",
       "0     Deep Network  0.815741"
      ]
     },
     "execution_count": 82,
     "metadata": {},
     "output_type": "execute_result"
    }
   ],
   "source": [
    "# let's format this into a better output...\n",
    "\n",
    "print(\"%s: %.2f\" % (model.metrics_names[0], scores[0]))\n",
    "print(\"%s: %.2f%%\" % (model.metrics_names[1], scores[1]*100))\n",
    "\n",
    "\n",
    "performance = pd.concat([performance, pd.DataFrame({'model':\"Deep Network\", \n",
    "                                                    'Accuracy': dp_acc}, index=[0])])\n",
    "performance"
   ]
  },
  {
   "cell_type": "markdown",
   "id": "e7941f2a-6ce4-4994-ab73-d9c7c5f58ba1",
   "metadata": {},
   "source": [
    "### Wide and Deep Network"
   ]
  },
  {
   "cell_type": "code",
   "execution_count": 83,
   "id": "ec1a11dc-6320-48f9-9d4b-fbc56d4bd6fd",
   "metadata": {},
   "outputs": [],
   "source": [
    "#Define the model: for multi-class\n",
    "\n",
    "model = keras.models.Sequential()\n",
    "\n",
    "model.add(keras.layers.Input(shape=21))\n",
    "model.add(keras.layers.Dense(100, activation='relu'))\n",
    "model.add(keras.layers.Dense(100, activation='relu'))\n",
    "model.add(keras.layers.Dense(100, activation='relu'))\n",
    "model.add(keras.layers.Dense(10, activation='softmax'))"
   ]
  },
  {
   "cell_type": "code",
   "execution_count": 84,
   "id": "7092f528-7d2a-4ef7-ac98-b928b96799de",
   "metadata": {},
   "outputs": [],
   "source": [
    "# Compile model\n",
    "\n",
    "#Optimizer:\n",
    "adam = keras.optimizers.Adam(learning_rate=0.01)\n",
    "model.compile(loss='sparse_categorical_crossentropy', optimizer=adam, metrics=['accuracy'])"
   ]
  },
  {
   "cell_type": "code",
   "execution_count": 85,
   "id": "60e125c4-bb97-424b-a9bf-03e72f823c21",
   "metadata": {},
   "outputs": [
    {
     "name": "stdout",
     "output_type": "stream",
     "text": [
      "Epoch 1/20\n",
      "6/6 [==============================] - 1s 72ms/step - loss: 1.2593 - accuracy: 0.5089 - val_loss: 2.1314 - val_accuracy: 0.0667\n",
      "Epoch 2/20\n",
      "6/6 [==============================] - 0s 24ms/step - loss: 0.7848 - accuracy: 0.6163 - val_loss: 1.9087 - val_accuracy: 0.1681\n",
      "Epoch 3/20\n",
      "6/6 [==============================] - 0s 19ms/step - loss: 0.5810 - accuracy: 0.7495 - val_loss: 0.5418 - val_accuracy: 0.7870\n",
      "Epoch 4/20\n",
      "6/6 [==============================] - 0s 18ms/step - loss: 0.4215 - accuracy: 0.8270 - val_loss: 1.1767 - val_accuracy: 0.4648\n",
      "Epoch 5/20\n",
      "6/6 [==============================] - 0s 16ms/step - loss: 0.3868 - accuracy: 0.8469 - val_loss: 0.4432 - val_accuracy: 0.8380\n",
      "Epoch 6/20\n",
      "6/6 [==============================] - 0s 17ms/step - loss: 0.3279 - accuracy: 0.8608 - val_loss: 0.9147 - val_accuracy: 0.5657\n",
      "Epoch 7/20\n",
      "6/6 [==============================] - 0s 16ms/step - loss: 0.2851 - accuracy: 0.8827 - val_loss: 0.3179 - val_accuracy: 0.8991\n",
      "Epoch 8/20\n",
      "6/6 [==============================] - 0s 16ms/step - loss: 0.3357 - accuracy: 0.8628 - val_loss: 0.9154 - val_accuracy: 0.6310\n",
      "Epoch 9/20\n",
      "6/6 [==============================] - 0s 17ms/step - loss: 0.2727 - accuracy: 0.9046 - val_loss: 0.2713 - val_accuracy: 0.9218\n",
      "Epoch 10/20\n",
      "6/6 [==============================] - 0s 15ms/step - loss: 0.3147 - accuracy: 0.8907 - val_loss: 0.5037 - val_accuracy: 0.8171\n",
      "Epoch 11/20\n",
      "6/6 [==============================] - 0s 16ms/step - loss: 0.2008 - accuracy: 0.9404 - val_loss: 0.3913 - val_accuracy: 0.8648\n",
      "Epoch 12/20\n",
      "6/6 [==============================] - 0s 15ms/step - loss: 0.1441 - accuracy: 0.9483 - val_loss: 0.3397 - val_accuracy: 0.9097\n",
      "Epoch 13/20\n",
      "6/6 [==============================] - 0s 16ms/step - loss: 0.1518 - accuracy: 0.9443 - val_loss: 0.5018 - val_accuracy: 0.8551\n",
      "Epoch 14/20\n",
      "6/6 [==============================] - 0s 17ms/step - loss: 0.2220 - accuracy: 0.9404 - val_loss: 0.2755 - val_accuracy: 0.9352\n",
      "Epoch 15/20\n",
      "6/6 [==============================] - 0s 16ms/step - loss: 0.1793 - accuracy: 0.9264 - val_loss: 0.5614 - val_accuracy: 0.8176\n",
      "Epoch 16/20\n",
      "6/6 [==============================] - 0s 16ms/step - loss: 0.1812 - accuracy: 0.9344 - val_loss: 0.2422 - val_accuracy: 0.9505\n",
      "Epoch 17/20\n",
      "6/6 [==============================] - 0s 16ms/step - loss: 0.1725 - accuracy: 0.9344 - val_loss: 0.9434 - val_accuracy: 0.7597\n",
      "Epoch 18/20\n",
      "6/6 [==============================] - 0s 15ms/step - loss: 0.1527 - accuracy: 0.9344 - val_loss: 0.2963 - val_accuracy: 0.9259\n",
      "Epoch 19/20\n",
      "6/6 [==============================] - 0s 17ms/step - loss: 0.3495 - accuracy: 0.9125 - val_loss: 1.2225 - val_accuracy: 0.7079\n",
      "Epoch 20/20\n",
      "6/6 [==============================] - 0s 18ms/step - loss: 0.3429 - accuracy: 0.8907 - val_loss: 0.4991 - val_accuracy: 0.8125\n"
     ]
    }
   ],
   "source": [
    "# Fit the model\n",
    "\n",
    "history = model.fit(X_train, y_train, \n",
    "                    validation_data=(X_test, y_test), \n",
    "                    epochs=20, batch_size=100)"
   ]
  },
  {
   "cell_type": "code",
   "execution_count": 100,
   "id": "d27d39fe-6e0b-4da3-97f8-3629e62bfb94",
   "metadata": {},
   "outputs": [],
   "source": [
    "# evaluate the model\n",
    "\n",
    "scores = model.evaluate(X_test, y_test, verbose=0)\n",
    "scores\n",
    "\n",
    "# In results, first is loss, second is accuracy\n",
    "wdn_acc = 0.8125"
   ]
  },
  {
   "cell_type": "code",
   "execution_count": 88,
   "id": "fb52ee86-a3f6-4cb0-8616-b62c838184fe",
   "metadata": {},
   "outputs": [
    {
     "name": "stdout",
     "output_type": "stream",
     "text": [
      "loss: 0.50\n",
      "accuracy: 81.25%\n"
     ]
    },
    {
     "data": {
      "text/html": [
       "<div>\n",
       "<style scoped>\n",
       "    .dataframe tbody tr th:only-of-type {\n",
       "        vertical-align: middle;\n",
       "    }\n",
       "\n",
       "    .dataframe tbody tr th {\n",
       "        vertical-align: top;\n",
       "    }\n",
       "\n",
       "    .dataframe thead th {\n",
       "        text-align: right;\n",
       "    }\n",
       "</style>\n",
       "<table border=\"1\" class=\"dataframe\">\n",
       "  <thead>\n",
       "    <tr style=\"text-align: right;\">\n",
       "      <th></th>\n",
       "      <th>model</th>\n",
       "      <th>Accuracy</th>\n",
       "    </tr>\n",
       "  </thead>\n",
       "  <tbody>\n",
       "    <tr>\n",
       "      <th>0</th>\n",
       "      <td>Log Reg</td>\n",
       "      <td>0.926852</td>\n",
       "    </tr>\n",
       "    <tr>\n",
       "      <th>0</th>\n",
       "      <td>Rand Log Reg</td>\n",
       "      <td>0.956944</td>\n",
       "    </tr>\n",
       "    <tr>\n",
       "      <th>0</th>\n",
       "      <td>Grid Log Reg</td>\n",
       "      <td>0.954630</td>\n",
       "    </tr>\n",
       "    <tr>\n",
       "      <th>0</th>\n",
       "      <td>Linear SVM</td>\n",
       "      <td>0.937500</td>\n",
       "    </tr>\n",
       "    <tr>\n",
       "      <th>0</th>\n",
       "      <td>Linear Rand SVM</td>\n",
       "      <td>0.943519</td>\n",
       "    </tr>\n",
       "    <tr>\n",
       "      <th>0</th>\n",
       "      <td>Linear Grid SVM</td>\n",
       "      <td>0.955556</td>\n",
       "    </tr>\n",
       "    <tr>\n",
       "      <th>0</th>\n",
       "      <td>rbf SVM</td>\n",
       "      <td>0.846296</td>\n",
       "    </tr>\n",
       "    <tr>\n",
       "      <th>0</th>\n",
       "      <td>rbf rand svm</td>\n",
       "      <td>0.846296</td>\n",
       "    </tr>\n",
       "    <tr>\n",
       "      <th>0</th>\n",
       "      <td>rbf grid svm</td>\n",
       "      <td>0.936111</td>\n",
       "    </tr>\n",
       "    <tr>\n",
       "      <th>0</th>\n",
       "      <td>poly svm</td>\n",
       "      <td>0.918056</td>\n",
       "    </tr>\n",
       "    <tr>\n",
       "      <th>0</th>\n",
       "      <td>poly rand svm</td>\n",
       "      <td>0.910185</td>\n",
       "    </tr>\n",
       "    <tr>\n",
       "      <th>0</th>\n",
       "      <td>poly grid svm</td>\n",
       "      <td>0.846296</td>\n",
       "    </tr>\n",
       "    <tr>\n",
       "      <th>0</th>\n",
       "      <td>D Tree</td>\n",
       "      <td>0.987037</td>\n",
       "    </tr>\n",
       "    <tr>\n",
       "      <th>0</th>\n",
       "      <td>D Tree Rand</td>\n",
       "      <td>0.982870</td>\n",
       "    </tr>\n",
       "    <tr>\n",
       "      <th>0</th>\n",
       "      <td>D Tree Grid</td>\n",
       "      <td>0.950926</td>\n",
       "    </tr>\n",
       "    <tr>\n",
       "      <th>0</th>\n",
       "      <td>Neural Net</td>\n",
       "      <td>0.876389</td>\n",
       "    </tr>\n",
       "    <tr>\n",
       "      <th>0</th>\n",
       "      <td>NN Rand</td>\n",
       "      <td>0.893519</td>\n",
       "    </tr>\n",
       "    <tr>\n",
       "      <th>0</th>\n",
       "      <td>NN Grid</td>\n",
       "      <td>0.952778</td>\n",
       "    </tr>\n",
       "    <tr>\n",
       "      <th>0</th>\n",
       "      <td>Deep Network</td>\n",
       "      <td>0.815741</td>\n",
       "    </tr>\n",
       "    <tr>\n",
       "      <th>0</th>\n",
       "      <td>Wide Deep Network</td>\n",
       "      <td>0.812500</td>\n",
       "    </tr>\n",
       "  </tbody>\n",
       "</table>\n",
       "</div>"
      ],
      "text/plain": [
       "               model  Accuracy\n",
       "0            Log Reg  0.926852\n",
       "0       Rand Log Reg  0.956944\n",
       "0       Grid Log Reg  0.954630\n",
       "0         Linear SVM  0.937500\n",
       "0    Linear Rand SVM  0.943519\n",
       "0    Linear Grid SVM  0.955556\n",
       "0            rbf SVM  0.846296\n",
       "0       rbf rand svm  0.846296\n",
       "0       rbf grid svm  0.936111\n",
       "0           poly svm  0.918056\n",
       "0      poly rand svm  0.910185\n",
       "0      poly grid svm  0.846296\n",
       "0             D Tree  0.987037\n",
       "0        D Tree Rand  0.982870\n",
       "0        D Tree Grid  0.950926\n",
       "0         Neural Net  0.876389\n",
       "0            NN Rand  0.893519\n",
       "0            NN Grid  0.952778\n",
       "0       Deep Network  0.815741\n",
       "0  Wide Deep Network  0.812500"
      ]
     },
     "execution_count": 88,
     "metadata": {},
     "output_type": "execute_result"
    }
   ],
   "source": [
    "# extract the accuracy from model.evaluate\n",
    "\n",
    "print(\"%s: %.2f\" % (model.metrics_names[0], scores[0]))\n",
    "print(\"%s: %.2f%%\" % (model.metrics_names[1], scores[1]*100))\n",
    "\n",
    "performance = pd.concat([performance, pd.DataFrame({'model':\"Wide Deep Network\", \n",
    "                                                    'Accuracy': wdn_acc}, index=[0])])\n",
    "performance"
   ]
  },
  {
   "cell_type": "markdown",
   "id": "3408d442-f32e-4b5f-99f3-eca24ea50512",
   "metadata": {},
   "source": [
    "### RandomGridSearch"
   ]
  },
  {
   "cell_type": "code",
   "execution_count": 89,
   "id": "ae6c8efb-e8a0-4f85-a469-34b3bc364005",
   "metadata": {},
   "outputs": [
    {
     "name": "stdout",
     "output_type": "stream",
     "text": [
      "CPU times: total: 0 ns\n",
      "Wall time: 64.5 ms\n"
     ]
    }
   ],
   "source": [
    "%%time\n",
    "\n",
    "# If you don't have the following installed, from command line '!pip install scikeras'\n",
    "from scikeras.wrappers import KerasClassifier\n",
    "from keras.initializers import GlorotNormal\n",
    "\n",
    "score_measure = \"accuracy\"\n",
    "kfolds = 5\n",
    "\n",
    "def build_clf(hidden_layer_sizes, dropout):\n",
    "    ann = tf.keras.models.Sequential()\n",
    "    ann.add(keras.layers.Input(shape=21)),\n",
    "    for hidden_layer_size in hidden_layer_sizes:\n",
    "        model.add(keras.layers.Dense(hidden_layer_size, kernel_initializer= tf.keras.initializers.GlorotNormal(), \n",
    "                                     bias_initializer=keras.initializers.RandomNormal(mean=0.0, stddev=0.05, seed=None), activation=\"relu\"))\n",
    "        model.add(keras.layers.Dropout(dropout))\n",
    "    ann.add(tf.keras.layers.Dense(3, activation='softmax'))\n",
    "    ann.compile(loss = 'sparse_categorical_crossentropy', metrics = ['accuracy'])\n",
    "    return ann\n"
   ]
  },
  {
   "cell_type": "code",
   "execution_count": 90,
   "id": "2dfac9df-35e6-48be-9169-42b904ece8f4",
   "metadata": {},
   "outputs": [],
   "source": [
    "from scikeras.wrappers import KerasClassifier\n",
    "\n",
    "keras_clf = KerasClassifier(\n",
    "    model=build_clf,\n",
    "    hidden_layer_sizes=21,\n",
    "    dropout = 0.0\n",
    ")\n"
   ]
  },
  {
   "cell_type": "code",
   "execution_count": 91,
   "id": "4bcb3f1f-9a98-474a-9519-89a0950f830b",
   "metadata": {},
   "outputs": [
    {
     "data": {
      "text/plain": [
       "dict_keys(['model', 'build_fn', 'warm_start', 'random_state', 'optimizer', 'loss', 'metrics', 'batch_size', 'validation_batch_size', 'verbose', 'callbacks', 'validation_split', 'shuffle', 'run_eagerly', 'epochs', 'hidden_layer_sizes', 'dropout', 'class_weight'])"
      ]
     },
     "execution_count": 91,
     "metadata": {},
     "output_type": "execute_result"
    }
   ],
   "source": [
    "from tensorflow.keras.callbacks import EarlyStopping\n",
    "from sklearn.model_selection import RandomizedSearchCV\n",
    "\n",
    "params = {\n",
    "    'optimizer__learning_rate': [0.0005, 0.001, 0.005],\n",
    "    'model__hidden_layer_sizes': [(70,),(90, ), (100,), (100, 90)],\n",
    "    'model__dropout': [0, 0.1],\n",
    "    'batch_size':[20, 60, 100],\n",
    "    'epochs':[10, 50, 100],\n",
    "    'optimizer':[\"adam\",'sgd']\n",
    "}\n",
    "keras_clf.get_params().keys()\n",
    "\n"
   ]
  },
  {
   "cell_type": "code",
   "execution_count": 92,
   "id": "a496f4c0-0753-426f-9d43-76d9b395fd9d",
   "metadata": {},
   "outputs": [
    {
     "name": "stdout",
     "output_type": "stream",
     "text": [
      "2/2 [==============================] - 0s 0s/step\n",
      "2/2 [==============================] - 0s 0s/step\n",
      "2/2 [==============================] - 0s 0s/step\n",
      "1/1 [==============================] - 0s 63ms/step\n",
      "WARNING:tensorflow:5 out of the last 8 calls to <function Model.make_predict_function.<locals>.predict_function at 0x000001C299EF53A0> triggered tf.function retracing. Tracing is expensive and the excessive number of tracings could be due to (1) creating @tf.function repeatedly in a loop, (2) passing tensors with different shapes, (3) passing Python objects instead of tensors. For (1), please define your @tf.function outside of the loop. For (2), @tf.function has reduce_retracing=True option that can avoid unnecessary retracing. For (3), please refer to https://www.tensorflow.org/guide/function#controlling_retracing and https://www.tensorflow.org/api_docs/python/tf/function for  more details.\n",
      "1/1 [==============================] - 0s 63ms/step\n",
      "WARNING:tensorflow:6 out of the last 9 calls to <function Model.make_predict_function.<locals>.predict_function at 0x000001C2996CC0D0> triggered tf.function retracing. Tracing is expensive and the excessive number of tracings could be due to (1) creating @tf.function repeatedly in a loop, (2) passing tensors with different shapes, (3) passing Python objects instead of tensors. For (1), please define your @tf.function outside of the loop. For (2), @tf.function has reduce_retracing=True option that can avoid unnecessary retracing. For (3), please refer to https://www.tensorflow.org/guide/function#controlling_retracing and https://www.tensorflow.org/api_docs/python/tf/function for  more details.\n",
      "2/2 [==============================] - 0s 0s/step\n",
      "2/2 [==============================] - 0s 0s/step\n",
      "2/2 [==============================] - 0s 16ms/step\n",
      "2/2 [==============================] - 0s 0s/step\n",
      "2/2 [==============================] - 0s 0s/step\n",
      "6/6 [==============================] - 0s 2ms/step\n",
      "6/6 [==============================] - 0s 2ms/step\n",
      "6/6 [==============================] - 0s 1ms/step\n",
      "5/5 [==============================] - 0s 5ms/step\n",
      "5/5 [==============================] - 0s 4ms/step\n",
      "2/2 [==============================] - 0s 16ms/step\n",
      "2/2 [==============================] - 0s 0s/step\n",
      "2/2 [==============================] - 0s 16ms/step\n",
      "2/2 [==============================] - 0s 0s/step\n",
      "2/2 [==============================] - 0s 16ms/step\n",
      "2/2 [==============================] - 0s 16ms/step\n",
      "2/2 [==============================] - 0s 16ms/step\n",
      "2/2 [==============================] - 0s 0s/step\n",
      "1/1 [==============================] - 0s 50ms/step\n",
      "1/1 [==============================] - 0s 59ms/step\n",
      "6/6 [==============================] - 0s 2ms/step\n",
      "6/6 [==============================] - 0s 3ms/step\n",
      "6/6 [==============================] - 0s 3ms/step\n",
      "5/5 [==============================] - 0s 0s/step\n",
      "5/5 [==============================] - 0s 0s/step\n",
      "2/2 [==============================] - 0s 8ms/step\n",
      "2/2 [==============================] - 0s 8ms/step\n",
      "2/2 [==============================] - 0s 0s/step\n",
      "1/1 [==============================] - 0s 48ms/step\n",
      "1/1 [==============================] - 0s 72ms/step\n",
      "2/2 [==============================] - 0s 8ms/step\n",
      "2/2 [==============================] - 0s 0s/step\n",
      "2/2 [==============================] - 0s 0s/step\n",
      "1/1 [==============================] - 0s 57ms/step\n",
      "1/1 [==============================] - 0s 48ms/step\n",
      "2/2 [==============================] - 0s 0s/step\n",
      "2/2 [==============================] - 0s 0s/step\n",
      "2/2 [==============================] - 0s 8ms/step\n",
      "1/1 [==============================] - 0s 56ms/step\n",
      "1/1 [==============================] - 0s 64ms/step\n",
      "2/2 [==============================] - 0s 0s/step\n",
      "2/2 [==============================] - 0s 8ms/step\n",
      "2/2 [==============================] - 0s 0s/step\n",
      "2/2 [==============================] - 0s 0s/step\n",
      "2/2 [==============================] - 0s 8ms/step\n",
      "2/2 [==============================] - 0s 0s/step\n",
      "2/2 [==============================] - 0s 8ms/step\n",
      "2/2 [==============================] - 0s 8ms/step\n",
      "2/2 [==============================] - 0s 8ms/step\n",
      "2/2 [==============================] - 0s 0s/step\n",
      "2/2 [==============================] - 0s 8ms/step\n",
      "2/2 [==============================] - 0s 0s/step\n",
      "2/2 [==============================] - 0s 0s/step\n",
      "2/2 [==============================] - 0s 0s/step\n",
      "2/2 [==============================] - 0s 8ms/step\n",
      "6/6 [==============================] - 0s 2ms/step\n",
      "6/6 [==============================] - 0s 0s/step\n",
      "6/6 [==============================] - 0s 0s/step\n",
      "5/5 [==============================] - 0s 2ms/step\n",
      "5/5 [==============================] - 0s 2ms/step\n",
      "2/2 [==============================] - 0s 8ms/step\n",
      "2/2 [==============================] - 0s 0s/step\n",
      "2/2 [==============================] - 0s 8ms/step\n",
      "1/1 [==============================] - 0s 48ms/step\n",
      "1/1 [==============================] - 0s 48ms/step\n",
      "2/2 [==============================] - 0s 3ms/step\n",
      "2/2 [==============================] - 0s 0s/step\n",
      "2/2 [==============================] - 0s 0s/step\n",
      "1/1 [==============================] - 0s 56ms/step\n",
      "1/1 [==============================] - 0s 64ms/step\n",
      "2/2 [==============================] - 0s 8ms/step\n",
      "2/2 [==============================] - 0s 0s/step\n",
      "2/2 [==============================] - 0s 0s/step\n",
      "1/1 [==============================] - 0s 56ms/step\n",
      "1/1 [==============================] - 0s 56ms/step\n",
      "6/6 [==============================] - 0s 0s/step\n",
      "6/6 [==============================] - 0s 2ms/step\n",
      "6/6 [==============================] - 0s 802us/step\n",
      "5/5 [==============================] - 0s 0s/step\n",
      "5/5 [==============================] - 0s 0s/step\n",
      "2/2 [==============================] - 0s 0s/step\n",
      "2/2 [==============================] - 0s 0s/step\n",
      "2/2 [==============================] - 0s 0s/step\n",
      "2/2 [==============================] - 0s 8ms/step\n",
      "2/2 [==============================] - 0s 8ms/step\n",
      "2/2 [==============================] - 0s 4ms/step\n",
      "2/2 [==============================] - 0s 16ms/step\n",
      "2/2 [==============================] - 0s 0s/step\n",
      "1/1 [==============================] - 0s 63ms/step\n",
      "1/1 [==============================] - 0s 63ms/step\n",
      "2/2 [==============================] - 0s 0s/step\n",
      "2/2 [==============================] - 0s 16ms/step\n",
      "2/2 [==============================] - 0s 16ms/step\n",
      "1/1 [==============================] - 0s 63ms/step\n",
      "1/1 [==============================] - 0s 63ms/step\n",
      "6/6 [==============================] - 0s 2ms/step\n",
      "6/6 [==============================] - 0s 4ms/step\n",
      "6/6 [==============================] - 0s 2ms/step\n",
      "5/5 [==============================] - 0s 3ms/step\n",
      "5/5 [==============================] - 0s 2ms/step\n",
      "2/2 [==============================] - 0s 0s/step\n",
      "2/2 [==============================] - 0s 0s/step\n",
      "2/2 [==============================] - 0s 0s/step\n",
      "1/1 [==============================] - 0s 69ms/step\n",
      "1/1 [==============================] - 0s 47ms/step\n",
      "2/2 [==============================] - 0s 10ms/step\n",
      "2/2 [==============================] - 0s 0s/step\n",
      "2/2 [==============================] - 0s 0s/step\n",
      "1/1 [==============================] - 0s 47ms/step\n",
      "1/1 [==============================] - 0s 63ms/step\n",
      "6/6 [==============================] - 0s 4ms/step\n",
      "6/6 [==============================] - 0s 2ms/step\n",
      "6/6 [==============================] - 0s 1ms/step\n",
      "5/5 [==============================] - 0s 4ms/step\n",
      "5/5 [==============================] - 0s 2ms/step\n",
      "2/2 [==============================] - 0s 0s/step\n",
      "2/2 [==============================] - 0s 0s/step\n",
      "2/2 [==============================] - 0s 0s/step\n",
      "1/1 [==============================] - 0s 60ms/step\n",
      "1/1 [==============================] - 0s 63ms/step\n",
      "2/2 [==============================] - 0s 0s/step\n",
      "2/2 [==============================] - 0s 1ms/step\n",
      "2/2 [==============================] - 0s 8ms/step\n",
      "2/2 [==============================] - 0s 0s/step\n",
      "2/2 [==============================] - 0s 0s/step\n",
      "2/2 [==============================] - 0s 0s/step\n",
      "2/2 [==============================] - 0s 0s/step\n",
      "2/2 [==============================] - 0s 0s/step\n",
      "2/2 [==============================] - 0s 0s/step\n",
      "2/2 [==============================] - 0s 16ms/step\n",
      "2/2 [==============================] - 0s 0s/step\n",
      "2/2 [==============================] - 0s 0s/step\n",
      "2/2 [==============================] - 0s 0s/step\n",
      "1/1 [==============================] - 0s 49ms/step\n",
      "1/1 [==============================] - 0s 63ms/step\n",
      "2/2 [==============================] - 0s 0s/step\n",
      "2/2 [==============================] - 0s 0s/step\n",
      "2/2 [==============================] - 0s 25ms/step\n",
      "1/1 [==============================] - 0s 63ms/step\n",
      "1/1 [==============================] - 0s 63ms/step\n",
      "2/2 [==============================] - 0s 0s/step\n",
      "2/2 [==============================] - 0s 0s/step\n",
      "2/2 [==============================] - 0s 15ms/step\n",
      "2/2 [==============================] - 0s 1ms/step\n",
      "2/2 [==============================] - 0s 16ms/step\n",
      "6/6 [==============================] - 0s 3ms/step\n",
      "6/6 [==============================] - 0s 2ms/step\n",
      "6/6 [==============================] - 0s 2ms/step\n",
      "5/5 [==============================] - 0s 1ms/step\n",
      "5/5 [==============================] - 0s 4ms/step\n",
      "6/6 [==============================] - 0s 3ms/step\n",
      "6/6 [==============================] - 0s 1ms/step\n",
      "6/6 [==============================] - 0s 3ms/step\n",
      "5/5 [==============================] - 0s 3ms/step\n",
      "5/5 [==============================] - 0s 4ms/step\n",
      "2/2 [==============================] - 0s 0s/step\n",
      "2/2 [==============================] - 0s 0s/step\n",
      "2/2 [==============================] - 0s 0s/step\n",
      "1/1 [==============================] - 0s 47ms/step\n",
      "1/1 [==============================] - 0s 47ms/step\n",
      "2/2 [==============================] - 0s 0s/step\n",
      "2/2 [==============================] - 0s 0s/step\n",
      "2/2 [==============================] - 0s 3ms/step\n",
      "1/1 [==============================] - 0s 47ms/step\n",
      "1/1 [==============================] - 0s 47ms/step\n",
      "6/6 [==============================] - 0s 3ms/step\n",
      "6/6 [==============================] - 0s 3ms/step\n",
      "6/6 [==============================] - 0s 2ms/step\n",
      "5/5 [==============================] - 0s 2ms/step\n",
      "5/5 [==============================] - 0s 2ms/step\n",
      "2/2 [==============================] - 0s 7ms/step\n",
      "2/2 [==============================] - 0s 0s/step\n",
      "2/2 [==============================] - 0s 0s/step\n",
      "1/1 [==============================] - 0s 63ms/step\n",
      "1/1 [==============================] - 0s 63ms/step\n",
      "2/2 [==============================] - 0s 14ms/step\n",
      "2/2 [==============================] - 0s 16ms/step\n",
      "2/2 [==============================] - 0s 0s/step\n",
      "2/2 [==============================] - 0s 0s/step\n",
      "2/2 [==============================] - 0s 0s/step\n",
      "2/2 [==============================] - 0s 0s/step\n",
      "2/2 [==============================] - 0s 0s/step\n",
      "2/2 [==============================] - 0s 0s/step\n",
      "2/2 [==============================] - 0s 0s/step\n",
      "2/2 [==============================] - 0s 0s/step\n",
      "2/2 [==============================] - 0s 16ms/step\n",
      "2/2 [==============================] - 0s 8ms/step\n",
      "2/2 [==============================] - 0s 0s/step\n",
      "2/2 [==============================] - 0s 2ms/step\n",
      "2/2 [==============================] - 0s 1ms/step\n",
      "6/6 [==============================] - 0s 3ms/step\n",
      "6/6 [==============================] - 0s 2ms/step\n",
      "6/6 [==============================] - 0s 3ms/step\n",
      "5/5 [==============================] - 0s 5ms/step\n",
      "5/5 [==============================] - 0s 2ms/step\n",
      "2/2 [==============================] - 0s 16ms/step\n",
      "2/2 [==============================] - 0s 0s/step\n",
      "2/2 [==============================] - 0s 0s/step\n",
      "2/2 [==============================] - 0s 3ms/step\n",
      "2/2 [==============================] - 0s 0s/step\n",
      "2/2 [==============================] - 0s 0s/step\n",
      "2/2 [==============================] - 0s 0s/step\n",
      "2/2 [==============================] - 0s 0s/step\n",
      "2/2 [==============================] - 0s 0s/step\n",
      "2/2 [==============================] - 0s 0s/step\n",
      "2/2 [==============================] - 0s 16ms/step\n",
      "2/2 [==============================] - 0s 0s/step\n",
      "2/2 [==============================] - 0s 11ms/step\n",
      "1/1 [==============================] - 0s 63ms/step\n",
      "1/1 [==============================] - 0s 75ms/step\n",
      "6/6 [==============================] - 0s 5ms/step\n",
      "6/6 [==============================] - 0s 2ms/step\n",
      "6/6 [==============================] - 0s 2ms/step\n",
      "5/5 [==============================] - 0s 3ms/step\n",
      "5/5 [==============================] - 0s 0s/step\n",
      "2/2 [==============================] - 0s 0s/step\n",
      "2/2 [==============================] - 0s 0s/step\n",
      "2/2 [==============================] - 0s 0s/step\n",
      "1/1 [==============================] - 0s 47ms/step\n",
      "1/1 [==============================] - 0s 62ms/step\n",
      "2/2 [==============================] - 0s 8ms/step\n",
      "2/2 [==============================] - 0s 8ms/step\n",
      "2/2 [==============================] - 0s 0s/step\n",
      "1/1 [==============================] - 0s 57ms/step\n",
      "1/1 [==============================] - 0s 53ms/step\n",
      "2/2 [==============================] - 0s 0s/step\n",
      "2/2 [==============================] - 0s 0s/step\n",
      "2/2 [==============================] - 0s 0s/step\n",
      "1/1 [==============================] - 0s 70ms/step\n",
      "1/1 [==============================] - 0s 63ms/step\n",
      "2/2 [==============================] - 0s 0s/step\n",
      "2/2 [==============================] - 0s 0s/step\n",
      "2/2 [==============================] - 0s 0s/step\n",
      "1/1 [==============================] - 0s 47ms/step\n",
      "1/1 [==============================] - 0s 63ms/step\n",
      "2/2 [==============================] - 0s 0s/step\n",
      "2/2 [==============================] - 0s 0s/step\n",
      "2/2 [==============================] - 0s 16ms/step\n",
      "2/2 [==============================] - 0s 15ms/step\n",
      "2/2 [==============================] - 0s 0s/step\n",
      "6/6 [==============================] - 0s 4ms/step\n",
      "6/6 [==============================] - 0s 2ms/step\n",
      "6/6 [==============================] - 0s 2ms/step\n",
      "5/5 [==============================] - 0s 0s/step\n",
      "5/5 [==============================] - 0s 3ms/step\n"
     ]
    }
   ],
   "source": [
    "rnd_search_cv = RandomizedSearchCV(estimator=keras_clf, param_distributions=params, scoring='accuracy', n_iter=50, cv=5)\n",
    "\n",
    "import sys\n",
    "sys.setrecursionlimit(10000) # note: the default is 3000 (python 3.9)\n",
    "\n",
    "earlystop = EarlyStopping(monitor='val_loss', patience=5, verbose=0, mode='auto')\n",
    "callback = [earlystop]\n",
    "\n",
    "_ = rnd_search_cv.fit(X_train, y_train, callbacks=callback, verbose=0)\n"
   ]
  },
  {
   "cell_type": "code",
   "execution_count": 93,
   "id": "2c58f986-6edb-44ab-b675-16b62ff4f2d9",
   "metadata": {},
   "outputs": [
    {
     "data": {
      "text/plain": [
       "{'optimizer__learning_rate': 0.0005,\n",
       " 'optimizer': 'sgd',\n",
       " 'model__hidden_layer_sizes': (90,),\n",
       " 'model__dropout': 0.1,\n",
       " 'epochs': 100,\n",
       " 'batch_size': 20}"
      ]
     },
     "execution_count": 93,
     "metadata": {},
     "output_type": "execute_result"
    }
   ],
   "source": [
    "rnd_search_cv.best_params_"
   ]
  },
  {
   "cell_type": "code",
   "execution_count": 94,
   "id": "bb28c79b-fbcf-46a8-be23-88eac7cc55cc",
   "metadata": {},
   "outputs": [
    {
     "name": "stdout",
     "output_type": "stream",
     "text": [
      "{'optimizer__learning_rate': 0.0005, 'optimizer': 'sgd', 'model__hidden_layer_sizes': (90,), 'model__dropout': 0.1, 'epochs': 100, 'batch_size': 20}\n"
     ]
    }
   ],
   "source": [
    "best_net = rnd_search_cv.best_estimator_\n",
    "print(rnd_search_cv.best_params_)"
   ]
  },
  {
   "cell_type": "code",
   "execution_count": 95,
   "id": "4c622164-06ae-4f49-9ef0-f95c2ba85f0e",
   "metadata": {},
   "outputs": [
    {
     "name": "stdout",
     "output_type": "stream",
     "text": [
      "108/108 [==============================] - 0s 1ms/step\n",
      "              precision    recall  f1-score   support\n",
      "\n",
      "           1       0.39      0.73      0.51        41\n",
      "           2       0.10      0.97      0.19       115\n",
      "           3       1.00      0.51      0.68      2004\n",
      "\n",
      "    accuracy                           0.54      2160\n",
      "   macro avg       0.50      0.74      0.46      2160\n",
      "weighted avg       0.94      0.54      0.65      2160\n",
      "\n",
      "CPU times: total: 93.8 ms\n",
      "Wall time: 288 ms\n"
     ]
    }
   ],
   "source": [
    "%%time\n",
    "y_pred = best_net.predict(X_test)\n",
    "print(classification_report(y_test, y_pred))"
   ]
  },
  {
   "cell_type": "code",
   "execution_count": 96,
   "id": "6735fd2a-c5d7-4037-931c-226672eceec4",
   "metadata": {},
   "outputs": [
    {
     "name": "stdout",
     "output_type": "stream",
     "text": [
      "68/68 [==============================] - 0s 4ms/step - loss: 0.4991 - accuracy: 0.8125\n"
     ]
    },
    {
     "data": {
      "text/plain": [
       "[0.49909183382987976, 0.8125]"
      ]
     },
     "execution_count": 96,
     "metadata": {},
     "output_type": "execute_result"
    }
   ],
   "source": [
    "scores = model.evaluate(X_test, y_test)\n",
    "scores"
   ]
  },
  {
   "cell_type": "code",
   "execution_count": 97,
   "id": "90df38fb-f0fc-4aa2-a4d5-9343a7bb87a2",
   "metadata": {},
   "outputs": [
    {
     "name": "stdout",
     "output_type": "stream",
     "text": [
      "loss: 0.50\n",
      "accuracy: 81.25%\n"
     ]
    },
    {
     "data": {
      "text/html": [
       "<div>\n",
       "<style scoped>\n",
       "    .dataframe tbody tr th:only-of-type {\n",
       "        vertical-align: middle;\n",
       "    }\n",
       "\n",
       "    .dataframe tbody tr th {\n",
       "        vertical-align: top;\n",
       "    }\n",
       "\n",
       "    .dataframe thead th {\n",
       "        text-align: right;\n",
       "    }\n",
       "</style>\n",
       "<table border=\"1\" class=\"dataframe\">\n",
       "  <thead>\n",
       "    <tr style=\"text-align: right;\">\n",
       "      <th></th>\n",
       "      <th>model</th>\n",
       "      <th>Accuracy</th>\n",
       "    </tr>\n",
       "  </thead>\n",
       "  <tbody>\n",
       "    <tr>\n",
       "      <th>0</th>\n",
       "      <td>Log Reg</td>\n",
       "      <td>0.926852</td>\n",
       "    </tr>\n",
       "    <tr>\n",
       "      <th>0</th>\n",
       "      <td>Rand Log Reg</td>\n",
       "      <td>0.956944</td>\n",
       "    </tr>\n",
       "    <tr>\n",
       "      <th>0</th>\n",
       "      <td>Grid Log Reg</td>\n",
       "      <td>0.954630</td>\n",
       "    </tr>\n",
       "    <tr>\n",
       "      <th>0</th>\n",
       "      <td>Linear SVM</td>\n",
       "      <td>0.937500</td>\n",
       "    </tr>\n",
       "    <tr>\n",
       "      <th>0</th>\n",
       "      <td>Linear Rand SVM</td>\n",
       "      <td>0.943519</td>\n",
       "    </tr>\n",
       "    <tr>\n",
       "      <th>0</th>\n",
       "      <td>Linear Grid SVM</td>\n",
       "      <td>0.955556</td>\n",
       "    </tr>\n",
       "    <tr>\n",
       "      <th>0</th>\n",
       "      <td>rbf SVM</td>\n",
       "      <td>0.846296</td>\n",
       "    </tr>\n",
       "    <tr>\n",
       "      <th>0</th>\n",
       "      <td>rbf rand svm</td>\n",
       "      <td>0.846296</td>\n",
       "    </tr>\n",
       "    <tr>\n",
       "      <th>0</th>\n",
       "      <td>rbf grid svm</td>\n",
       "      <td>0.936111</td>\n",
       "    </tr>\n",
       "    <tr>\n",
       "      <th>0</th>\n",
       "      <td>poly svm</td>\n",
       "      <td>0.918056</td>\n",
       "    </tr>\n",
       "    <tr>\n",
       "      <th>0</th>\n",
       "      <td>poly rand svm</td>\n",
       "      <td>0.910185</td>\n",
       "    </tr>\n",
       "    <tr>\n",
       "      <th>0</th>\n",
       "      <td>poly grid svm</td>\n",
       "      <td>0.846296</td>\n",
       "    </tr>\n",
       "    <tr>\n",
       "      <th>0</th>\n",
       "      <td>D Tree</td>\n",
       "      <td>0.987037</td>\n",
       "    </tr>\n",
       "    <tr>\n",
       "      <th>0</th>\n",
       "      <td>D Tree Rand</td>\n",
       "      <td>0.982870</td>\n",
       "    </tr>\n",
       "    <tr>\n",
       "      <th>0</th>\n",
       "      <td>D Tree Grid</td>\n",
       "      <td>0.950926</td>\n",
       "    </tr>\n",
       "    <tr>\n",
       "      <th>0</th>\n",
       "      <td>Neural Net</td>\n",
       "      <td>0.876389</td>\n",
       "    </tr>\n",
       "    <tr>\n",
       "      <th>0</th>\n",
       "      <td>NN Rand</td>\n",
       "      <td>0.893519</td>\n",
       "    </tr>\n",
       "    <tr>\n",
       "      <th>0</th>\n",
       "      <td>NN Grid</td>\n",
       "      <td>0.952778</td>\n",
       "    </tr>\n",
       "    <tr>\n",
       "      <th>0</th>\n",
       "      <td>Deep Network</td>\n",
       "      <td>0.815741</td>\n",
       "    </tr>\n",
       "    <tr>\n",
       "      <th>0</th>\n",
       "      <td>Wide Deep Network</td>\n",
       "      <td>0.812500</td>\n",
       "    </tr>\n",
       "    <tr>\n",
       "      <th>0</th>\n",
       "      <td>Rand Grid</td>\n",
       "      <td>0.893056</td>\n",
       "    </tr>\n",
       "  </tbody>\n",
       "</table>\n",
       "</div>"
      ],
      "text/plain": [
       "               model  Accuracy\n",
       "0            Log Reg  0.926852\n",
       "0       Rand Log Reg  0.956944\n",
       "0       Grid Log Reg  0.954630\n",
       "0         Linear SVM  0.937500\n",
       "0    Linear Rand SVM  0.943519\n",
       "0    Linear Grid SVM  0.955556\n",
       "0            rbf SVM  0.846296\n",
       "0       rbf rand svm  0.846296\n",
       "0       rbf grid svm  0.936111\n",
       "0           poly svm  0.918056\n",
       "0      poly rand svm  0.910185\n",
       "0      poly grid svm  0.846296\n",
       "0             D Tree  0.987037\n",
       "0        D Tree Rand  0.982870\n",
       "0        D Tree Grid  0.950926\n",
       "0         Neural Net  0.876389\n",
       "0            NN Rand  0.893519\n",
       "0            NN Grid  0.952778\n",
       "0       Deep Network  0.815741\n",
       "0  Wide Deep Network  0.812500\n",
       "0         Rand Grid   0.893056"
      ]
     },
     "execution_count": 97,
     "metadata": {},
     "output_type": "execute_result"
    }
   ],
   "source": [
    "randgridk_acc = 0.8930555\n",
    "print(\"%s: %.2f\" % (model.metrics_names[0], scores[0]))\n",
    "print(\"%s: %.2f%%\" % (model.metrics_names[1], scores[1]*100))\n",
    "\n",
    "performance = pd.concat([performance, pd.DataFrame({'model':\" Rand Grid \", \n",
    "                                                    'Accuracy': randgridk_acc}, index=[0])])\n",
    "performance"
   ]
  },
  {
   "cell_type": "code",
   "execution_count": 98,
   "id": "01bb9781-eac7-414b-8117-618ee8574d57",
   "metadata": {},
   "outputs": [
    {
     "data": {
      "text/html": [
       "<div>\n",
       "<style scoped>\n",
       "    .dataframe tbody tr th:only-of-type {\n",
       "        vertical-align: middle;\n",
       "    }\n",
       "\n",
       "    .dataframe tbody tr th {\n",
       "        vertical-align: top;\n",
       "    }\n",
       "\n",
       "    .dataframe thead th {\n",
       "        text-align: right;\n",
       "    }\n",
       "</style>\n",
       "<table border=\"1\" class=\"dataframe\">\n",
       "  <thead>\n",
       "    <tr style=\"text-align: right;\">\n",
       "      <th></th>\n",
       "      <th>model</th>\n",
       "      <th>Accuracy</th>\n",
       "    </tr>\n",
       "  </thead>\n",
       "  <tbody>\n",
       "    <tr>\n",
       "      <th>0</th>\n",
       "      <td>Wide Deep Network</td>\n",
       "      <td>0.812500</td>\n",
       "    </tr>\n",
       "    <tr>\n",
       "      <th>0</th>\n",
       "      <td>Deep Network</td>\n",
       "      <td>0.815741</td>\n",
       "    </tr>\n",
       "    <tr>\n",
       "      <th>0</th>\n",
       "      <td>poly grid svm</td>\n",
       "      <td>0.846296</td>\n",
       "    </tr>\n",
       "    <tr>\n",
       "      <th>0</th>\n",
       "      <td>rbf SVM</td>\n",
       "      <td>0.846296</td>\n",
       "    </tr>\n",
       "    <tr>\n",
       "      <th>0</th>\n",
       "      <td>rbf rand svm</td>\n",
       "      <td>0.846296</td>\n",
       "    </tr>\n",
       "    <tr>\n",
       "      <th>0</th>\n",
       "      <td>Neural Net</td>\n",
       "      <td>0.876389</td>\n",
       "    </tr>\n",
       "    <tr>\n",
       "      <th>0</th>\n",
       "      <td>Rand Grid</td>\n",
       "      <td>0.893056</td>\n",
       "    </tr>\n",
       "    <tr>\n",
       "      <th>0</th>\n",
       "      <td>NN Rand</td>\n",
       "      <td>0.893519</td>\n",
       "    </tr>\n",
       "    <tr>\n",
       "      <th>0</th>\n",
       "      <td>poly rand svm</td>\n",
       "      <td>0.910185</td>\n",
       "    </tr>\n",
       "    <tr>\n",
       "      <th>0</th>\n",
       "      <td>poly svm</td>\n",
       "      <td>0.918056</td>\n",
       "    </tr>\n",
       "    <tr>\n",
       "      <th>0</th>\n",
       "      <td>Log Reg</td>\n",
       "      <td>0.926852</td>\n",
       "    </tr>\n",
       "    <tr>\n",
       "      <th>0</th>\n",
       "      <td>rbf grid svm</td>\n",
       "      <td>0.936111</td>\n",
       "    </tr>\n",
       "    <tr>\n",
       "      <th>0</th>\n",
       "      <td>Linear SVM</td>\n",
       "      <td>0.937500</td>\n",
       "    </tr>\n",
       "    <tr>\n",
       "      <th>0</th>\n",
       "      <td>Linear Rand SVM</td>\n",
       "      <td>0.943519</td>\n",
       "    </tr>\n",
       "    <tr>\n",
       "      <th>0</th>\n",
       "      <td>D Tree Grid</td>\n",
       "      <td>0.950926</td>\n",
       "    </tr>\n",
       "    <tr>\n",
       "      <th>0</th>\n",
       "      <td>NN Grid</td>\n",
       "      <td>0.952778</td>\n",
       "    </tr>\n",
       "    <tr>\n",
       "      <th>0</th>\n",
       "      <td>Grid Log Reg</td>\n",
       "      <td>0.954630</td>\n",
       "    </tr>\n",
       "    <tr>\n",
       "      <th>0</th>\n",
       "      <td>Linear Grid SVM</td>\n",
       "      <td>0.955556</td>\n",
       "    </tr>\n",
       "    <tr>\n",
       "      <th>0</th>\n",
       "      <td>Rand Log Reg</td>\n",
       "      <td>0.956944</td>\n",
       "    </tr>\n",
       "    <tr>\n",
       "      <th>0</th>\n",
       "      <td>D Tree Rand</td>\n",
       "      <td>0.982870</td>\n",
       "    </tr>\n",
       "    <tr>\n",
       "      <th>0</th>\n",
       "      <td>D Tree</td>\n",
       "      <td>0.987037</td>\n",
       "    </tr>\n",
       "  </tbody>\n",
       "</table>\n",
       "</div>"
      ],
      "text/plain": [
       "               model  Accuracy\n",
       "0  Wide Deep Network  0.812500\n",
       "0       Deep Network  0.815741\n",
       "0      poly grid svm  0.846296\n",
       "0            rbf SVM  0.846296\n",
       "0       rbf rand svm  0.846296\n",
       "0         Neural Net  0.876389\n",
       "0         Rand Grid   0.893056\n",
       "0            NN Rand  0.893519\n",
       "0      poly rand svm  0.910185\n",
       "0           poly svm  0.918056\n",
       "0            Log Reg  0.926852\n",
       "0       rbf grid svm  0.936111\n",
       "0         Linear SVM  0.937500\n",
       "0    Linear Rand SVM  0.943519\n",
       "0        D Tree Grid  0.950926\n",
       "0            NN Grid  0.952778\n",
       "0       Grid Log Reg  0.954630\n",
       "0    Linear Grid SVM  0.955556\n",
       "0       Rand Log Reg  0.956944\n",
       "0        D Tree Rand  0.982870\n",
       "0             D Tree  0.987037"
      ]
     },
     "execution_count": 98,
     "metadata": {},
     "output_type": "execute_result"
    }
   ],
   "source": [
    "performance.sort_values(by=['Accuracy'])"
   ]
  },
  {
   "cell_type": "markdown",
   "id": "e658ecde-3c5a-42cf-80a3-d975f9403a76",
   "metadata": {},
   "source": [
    "## Analysis:\n",
    "\n",
    "> Here is the analysis of the accuracy scores of various machine-learning models on a thyroid dataset. The models include vast deep network, deep network, poly grid SVM, RBF SVM, rbf rand SVM, neural net, rand grid, NN rand, poly rand SVM, poly SVM, log reg, rbf grid SVM, linear SVM, linear rand SVM, D tree grid, NN grid, grid log reg, linear grid SVM, rand log reg, D tree rand, and D tree.\n",
    "\n",
    "> The Decision Tree Rand and Decision Tree Grid, both of which had an accuracy rating of 98.7%, were the models in this dataset that performed the best. This is noticeably higher than the other models, which were all in the 80–95% range. As a result, it seems that the Decision Tree models would work better with this dataset. With accuracy rates of 95.7%, Random Logistic Regression and Neural Network Grid were the next-best models. Also, these models are excellent at correctly forecasting the data. \n",
    "\n",
    "> The least accurate models in this dataset were Poly Grid SVM, RBF SVM, and RBF Random SVM, all with an accuracy score of 84.6%. These models could be better at accurately predicting the data than the other models. \n",
    "\n",
    "> With a 98.7% accuracy rate, decision tree models are often the top performers in this dataset. With an accuracy of 95.7%, the Random Logistic Regression and Neural Network Grid models are likewise quite efficient. With an accuracy of just 84.6%, the Poly Grid SVM, RBF SVM, and RBF Random SVM models are the least reliable.\n",
    "\n",
    "> On the other hand, models like Wide Deep Network and Deep Network exhibit relatively lower accuracy scores of 0.812500 and 0.815741, respectively. \n",
    "\n",
    "> In summary, the analysis suggests that decision tree-based models, such as D Tree and D Tree Rand, perform well in terms of accuracy on our dataset, followed by SVM-based models and logistic regression."
   ]
  }
 ],
 "metadata": {
  "kernelspec": {
   "display_name": "Python 3 (ipykernel)",
   "language": "python",
   "name": "python3"
  },
  "language_info": {
   "codemirror_mode": {
    "name": "ipython",
    "version": 3
   },
   "file_extension": ".py",
   "mimetype": "text/x-python",
   "name": "python",
   "nbconvert_exporter": "python",
   "pygments_lexer": "ipython3",
   "version": "3.9.16"
  }
 },
 "nbformat": 4,
 "nbformat_minor": 5
}
