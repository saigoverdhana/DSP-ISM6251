{
 "cells": [
  {
   "cell_type": "markdown",
   "id": "8e7f0a38-66f2-47d8-8db2-6b8b4de3f1ee",
   "metadata": {},
   "source": [
    "### Assignment 1"
   ]
  },
  {
   "cell_type": "code",
   "execution_count": null,
   "id": "420dd888-28e1-4980-bfc4-c7a471593ab5",
   "metadata": {},
   "outputs": [],
   "source": []
  },
  {
   "cell_type": "markdown",
   "id": "5ee4ed77-5f4c-4218-87b1-34b2a953bd8a",
   "metadata": {},
   "source": [
    "## 1. Setup"
   ]
  },
  {
   "cell_type": "code",
   "execution_count": 2,
   "id": "9a60a2da-b707-4fae-98ff-ce903040ea9a",
   "metadata": {},
   "outputs": [],
   "source": [
    "import pandas as pd\n",
    "import numpy as np\n",
    "from sklearn.svm import SVC\n",
    "from sklearn.tree import DecisionTreeClassifier\n",
    "from sklearn.metrics import confusion_matrix\n",
    "from matplotlib import pyplot as plt\n",
    "from sklearn.model_selection import train_test_split\n",
    "from sklearn.linear_model import LogisticRegression\n",
    "from sklearn.model_selection import GridSearchCV, RandomizedSearchCV\n",
    "from sklearn.preprocessing import StandardScaler\n",
    "\n",
    "import warnings\n",
    "warnings.filterwarnings(\"ignore\")\n",
    "\n",
    "np.random.seed(1)"
   ]
  },
  {
   "cell_type": "code",
   "execution_count": 3,
   "id": "62c57e3b-a966-4817-b3ec-e4f5723b97c8",
   "metadata": {},
   "outputs": [],
   "source": [
    "# importing packages\n",
    "import pandas as pd\n",
    "import numpy as np\n",
    "import seaborn as sns\n",
    "import xgboost as xgb\n",
    "import matplotlib.pyplot as plt\n",
    "from sklearn.tree import plot_tree\n",
    "from sklearn.preprocessing import LabelEncoder\n",
    "from sklearn.linear_model import LogisticRegression\n",
    "from sklearn.model_selection import train_test_split\n",
    "from sklearn.tree import DecisionTreeClassifier\n",
    "from sklearn.ensemble import RandomForestClassifier, GradientBoostingClassifier, AdaBoostClassifier\n",
    "from sklearn.neighbors import KNeighborsClassifier \n",
    "from sklearn.metrics import classification_report\n",
    "from sklearn.model_selection import GridSearchCV, RandomizedSearchCV\n",
    "from xgboost import XGBClassifier\n",
    "from sklearn import model_selection\n",
    "from sklearn.metrics import confusion_matrix, accuracy_score, precision_score, recall_score, f1_score, plot_roc_curve, roc_auc_score, roc_curve, auc, RocCurveDisplay, PrecisionRecallDisplay, precision_recall_curve\n",
    "\n",
    "%matplotlib inline"
   ]
  },
  {
   "cell_type": "markdown",
   "id": "92b2413b-955e-4b43-9c9a-dd1f1d5eac83",
   "metadata": {},
   "source": [
    "## 2. Load the Data"
   ]
  },
  {
   "cell_type": "code",
   "execution_count": 5,
   "id": "557620bc-6d03-48aa-a461-da140b4614d2",
   "metadata": {},
   "outputs": [],
   "source": [
    "#loading the dataset\n",
    "df= pd.read_csv(\"C:/Users/srihi/DSP/data/thyroid.csv\")"
   ]
  },
  {
   "cell_type": "code",
   "execution_count": 6,
   "id": "ad4ffb46-468d-4116-84bb-9857af270659",
   "metadata": {},
   "outputs": [
    {
     "data": {
      "text/html": [
       "<div>\n",
       "<style scoped>\n",
       "    .dataframe tbody tr th:only-of-type {\n",
       "        vertical-align: middle;\n",
       "    }\n",
       "\n",
       "    .dataframe tbody tr th {\n",
       "        vertical-align: top;\n",
       "    }\n",
       "\n",
       "    .dataframe thead th {\n",
       "        text-align: right;\n",
       "    }\n",
       "</style>\n",
       "<table border=\"1\" class=\"dataframe\">\n",
       "  <thead>\n",
       "    <tr style=\"text-align: right;\">\n",
       "      <th></th>\n",
       "      <th>Age</th>\n",
       "      <th>Sex</th>\n",
       "      <th>On_thyroxine</th>\n",
       "      <th>Query_on_thyroxine</th>\n",
       "      <th>On_antithyroid_medication</th>\n",
       "      <th>Sick</th>\n",
       "      <th>Pregnant</th>\n",
       "      <th>Thyroid_surgery</th>\n",
       "      <th>I131_treatment</th>\n",
       "      <th>Query_hypothyroid</th>\n",
       "      <th>...</th>\n",
       "      <th>Goitre</th>\n",
       "      <th>Tumor</th>\n",
       "      <th>Hypopituitary</th>\n",
       "      <th>Psych</th>\n",
       "      <th>TSH</th>\n",
       "      <th>T3</th>\n",
       "      <th>TT4</th>\n",
       "      <th>T4U</th>\n",
       "      <th>FTI</th>\n",
       "      <th>Class</th>\n",
       "    </tr>\n",
       "  </thead>\n",
       "  <tbody>\n",
       "    <tr>\n",
       "      <th>0</th>\n",
       "      <td>0.73</td>\n",
       "      <td>0</td>\n",
       "      <td>1</td>\n",
       "      <td>0</td>\n",
       "      <td>0</td>\n",
       "      <td>0</td>\n",
       "      <td>0</td>\n",
       "      <td>0</td>\n",
       "      <td>1</td>\n",
       "      <td>0</td>\n",
       "      <td>...</td>\n",
       "      <td>0</td>\n",
       "      <td>0</td>\n",
       "      <td>0</td>\n",
       "      <td>0</td>\n",
       "      <td>0.00060</td>\n",
       "      <td>0.015</td>\n",
       "      <td>0.120</td>\n",
       "      <td>0.082</td>\n",
       "      <td>0.146</td>\n",
       "      <td>3</td>\n",
       "    </tr>\n",
       "    <tr>\n",
       "      <th>1</th>\n",
       "      <td>0.24</td>\n",
       "      <td>0</td>\n",
       "      <td>0</td>\n",
       "      <td>0</td>\n",
       "      <td>0</td>\n",
       "      <td>0</td>\n",
       "      <td>0</td>\n",
       "      <td>0</td>\n",
       "      <td>0</td>\n",
       "      <td>0</td>\n",
       "      <td>...</td>\n",
       "      <td>0</td>\n",
       "      <td>0</td>\n",
       "      <td>0</td>\n",
       "      <td>0</td>\n",
       "      <td>0.00025</td>\n",
       "      <td>0.030</td>\n",
       "      <td>0.143</td>\n",
       "      <td>0.133</td>\n",
       "      <td>0.108</td>\n",
       "      <td>3</td>\n",
       "    </tr>\n",
       "    <tr>\n",
       "      <th>2</th>\n",
       "      <td>0.47</td>\n",
       "      <td>0</td>\n",
       "      <td>0</td>\n",
       "      <td>0</td>\n",
       "      <td>0</td>\n",
       "      <td>0</td>\n",
       "      <td>0</td>\n",
       "      <td>0</td>\n",
       "      <td>0</td>\n",
       "      <td>0</td>\n",
       "      <td>...</td>\n",
       "      <td>0</td>\n",
       "      <td>0</td>\n",
       "      <td>0</td>\n",
       "      <td>0</td>\n",
       "      <td>0.00190</td>\n",
       "      <td>0.024</td>\n",
       "      <td>0.102</td>\n",
       "      <td>0.131</td>\n",
       "      <td>0.078</td>\n",
       "      <td>3</td>\n",
       "    </tr>\n",
       "    <tr>\n",
       "      <th>3</th>\n",
       "      <td>0.64</td>\n",
       "      <td>1</td>\n",
       "      <td>0</td>\n",
       "      <td>0</td>\n",
       "      <td>0</td>\n",
       "      <td>0</td>\n",
       "      <td>0</td>\n",
       "      <td>0</td>\n",
       "      <td>0</td>\n",
       "      <td>0</td>\n",
       "      <td>...</td>\n",
       "      <td>0</td>\n",
       "      <td>0</td>\n",
       "      <td>0</td>\n",
       "      <td>0</td>\n",
       "      <td>0.00090</td>\n",
       "      <td>0.017</td>\n",
       "      <td>0.077</td>\n",
       "      <td>0.090</td>\n",
       "      <td>0.085</td>\n",
       "      <td>3</td>\n",
       "    </tr>\n",
       "    <tr>\n",
       "      <th>4</th>\n",
       "      <td>0.23</td>\n",
       "      <td>0</td>\n",
       "      <td>0</td>\n",
       "      <td>0</td>\n",
       "      <td>0</td>\n",
       "      <td>0</td>\n",
       "      <td>0</td>\n",
       "      <td>0</td>\n",
       "      <td>0</td>\n",
       "      <td>0</td>\n",
       "      <td>...</td>\n",
       "      <td>0</td>\n",
       "      <td>0</td>\n",
       "      <td>0</td>\n",
       "      <td>0</td>\n",
       "      <td>0.00025</td>\n",
       "      <td>0.026</td>\n",
       "      <td>0.139</td>\n",
       "      <td>0.090</td>\n",
       "      <td>0.153</td>\n",
       "      <td>3</td>\n",
       "    </tr>\n",
       "    <tr>\n",
       "      <th>5</th>\n",
       "      <td>0.69</td>\n",
       "      <td>1</td>\n",
       "      <td>0</td>\n",
       "      <td>0</td>\n",
       "      <td>0</td>\n",
       "      <td>0</td>\n",
       "      <td>0</td>\n",
       "      <td>0</td>\n",
       "      <td>0</td>\n",
       "      <td>0</td>\n",
       "      <td>...</td>\n",
       "      <td>0</td>\n",
       "      <td>0</td>\n",
       "      <td>0</td>\n",
       "      <td>0</td>\n",
       "      <td>0.00025</td>\n",
       "      <td>0.016</td>\n",
       "      <td>0.086</td>\n",
       "      <td>0.070</td>\n",
       "      <td>0.123</td>\n",
       "      <td>3</td>\n",
       "    </tr>\n",
       "    <tr>\n",
       "      <th>6</th>\n",
       "      <td>0.85</td>\n",
       "      <td>1</td>\n",
       "      <td>0</td>\n",
       "      <td>0</td>\n",
       "      <td>0</td>\n",
       "      <td>0</td>\n",
       "      <td>0</td>\n",
       "      <td>0</td>\n",
       "      <td>0</td>\n",
       "      <td>0</td>\n",
       "      <td>...</td>\n",
       "      <td>0</td>\n",
       "      <td>0</td>\n",
       "      <td>0</td>\n",
       "      <td>0</td>\n",
       "      <td>0.00025</td>\n",
       "      <td>0.023</td>\n",
       "      <td>0.128</td>\n",
       "      <td>0.104</td>\n",
       "      <td>0.121</td>\n",
       "      <td>3</td>\n",
       "    </tr>\n",
       "    <tr>\n",
       "      <th>7</th>\n",
       "      <td>0.48</td>\n",
       "      <td>1</td>\n",
       "      <td>0</td>\n",
       "      <td>0</td>\n",
       "      <td>0</td>\n",
       "      <td>0</td>\n",
       "      <td>0</td>\n",
       "      <td>0</td>\n",
       "      <td>0</td>\n",
       "      <td>0</td>\n",
       "      <td>...</td>\n",
       "      <td>0</td>\n",
       "      <td>0</td>\n",
       "      <td>0</td>\n",
       "      <td>0</td>\n",
       "      <td>0.00208</td>\n",
       "      <td>0.020</td>\n",
       "      <td>0.086</td>\n",
       "      <td>0.078</td>\n",
       "      <td>0.110</td>\n",
       "      <td>3</td>\n",
       "    </tr>\n",
       "    <tr>\n",
       "      <th>8</th>\n",
       "      <td>0.67</td>\n",
       "      <td>0</td>\n",
       "      <td>1</td>\n",
       "      <td>0</td>\n",
       "      <td>0</td>\n",
       "      <td>0</td>\n",
       "      <td>0</td>\n",
       "      <td>0</td>\n",
       "      <td>0</td>\n",
       "      <td>0</td>\n",
       "      <td>...</td>\n",
       "      <td>0</td>\n",
       "      <td>0</td>\n",
       "      <td>0</td>\n",
       "      <td>0</td>\n",
       "      <td>0.00130</td>\n",
       "      <td>0.024</td>\n",
       "      <td>0.087</td>\n",
       "      <td>0.109</td>\n",
       "      <td>0.080</td>\n",
       "      <td>3</td>\n",
       "    </tr>\n",
       "    <tr>\n",
       "      <th>9</th>\n",
       "      <td>0.62</td>\n",
       "      <td>0</td>\n",
       "      <td>0</td>\n",
       "      <td>0</td>\n",
       "      <td>0</td>\n",
       "      <td>1</td>\n",
       "      <td>0</td>\n",
       "      <td>0</td>\n",
       "      <td>0</td>\n",
       "      <td>0</td>\n",
       "      <td>...</td>\n",
       "      <td>0</td>\n",
       "      <td>0</td>\n",
       "      <td>0</td>\n",
       "      <td>0</td>\n",
       "      <td>0.01100</td>\n",
       "      <td>0.008</td>\n",
       "      <td>0.073</td>\n",
       "      <td>0.074</td>\n",
       "      <td>0.098</td>\n",
       "      <td>2</td>\n",
       "    </tr>\n",
       "  </tbody>\n",
       "</table>\n",
       "<p>10 rows × 22 columns</p>\n",
       "</div>"
      ],
      "text/plain": [
       "    Age   Sex   On_thyroxine   Query_on_thyroxine   On_antithyroid_medication  \\\n",
       "0  0.73     0              1                    0                           0   \n",
       "1  0.24     0              0                    0                           0   \n",
       "2  0.47     0              0                    0                           0   \n",
       "3  0.64     1              0                    0                           0   \n",
       "4  0.23     0              0                    0                           0   \n",
       "5  0.69     1              0                    0                           0   \n",
       "6  0.85     1              0                    0                           0   \n",
       "7  0.48     1              0                    0                           0   \n",
       "8  0.67     0              1                    0                           0   \n",
       "9  0.62     0              0                    0                           0   \n",
       "\n",
       "    Sick   Pregnant   Thyroid_surgery   I131_treatment   Query_hypothyroid  \\\n",
       "0      0          0                 0                1                   0   \n",
       "1      0          0                 0                0                   0   \n",
       "2      0          0                 0                0                   0   \n",
       "3      0          0                 0                0                   0   \n",
       "4      0          0                 0                0                   0   \n",
       "5      0          0                 0                0                   0   \n",
       "6      0          0                 0                0                   0   \n",
       "7      0          0                 0                0                   0   \n",
       "8      0          0                 0                0                   0   \n",
       "9      1          0                 0                0                   0   \n",
       "\n",
       "   ...   Goitre   Tumor   Hypopituitary   Psych      TSH     T3    TT4    T4U  \\\n",
       "0  ...        0       0               0       0  0.00060  0.015  0.120  0.082   \n",
       "1  ...        0       0               0       0  0.00025  0.030  0.143  0.133   \n",
       "2  ...        0       0               0       0  0.00190  0.024  0.102  0.131   \n",
       "3  ...        0       0               0       0  0.00090  0.017  0.077  0.090   \n",
       "4  ...        0       0               0       0  0.00025  0.026  0.139  0.090   \n",
       "5  ...        0       0               0       0  0.00025  0.016  0.086  0.070   \n",
       "6  ...        0       0               0       0  0.00025  0.023  0.128  0.104   \n",
       "7  ...        0       0               0       0  0.00208  0.020  0.086  0.078   \n",
       "8  ...        0       0               0       0  0.00130  0.024  0.087  0.109   \n",
       "9  ...        0       0               0       0  0.01100  0.008  0.073  0.074   \n",
       "\n",
       "     FTI  Class  \n",
       "0  0.146      3  \n",
       "1  0.108      3  \n",
       "2  0.078      3  \n",
       "3  0.085      3  \n",
       "4  0.153      3  \n",
       "5  0.123      3  \n",
       "6  0.121      3  \n",
       "7  0.110      3  \n",
       "8  0.080      3  \n",
       "9  0.098      2  \n",
       "\n",
       "[10 rows x 22 columns]"
      ]
     },
     "execution_count": 6,
     "metadata": {},
     "output_type": "execute_result"
    }
   ],
   "source": [
    "df.head(10)"
   ]
  },
  {
   "cell_type": "code",
   "execution_count": null,
   "id": "47c7d832-f13e-479f-b3bd-3e00fb6c2c60",
   "metadata": {},
   "outputs": [],
   "source": []
  },
  {
   "cell_type": "markdown",
   "id": "de25e8b5-8cb7-4de4-b24c-8a5846fc350e",
   "metadata": {},
   "source": [
    "### Exploring Data"
   ]
  },
  {
   "cell_type": "code",
   "execution_count": 7,
   "id": "24a8974f-610c-4a8c-90ef-e2ed923074e9",
   "metadata": {},
   "outputs": [
    {
     "name": "stdout",
     "output_type": "stream",
     "text": [
      "Index(['Age', ' Sex', ' On_thyroxine', ' Query_on_thyroxine',\n",
      "       ' On_antithyroid_medication', ' Sick', ' Pregnant', ' Thyroid_surgery',\n",
      "       ' I131_treatment', ' Query_hypothyroid', ' Query_hyperthyroid',\n",
      "       ' Lithium', ' Goitre', ' Tumor', ' Hypopituitary', ' Psych', ' TSH',\n",
      "       ' T3', ' TT4', ' T4U', ' FTI', 'Class'],\n",
      "      dtype='object')\n",
      "--------------------------------------------------------------------------------\n",
      "               Age          Sex   On_thyroxine   Query_on_thyroxine  \\\n",
      "count  7200.000000  7200.000000    7200.000000          7200.000000   \n",
      "mean      0.520518     0.304306       0.130556             0.015417   \n",
      "std       0.189269     0.460145       0.336937             0.123212   \n",
      "min       0.010000     0.000000       0.000000             0.000000   \n",
      "25%       0.370000     0.000000       0.000000             0.000000   \n",
      "50%       0.550000     0.000000       0.000000             0.000000   \n",
      "75%       0.670000     1.000000       0.000000             0.000000   \n",
      "max       0.970000     1.000000       1.000000             1.000000   \n",
      "\n",
      "        On_antithyroid_medication         Sick     Pregnant   Thyroid_surgery  \\\n",
      "count                 7200.000000  7200.000000  7200.000000       7200.000000   \n",
      "mean                     0.012778     0.038333     0.010833          0.014028   \n",
      "std                      0.112322     0.192013     0.103525          0.117613   \n",
      "min                      0.000000     0.000000     0.000000          0.000000   \n",
      "25%                      0.000000     0.000000     0.000000          0.000000   \n",
      "50%                      0.000000     0.000000     0.000000          0.000000   \n",
      "75%                      0.000000     0.000000     0.000000          0.000000   \n",
      "max                      1.000000     1.000000     1.000000          1.000000   \n",
      "\n",
      "        I131_treatment   Query_hypothyroid  ...       Goitre        Tumor  \\\n",
      "count      7200.000000         7200.000000  ...  7200.000000  7200.000000   \n",
      "mean          0.016806            0.065556  ...     0.008194     0.025556   \n",
      "std           0.128551            0.247521  ...     0.090158     0.157816   \n",
      "min           0.000000            0.000000  ...     0.000000     0.000000   \n",
      "25%           0.000000            0.000000  ...     0.000000     0.000000   \n",
      "50%           0.000000            0.000000  ...     0.000000     0.000000   \n",
      "75%           0.000000            0.000000  ...     0.000000     0.000000   \n",
      "max           1.000000            1.000000  ...     1.000000     1.000000   \n",
      "\n",
      "        Hypopituitary        Psych          TSH           T3          TT4  \\\n",
      "count     7200.000000  7200.000000  7200.000000  7200.000000  7200.000000   \n",
      "mean         0.000139     0.048889     0.004861     0.019977     0.109430   \n",
      "std          0.011785     0.215651     0.022979     0.007539     0.035969   \n",
      "min          0.000000     0.000000     0.000000     0.000500     0.002000   \n",
      "25%          0.000000     0.000000     0.000710     0.017000     0.089000   \n",
      "50%          0.000000     0.000000     0.001700     0.020100     0.107000   \n",
      "75%          0.000000     0.000000     0.002700     0.022000     0.125000   \n",
      "max          1.000000     1.000000     0.530000     0.180000     0.600000   \n",
      "\n",
      "               T4U          FTI        Class  \n",
      "count  7200.000000  7200.000000  7200.000000  \n",
      "mean      0.097838     0.113215     2.902778  \n",
      "std       0.019085     0.036098     0.365923  \n",
      "min       0.017000     0.002000     1.000000  \n",
      "25%       0.087000     0.095000     3.000000  \n",
      "50%       0.097000     0.111000     3.000000  \n",
      "75%       0.104000     0.127000     3.000000  \n",
      "max       0.233000     0.642000     3.000000  \n",
      "\n",
      "[8 rows x 22 columns]\n",
      "---------------------------------------------------------------------------------\n",
      "<class 'pandas.core.frame.DataFrame'>\n",
      "RangeIndex: 7200 entries, 0 to 7199\n",
      "Data columns (total 22 columns):\n",
      " #   Column                      Non-Null Count  Dtype  \n",
      "---  ------                      --------------  -----  \n",
      " 0   Age                         7200 non-null   float64\n",
      " 1    Sex                        7200 non-null   int64  \n",
      " 2    On_thyroxine               7200 non-null   int64  \n",
      " 3    Query_on_thyroxine         7200 non-null   int64  \n",
      " 4    On_antithyroid_medication  7200 non-null   int64  \n",
      " 5    Sick                       7200 non-null   int64  \n",
      " 6    Pregnant                   7200 non-null   int64  \n",
      " 7    Thyroid_surgery            7200 non-null   int64  \n",
      " 8    I131_treatment             7200 non-null   int64  \n",
      " 9    Query_hypothyroid          7200 non-null   int64  \n",
      " 10   Query_hyperthyroid         7200 non-null   int64  \n",
      " 11   Lithium                    7200 non-null   int64  \n",
      " 12   Goitre                     7200 non-null   int64  \n",
      " 13   Tumor                      7200 non-null   int64  \n",
      " 14   Hypopituitary              7200 non-null   int64  \n",
      " 15   Psych                      7200 non-null   int64  \n",
      " 16   TSH                        7200 non-null   float64\n",
      " 17   T3                         7200 non-null   float64\n",
      " 18   TT4                        7200 non-null   float64\n",
      " 19   T4U                        7200 non-null   float64\n",
      " 20   FTI                        7200 non-null   float64\n",
      " 21  Class                       7200 non-null   int64  \n",
      "dtypes: float64(6), int64(16)\n",
      "memory usage: 1.2 MB\n",
      "None\n"
     ]
    }
   ],
   "source": [
    "# Explore the dataset\n",
    "print(df.columns)\n",
    "print(\"--------------------------------------------------------------------------------\")\n",
    "print(df.describe())\n",
    "print(\"---------------------------------------------------------------------------------\")\n",
    "print(df.info())"
   ]
  },
  {
   "cell_type": "code",
   "execution_count": null,
   "id": "87386bf4-cadc-4423-84fd-f1beb8b1f864",
   "metadata": {},
   "outputs": [],
   "source": []
  },
  {
   "cell_type": "markdown",
   "id": "4c36ca4f-b32e-4852-b5f1-5a5b7f8b0534",
   "metadata": {},
   "source": [
    "### Data Cleaning"
   ]
  },
  {
   "cell_type": "code",
   "execution_count": 8,
   "id": "7473b21f-c6a4-4684-a2ae-f3f48a0ffab6",
   "metadata": {},
   "outputs": [
    {
     "data": {
      "text/plain": [
       "0"
      ]
     },
     "execution_count": 8,
     "metadata": {},
     "output_type": "execute_result"
    }
   ],
   "source": [
    "df.isnull().sum().sum()"
   ]
  },
  {
   "cell_type": "code",
   "execution_count": 9,
   "id": "440df273-bbff-4437-9963-3ad6196ddeda",
   "metadata": {},
   "outputs": [
    {
     "data": {
      "text/html": [
       "<div>\n",
       "<style scoped>\n",
       "    .dataframe tbody tr th:only-of-type {\n",
       "        vertical-align: middle;\n",
       "    }\n",
       "\n",
       "    .dataframe tbody tr th {\n",
       "        vertical-align: top;\n",
       "    }\n",
       "\n",
       "    .dataframe thead th {\n",
       "        text-align: right;\n",
       "    }\n",
       "</style>\n",
       "<table border=\"1\" class=\"dataframe\">\n",
       "  <thead>\n",
       "    <tr style=\"text-align: right;\">\n",
       "      <th></th>\n",
       "      <th>age</th>\n",
       "      <th>sex</th>\n",
       "      <th>on_thyroxine</th>\n",
       "      <th>query_on_thyroxine</th>\n",
       "      <th>on_antithyroid_medication</th>\n",
       "      <th>sick</th>\n",
       "      <th>pregnant</th>\n",
       "      <th>thyroid_surgery</th>\n",
       "      <th>i131_treatment</th>\n",
       "      <th>query_hypothyroid</th>\n",
       "      <th>...</th>\n",
       "      <th>goitre</th>\n",
       "      <th>tumor</th>\n",
       "      <th>hypopituitary</th>\n",
       "      <th>psych</th>\n",
       "      <th>tsh</th>\n",
       "      <th>t3</th>\n",
       "      <th>tt4</th>\n",
       "      <th>t4u</th>\n",
       "      <th>fti</th>\n",
       "      <th>class</th>\n",
       "    </tr>\n",
       "  </thead>\n",
       "  <tbody>\n",
       "    <tr>\n",
       "      <th>0</th>\n",
       "      <td>0.73</td>\n",
       "      <td>0</td>\n",
       "      <td>1</td>\n",
       "      <td>0</td>\n",
       "      <td>0</td>\n",
       "      <td>0</td>\n",
       "      <td>0</td>\n",
       "      <td>0</td>\n",
       "      <td>1</td>\n",
       "      <td>0</td>\n",
       "      <td>...</td>\n",
       "      <td>0</td>\n",
       "      <td>0</td>\n",
       "      <td>0</td>\n",
       "      <td>0</td>\n",
       "      <td>0.00060</td>\n",
       "      <td>0.015</td>\n",
       "      <td>0.120</td>\n",
       "      <td>0.082</td>\n",
       "      <td>0.146</td>\n",
       "      <td>3</td>\n",
       "    </tr>\n",
       "    <tr>\n",
       "      <th>1</th>\n",
       "      <td>0.24</td>\n",
       "      <td>0</td>\n",
       "      <td>0</td>\n",
       "      <td>0</td>\n",
       "      <td>0</td>\n",
       "      <td>0</td>\n",
       "      <td>0</td>\n",
       "      <td>0</td>\n",
       "      <td>0</td>\n",
       "      <td>0</td>\n",
       "      <td>...</td>\n",
       "      <td>0</td>\n",
       "      <td>0</td>\n",
       "      <td>0</td>\n",
       "      <td>0</td>\n",
       "      <td>0.00025</td>\n",
       "      <td>0.030</td>\n",
       "      <td>0.143</td>\n",
       "      <td>0.133</td>\n",
       "      <td>0.108</td>\n",
       "      <td>3</td>\n",
       "    </tr>\n",
       "    <tr>\n",
       "      <th>2</th>\n",
       "      <td>0.47</td>\n",
       "      <td>0</td>\n",
       "      <td>0</td>\n",
       "      <td>0</td>\n",
       "      <td>0</td>\n",
       "      <td>0</td>\n",
       "      <td>0</td>\n",
       "      <td>0</td>\n",
       "      <td>0</td>\n",
       "      <td>0</td>\n",
       "      <td>...</td>\n",
       "      <td>0</td>\n",
       "      <td>0</td>\n",
       "      <td>0</td>\n",
       "      <td>0</td>\n",
       "      <td>0.00190</td>\n",
       "      <td>0.024</td>\n",
       "      <td>0.102</td>\n",
       "      <td>0.131</td>\n",
       "      <td>0.078</td>\n",
       "      <td>3</td>\n",
       "    </tr>\n",
       "    <tr>\n",
       "      <th>3</th>\n",
       "      <td>0.64</td>\n",
       "      <td>1</td>\n",
       "      <td>0</td>\n",
       "      <td>0</td>\n",
       "      <td>0</td>\n",
       "      <td>0</td>\n",
       "      <td>0</td>\n",
       "      <td>0</td>\n",
       "      <td>0</td>\n",
       "      <td>0</td>\n",
       "      <td>...</td>\n",
       "      <td>0</td>\n",
       "      <td>0</td>\n",
       "      <td>0</td>\n",
       "      <td>0</td>\n",
       "      <td>0.00090</td>\n",
       "      <td>0.017</td>\n",
       "      <td>0.077</td>\n",
       "      <td>0.090</td>\n",
       "      <td>0.085</td>\n",
       "      <td>3</td>\n",
       "    </tr>\n",
       "    <tr>\n",
       "      <th>4</th>\n",
       "      <td>0.23</td>\n",
       "      <td>0</td>\n",
       "      <td>0</td>\n",
       "      <td>0</td>\n",
       "      <td>0</td>\n",
       "      <td>0</td>\n",
       "      <td>0</td>\n",
       "      <td>0</td>\n",
       "      <td>0</td>\n",
       "      <td>0</td>\n",
       "      <td>...</td>\n",
       "      <td>0</td>\n",
       "      <td>0</td>\n",
       "      <td>0</td>\n",
       "      <td>0</td>\n",
       "      <td>0.00025</td>\n",
       "      <td>0.026</td>\n",
       "      <td>0.139</td>\n",
       "      <td>0.090</td>\n",
       "      <td>0.153</td>\n",
       "      <td>3</td>\n",
       "    </tr>\n",
       "  </tbody>\n",
       "</table>\n",
       "<p>5 rows × 22 columns</p>\n",
       "</div>"
      ],
      "text/plain": [
       "    age   sex   on_thyroxine   query_on_thyroxine   on_antithyroid_medication  \\\n",
       "0  0.73     0              1                    0                           0   \n",
       "1  0.24     0              0                    0                           0   \n",
       "2  0.47     0              0                    0                           0   \n",
       "3  0.64     1              0                    0                           0   \n",
       "4  0.23     0              0                    0                           0   \n",
       "\n",
       "    sick   pregnant   thyroid_surgery   i131_treatment   query_hypothyroid  \\\n",
       "0      0          0                 0                1                   0   \n",
       "1      0          0                 0                0                   0   \n",
       "2      0          0                 0                0                   0   \n",
       "3      0          0                 0                0                   0   \n",
       "4      0          0                 0                0                   0   \n",
       "\n",
       "   ...   goitre   tumor   hypopituitary   psych      tsh     t3    tt4    t4u  \\\n",
       "0  ...        0       0               0       0  0.00060  0.015  0.120  0.082   \n",
       "1  ...        0       0               0       0  0.00025  0.030  0.143  0.133   \n",
       "2  ...        0       0               0       0  0.00190  0.024  0.102  0.131   \n",
       "3  ...        0       0               0       0  0.00090  0.017  0.077  0.090   \n",
       "4  ...        0       0               0       0  0.00025  0.026  0.139  0.090   \n",
       "\n",
       "     fti  class  \n",
       "0  0.146      3  \n",
       "1  0.108      3  \n",
       "2  0.078      3  \n",
       "3  0.085      3  \n",
       "4  0.153      3  \n",
       "\n",
       "[5 rows x 22 columns]"
      ]
     },
     "execution_count": 9,
     "metadata": {},
     "output_type": "execute_result"
    }
   ],
   "source": [
    "df.columns = df.columns.str.lower()\n",
    "df.head(5)"
   ]
  },
  {
   "cell_type": "code",
   "execution_count": 10,
   "id": "4c02d630-2036-41ab-b860-bd88410e7195",
   "metadata": {},
   "outputs": [
    {
     "data": {
      "text/plain": [
       "array([3, 2, 1], dtype=int64)"
      ]
     },
     "execution_count": 10,
     "metadata": {},
     "output_type": "execute_result"
    }
   ],
   "source": [
    "df['class'].unique()"
   ]
  },
  {
   "cell_type": "code",
   "execution_count": null,
   "id": "9e26ea66-b8ad-4810-9695-0f64cd5c68be",
   "metadata": {},
   "outputs": [],
   "source": []
  },
  {
   "cell_type": "code",
   "execution_count": null,
   "id": "d448e067-660e-4d38-a766-8c5d77d8aafb",
   "metadata": {},
   "outputs": [],
   "source": []
  },
  {
   "cell_type": "code",
   "execution_count": 11,
   "id": "4702d9d8-116b-4e7c-adc3-d286148b57c0",
   "metadata": {},
   "outputs": [],
   "source": [
    "from sklearn.preprocessing import StandardScaler\n",
    "#splitting the data into X,y \n",
    "X = df.drop('class', axis=1)\n",
    "y = df['class']\n",
    "\n",
    "# Spliting the data into training and testing sets\n",
    "X_train, X_test, y_train, y_test = train_test_split(X,y,test_size = 0.3)\n",
    "\n",
    "# Initialise the scaler\n",
    "sclr = StandardScaler()\n",
    "\n",
    "# Fit the scaler to the training set\n",
    "sclr.fit(X_train)\n",
    "\n",
    "# Transform the training and testing sets\n",
    "X_train = sclr.transform(X_train)\n",
    "X_test = sclr.transform(X_test)"
   ]
  },
  {
   "cell_type": "code",
   "execution_count": null,
   "id": "9df32975-c787-4c4c-8567-4423a2e7f5e3",
   "metadata": {},
   "outputs": [],
   "source": []
  },
  {
   "cell_type": "code",
   "execution_count": 12,
   "id": "752213f0-98de-4626-8350-862261199309",
   "metadata": {},
   "outputs": [
    {
     "data": {
      "text/html": [
       "<div>\n",
       "<style scoped>\n",
       "    .dataframe tbody tr th:only-of-type {\n",
       "        vertical-align: middle;\n",
       "    }\n",
       "\n",
       "    .dataframe tbody tr th {\n",
       "        vertical-align: top;\n",
       "    }\n",
       "\n",
       "    .dataframe thead th {\n",
       "        text-align: right;\n",
       "    }\n",
       "</style>\n",
       "<table border=\"1\" class=\"dataframe\">\n",
       "  <thead>\n",
       "    <tr style=\"text-align: right;\">\n",
       "      <th></th>\n",
       "      <th>model</th>\n",
       "      <th>Accuracy</th>\n",
       "      <th>Precision</th>\n",
       "      <th>Recall</th>\n",
       "      <th>F1</th>\n",
       "    </tr>\n",
       "  </thead>\n",
       "  <tbody>\n",
       "  </tbody>\n",
       "</table>\n",
       "</div>"
      ],
      "text/plain": [
       "Empty DataFrame\n",
       "Columns: [model, Accuracy, Precision, Recall, F1]\n",
       "Index: []"
      ]
     },
     "execution_count": 12,
     "metadata": {},
     "output_type": "execute_result"
    }
   ],
   "source": [
    "performance = pd.DataFrame({\"model\": [], \"Accuracy\": [], \"Precision\": [], \"Recall\": [], \"F1\": []})\n",
    "performance"
   ]
  },
  {
   "cell_type": "code",
   "execution_count": null,
   "id": "e3ff8831-c9b6-4310-a203-6e79c17ce265",
   "metadata": {},
   "outputs": [],
   "source": []
  },
  {
   "cell_type": "code",
   "execution_count": 13,
   "id": "eeae5ba2-bb01-4b32-8f26-adb31f36ff84",
   "metadata": {},
   "outputs": [],
   "source": [
    "log_reg_model = LogisticRegression( max_iter=900)\n",
    "_ = log_reg_model.fit(X_train, np.ravel(y_train))"
   ]
  },
  {
   "cell_type": "code",
   "execution_count": 14,
   "id": "61e2f234-7adc-4a31-beb8-57edb9814a22",
   "metadata": {},
   "outputs": [
    {
     "data": {
      "text/html": [
       "<div>\n",
       "<style scoped>\n",
       "    .dataframe tbody tr th:only-of-type {\n",
       "        vertical-align: middle;\n",
       "    }\n",
       "\n",
       "    .dataframe tbody tr th {\n",
       "        vertical-align: top;\n",
       "    }\n",
       "\n",
       "    .dataframe thead th {\n",
       "        text-align: right;\n",
       "    }\n",
       "</style>\n",
       "<table border=\"1\" class=\"dataframe\">\n",
       "  <thead>\n",
       "    <tr style=\"text-align: right;\">\n",
       "      <th></th>\n",
       "      <th>model</th>\n",
       "      <th>Accuracy</th>\n",
       "      <th>Precision</th>\n",
       "      <th>Recall</th>\n",
       "      <th>F1</th>\n",
       "    </tr>\n",
       "  </thead>\n",
       "  <tbody>\n",
       "    <tr>\n",
       "      <th>0</th>\n",
       "      <td>default logistic</td>\n",
       "      <td>0.873418</td>\n",
       "      <td>0.816327</td>\n",
       "      <td>0.97561</td>\n",
       "      <td>0.888889</td>\n",
       "    </tr>\n",
       "  </tbody>\n",
       "</table>\n",
       "</div>"
      ],
      "text/plain": [
       "              model  Accuracy  Precision   Recall        F1\n",
       "0  default logistic  0.873418   0.816327  0.97561  0.888889"
      ]
     },
     "execution_count": 14,
     "metadata": {},
     "output_type": "execute_result"
    }
   ],
   "source": [
    "model_preds = log_reg_model.predict(X_test)\n",
    "c_matrix = confusion_matrix(y_test, model_preds)\n",
    "TP = c_matrix[1][1]\n",
    "TN = c_matrix[0][0]\n",
    "FP = c_matrix[0][1]\n",
    "FN = c_matrix[1][0]\n",
    "performance = pd.concat([performance, pd.DataFrame({'model':\"default logistic\", \n",
    "                                                    'Accuracy': [(TP+TN)/(TP+TN+FP+FN)], \n",
    "                                                    'Precision': [TP/(TP+FP)], \n",
    "                                                    'Recall': [TP/(TP+FN)], \n",
    "                                                    'F1': [2*TP/(2*TP+FP+FN)]\n",
    "                                                     }, index=[0])])\n",
    "performance"
   ]
  },
  {
   "cell_type": "code",
   "execution_count": 15,
   "id": "5d0643ba-fa6b-473b-a3de-e662c7e1ccf6",
   "metadata": {},
   "outputs": [
    {
     "data": {
      "text/plain": [
       "40"
      ]
     },
     "execution_count": 15,
     "metadata": {},
     "output_type": "execute_result"
    }
   ],
   "source": [
    "TP"
   ]
  },
  {
   "cell_type": "code",
   "execution_count": 16,
   "id": "c74c6396-9cce-4b3f-a2a0-28f1e668dafd",
   "metadata": {},
   "outputs": [
    {
     "data": {
      "text/plain": [
       "29"
      ]
     },
     "execution_count": 16,
     "metadata": {},
     "output_type": "execute_result"
    }
   ],
   "source": [
    "TN"
   ]
  },
  {
   "cell_type": "code",
   "execution_count": 17,
   "id": "7fa2cbc0-9109-4d27-9f1b-e9337be69c65",
   "metadata": {},
   "outputs": [
    {
     "data": {
      "text/plain": [
       "9"
      ]
     },
     "execution_count": 17,
     "metadata": {},
     "output_type": "execute_result"
    }
   ],
   "source": [
    "FP"
   ]
  },
  {
   "cell_type": "code",
   "execution_count": 18,
   "id": "045f5283-4b4d-41c2-a0b8-34ac6a556439",
   "metadata": {},
   "outputs": [
    {
     "data": {
      "text/plain": [
       "1"
      ]
     },
     "execution_count": 18,
     "metadata": {},
     "output_type": "execute_result"
    }
   ],
   "source": [
    "FN"
   ]
  },
  {
   "cell_type": "code",
   "execution_count": null,
   "id": "5d878850-e17d-4577-ae42-1aa63b700b89",
   "metadata": {},
   "outputs": [],
   "source": []
  },
  {
   "cell_type": "code",
   "execution_count": 25,
   "id": "f73d9c2f-fd85-4ec0-86e9-1e3d73a19ae5",
   "metadata": {},
   "outputs": [
    {
     "name": "stdout",
     "output_type": "stream",
     "text": [
      "The best recall score is nan\n",
      "... with parameters: {'penalty': 'l2', 'C': 10}\n"
     ]
    }
   ],
   "source": [
    "hyperparam= {'C':[0.001, 0.01, 0.1, 1, 10, 100],\n",
    "                      'penalty':['l2', 'l1']\n",
    "                     }\n",
    "\n",
    "score_measure = \"recall\"\n",
    "#create a logistic regression model\n",
    "logistic_model = LogisticRegression()\n",
    "\n",
    "#create a random search cv object\n",
    "random_search = RandomizedSearchCV(estimator=logistic_model,\n",
    "                                     param_distributions=hyperparam,\n",
    "                                     cv=5,scoring=score_measure,\n",
    "                                     n_iter=10,\n",
    "                                     n_jobs=-1,\n",
    "                                   )\n",
    "\n",
    "_ = random_search.fit(X_train, y_train)\n",
    "\n",
    "print(f\"The best {score_measure} score is {random_search.best_score_}\")\n",
    "print(f\"... with parameters: {random_search.best_params_}\")\n",
    "\n",
    "bestRecallTree = random_search.best_estimator_\n"
   ]
  },
  {
   "cell_type": "code",
   "execution_count": 26,
   "id": "5341c0ab-39f5-4d9e-8114-3fd43ec2444a",
   "metadata": {},
   "outputs": [
    {
     "data": {
      "text/html": [
       "<div>\n",
       "<style scoped>\n",
       "    .dataframe tbody tr th:only-of-type {\n",
       "        vertical-align: middle;\n",
       "    }\n",
       "\n",
       "    .dataframe tbody tr th {\n",
       "        vertical-align: top;\n",
       "    }\n",
       "\n",
       "    .dataframe thead th {\n",
       "        text-align: right;\n",
       "    }\n",
       "</style>\n",
       "<table border=\"1\" class=\"dataframe\">\n",
       "  <thead>\n",
       "    <tr style=\"text-align: right;\">\n",
       "      <th></th>\n",
       "      <th>model</th>\n",
       "      <th>Accuracy</th>\n",
       "      <th>Precision</th>\n",
       "      <th>Recall</th>\n",
       "      <th>F1</th>\n",
       "    </tr>\n",
       "  </thead>\n",
       "  <tbody>\n",
       "    <tr>\n",
       "      <th>0</th>\n",
       "      <td>default logistic</td>\n",
       "      <td>0.873418</td>\n",
       "      <td>0.816327</td>\n",
       "      <td>0.975610</td>\n",
       "      <td>0.888889</td>\n",
       "    </tr>\n",
       "    <tr>\n",
       "      <th>0</th>\n",
       "      <td>LogReg - RandomCV</td>\n",
       "      <td>0.882353</td>\n",
       "      <td>0.836364</td>\n",
       "      <td>0.978723</td>\n",
       "      <td>0.901961</td>\n",
       "    </tr>\n",
       "    <tr>\n",
       "      <th>0</th>\n",
       "      <td>LogReg - RandomCV</td>\n",
       "      <td>0.882353</td>\n",
       "      <td>0.836364</td>\n",
       "      <td>0.978723</td>\n",
       "      <td>0.901961</td>\n",
       "    </tr>\n",
       "  </tbody>\n",
       "</table>\n",
       "</div>"
      ],
      "text/plain": [
       "               model  Accuracy  Precision    Recall        F1\n",
       "0   default logistic  0.873418   0.816327  0.975610  0.888889\n",
       "0  LogReg - RandomCV  0.882353   0.836364  0.978723  0.901961\n",
       "0  LogReg - RandomCV  0.882353   0.836364  0.978723  0.901961"
      ]
     },
     "execution_count": 26,
     "metadata": {},
     "output_type": "execute_result"
    }
   ],
   "source": [
    "c_matrix = confusion_matrix(y_test, random_search.predict(X_test))\n",
    "TP = c_matrix[1][1]\n",
    "TN = c_matrix[0][0]\n",
    "FP = c_matrix[0][1]\n",
    "FN = c_matrix[1][0]\n",
    "\n",
    "performance = pd.concat([performance, pd.DataFrame({'model':\"LogReg - RandomCV\", \n",
    "                                                    'Accuracy': [(TP+TN)/(TP+TN+FP+FN)], \n",
    "                                                    'Precision': [TP/(TP+FP)], \n",
    "                                                    'Recall': [TP/(TP+FN)], \n",
    "                                                    'F1': [2*TP/(2*TP+FP+FN)]\n",
    "                                                     }, index=[0])])\n",
    "performance"
   ]
  },
  {
   "cell_type": "code",
   "execution_count": 21,
   "id": "e34932f8-9626-4f0d-b6dc-fd46544648b0",
   "metadata": {},
   "outputs": [
    {
     "data": {
      "text/plain": [
       "46"
      ]
     },
     "execution_count": 21,
     "metadata": {},
     "output_type": "execute_result"
    }
   ],
   "source": [
    "TP"
   ]
  },
  {
   "cell_type": "code",
   "execution_count": 22,
   "id": "f2a9af14-48b6-4e5e-853d-cadd18a2030b",
   "metadata": {},
   "outputs": [
    {
     "data": {
      "text/plain": [
       "29"
      ]
     },
     "execution_count": 22,
     "metadata": {},
     "output_type": "execute_result"
    }
   ],
   "source": [
    "TN"
   ]
  },
  {
   "cell_type": "code",
   "execution_count": 23,
   "id": "2064cd8e-1410-40ab-9229-452da8798640",
   "metadata": {},
   "outputs": [
    {
     "data": {
      "text/plain": [
       "9"
      ]
     },
     "execution_count": 23,
     "metadata": {},
     "output_type": "execute_result"
    }
   ],
   "source": [
    "FP"
   ]
  },
  {
   "cell_type": "code",
   "execution_count": 24,
   "id": "3ac4edcb-b392-475f-a1fb-5c1c271220fd",
   "metadata": {},
   "outputs": [
    {
     "data": {
      "text/plain": [
       "1"
      ]
     },
     "execution_count": 24,
     "metadata": {},
     "output_type": "execute_result"
    }
   ],
   "source": [
    "FN"
   ]
  },
  {
   "cell_type": "code",
   "execution_count": null,
   "id": "04bf9ff1-9ab8-45c9-ae52-40e2719e4464",
   "metadata": {},
   "outputs": [],
   "source": []
  },
  {
   "cell_type": "code",
   "execution_count": null,
   "id": "0d66c1a8-05ed-4229-ab4d-1fcaf1c721ef",
   "metadata": {},
   "outputs": [],
   "source": []
  },
  {
   "cell_type": "code",
   "execution_count": 29,
   "id": "c1b91cb0-4f1a-4b1a-99be-5010ebdc7803",
   "metadata": {},
   "outputs": [
    {
     "data": {
      "text/plain": [
       "114"
      ]
     },
     "execution_count": 29,
     "metadata": {},
     "output_type": "execute_result"
    }
   ],
   "source": [
    "TP"
   ]
  },
  {
   "cell_type": "code",
   "execution_count": 30,
   "id": "3d5878d8-610a-4260-93af-69bff7622787",
   "metadata": {},
   "outputs": [
    {
     "data": {
      "text/plain": [
       "38"
      ]
     },
     "execution_count": 30,
     "metadata": {},
     "output_type": "execute_result"
    }
   ],
   "source": [
    "TN"
   ]
  },
  {
   "cell_type": "code",
   "execution_count": 31,
   "id": "4ee1a2a4-b1bb-4c58-ab51-cb64c5ccfd9d",
   "metadata": {},
   "outputs": [
    {
     "data": {
      "text/plain": [
       "0"
      ]
     },
     "execution_count": 31,
     "metadata": {},
     "output_type": "execute_result"
    }
   ],
   "source": [
    "FP"
   ]
  },
  {
   "cell_type": "code",
   "execution_count": 32,
   "id": "402997dc-830d-4244-94d3-52d26527be0e",
   "metadata": {},
   "outputs": [
    {
     "data": {
      "text/plain": [
       "0"
      ]
     },
     "execution_count": 32,
     "metadata": {},
     "output_type": "execute_result"
    }
   ],
   "source": [
    "FN"
   ]
  }
 ],
 "metadata": {
  "kernelspec": {
   "display_name": "Python 3 (ipykernel)",
   "language": "python",
   "name": "python3"
  },
  "language_info": {
   "codemirror_mode": {
    "name": "ipython",
    "version": 3
   },
   "file_extension": ".py",
   "mimetype": "text/x-python",
   "name": "python",
   "nbconvert_exporter": "python",
   "pygments_lexer": "ipython3",
   "version": "3.9.13"
  }
 },
 "nbformat": 4,
 "nbformat_minor": 5
}
