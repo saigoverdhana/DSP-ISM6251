{
 "cells": [
  {
   "cell_type": "markdown",
   "id": "718c966f-09e5-4241-a42b-b1c0bea404e9",
   "metadata": {},
   "source": [
    "### Sai Srihitha Goverdhana U58956033"
   ]
  },
  {
   "cell_type": "markdown",
   "id": "66c4f556-6a79-4583-9045-fd059f39e671",
   "metadata": {},
   "source": [
    "#### Import Required Documents"
   ]
  },
  {
   "cell_type": "code",
   "execution_count": 1,
   "id": "8a10aa45-0b43-49c9-b961-d89c1967a16a",
   "metadata": {},
   "outputs": [],
   "source": [
    "import warnings   #To get rid of warnings\n",
    "warnings.filterwarnings(\"ignore\")\n",
    "\n",
    "import pandas as pd\n",
    "import numpy as np\n",
    "\n",
    "## Performence Metric\n",
    "from sklearn.metrics import confusion_matrix\n",
    "from sklearn.metrics import accuracy_score, precision_score, recall_score, f1_score\n",
    "from sklearn.metrics import classification_report\n",
    "\n",
    "\n",
    "## train test split\n",
    "from sklearn import model_selection\n",
    "from sklearn.model_selection import train_test_split\n",
    "\n",
    "## Different Models\n",
    "from sklearn.linear_model import LogisticRegression\n",
    "from sklearn.svm import SVC\n",
    "from sklearn.tree import DecisionTreeClassifier\n",
    "\n",
    "## Hyper parameter tuning\n",
    "from sklearn.model_selection import RandomizedSearchCV, GridSearchCV\n",
    "\n",
    "## Plots\n",
    "from matplotlib import pyplot as plt\n",
    "%matplotlib inline\n",
    "\n",
    "## Neural Network\n",
    "from sklearn.neural_network import MLPClassifier\n",
    "\n",
    "## Set random seed to 1 - to maintain the consistency of the results\n",
    "np.random.seed(1)\n",
    "\n",
    "# from sklearn.preprocessing import StandardScaler\n",
    "# from sklearn.preprocessing import LabelEncoder"
   ]
  },
  {
   "cell_type": "markdown",
   "id": "84190e8a-64ae-4dd7-af79-907aa312a2d0",
   "metadata": {},
   "source": [
    "### Import the data"
   ]
  },
  {
   "cell_type": "code",
   "execution_count": 2,
   "id": "ba629cee-05af-4336-ae3b-b6885cd5179d",
   "metadata": {},
   "outputs": [
    {
     "name": "stdout",
     "output_type": "stream",
     "text": [
      "C:\\Users\\srihi\\DSP\n"
     ]
    }
   ],
   "source": [
    "import os\n",
    "print(os.getcwd())"
   ]
  },
  {
   "cell_type": "code",
   "execution_count": 3,
   "id": "452ce781-62a3-48b9-8325-0f31ccb444e2",
   "metadata": {},
   "outputs": [],
   "source": [
    "df = pd.read_csv(\"./data/thyroid_prep.csv\")"
   ]
  },
  {
   "cell_type": "code",
   "execution_count": 4,
   "id": "fd045a16-9dc4-47a6-b88c-05f88e6aa83e",
   "metadata": {},
   "outputs": [],
   "source": [
    "X_train = pd.read_csv('./data/thyroid_X_train.csv')\n",
    "y_train = pd.read_csv('./data/thyroid_y_train.csv')\n",
    "X_test = pd.read_csv('./data/thyroid_X_test.csv')\n",
    "y_test = pd.read_csv('./data/thyroid_y_test.csv')"
   ]
  },
  {
   "cell_type": "code",
   "execution_count": 5,
   "id": "10403a26-3c32-425b-b166-80b8fda0548d",
   "metadata": {},
   "outputs": [
    {
     "data": {
      "text/html": [
       "<div>\n",
       "<style scoped>\n",
       "    .dataframe tbody tr th:only-of-type {\n",
       "        vertical-align: middle;\n",
       "    }\n",
       "\n",
       "    .dataframe tbody tr th {\n",
       "        vertical-align: top;\n",
       "    }\n",
       "\n",
       "    .dataframe thead th {\n",
       "        text-align: right;\n",
       "    }\n",
       "</style>\n",
       "<table border=\"1\" class=\"dataframe\">\n",
       "  <thead>\n",
       "    <tr style=\"text-align: right;\">\n",
       "      <th></th>\n",
       "      <th>age</th>\n",
       "      <th>sex</th>\n",
       "      <th>on_thyroxine</th>\n",
       "      <th>query_on_thyroxine</th>\n",
       "      <th>on_antithyroid_medication</th>\n",
       "      <th>sick</th>\n",
       "      <th>pregnant</th>\n",
       "      <th>thyroid_surgery</th>\n",
       "      <th>i131_treatment</th>\n",
       "      <th>query_hypothyroid</th>\n",
       "      <th>...</th>\n",
       "      <th>goitre</th>\n",
       "      <th>tumor</th>\n",
       "      <th>hypopituitary</th>\n",
       "      <th>psych</th>\n",
       "      <th>tsh</th>\n",
       "      <th>t3</th>\n",
       "      <th>tt4</th>\n",
       "      <th>t4u</th>\n",
       "      <th>fti</th>\n",
       "      <th>class</th>\n",
       "    </tr>\n",
       "  </thead>\n",
       "  <tbody>\n",
       "    <tr>\n",
       "      <th>0</th>\n",
       "      <td>0.73</td>\n",
       "      <td>0</td>\n",
       "      <td>1</td>\n",
       "      <td>0</td>\n",
       "      <td>0</td>\n",
       "      <td>0</td>\n",
       "      <td>0</td>\n",
       "      <td>0</td>\n",
       "      <td>1</td>\n",
       "      <td>0</td>\n",
       "      <td>...</td>\n",
       "      <td>0</td>\n",
       "      <td>0</td>\n",
       "      <td>0</td>\n",
       "      <td>0</td>\n",
       "      <td>0.00060</td>\n",
       "      <td>0.015</td>\n",
       "      <td>0.120</td>\n",
       "      <td>0.082</td>\n",
       "      <td>0.146</td>\n",
       "      <td>3</td>\n",
       "    </tr>\n",
       "    <tr>\n",
       "      <th>1</th>\n",
       "      <td>0.24</td>\n",
       "      <td>0</td>\n",
       "      <td>0</td>\n",
       "      <td>0</td>\n",
       "      <td>0</td>\n",
       "      <td>0</td>\n",
       "      <td>0</td>\n",
       "      <td>0</td>\n",
       "      <td>0</td>\n",
       "      <td>0</td>\n",
       "      <td>...</td>\n",
       "      <td>0</td>\n",
       "      <td>0</td>\n",
       "      <td>0</td>\n",
       "      <td>0</td>\n",
       "      <td>0.00025</td>\n",
       "      <td>0.030</td>\n",
       "      <td>0.143</td>\n",
       "      <td>0.133</td>\n",
       "      <td>0.108</td>\n",
       "      <td>3</td>\n",
       "    </tr>\n",
       "    <tr>\n",
       "      <th>2</th>\n",
       "      <td>0.47</td>\n",
       "      <td>0</td>\n",
       "      <td>0</td>\n",
       "      <td>0</td>\n",
       "      <td>0</td>\n",
       "      <td>0</td>\n",
       "      <td>0</td>\n",
       "      <td>0</td>\n",
       "      <td>0</td>\n",
       "      <td>0</td>\n",
       "      <td>...</td>\n",
       "      <td>0</td>\n",
       "      <td>0</td>\n",
       "      <td>0</td>\n",
       "      <td>0</td>\n",
       "      <td>0.00190</td>\n",
       "      <td>0.024</td>\n",
       "      <td>0.102</td>\n",
       "      <td>0.131</td>\n",
       "      <td>0.078</td>\n",
       "      <td>3</td>\n",
       "    </tr>\n",
       "    <tr>\n",
       "      <th>3</th>\n",
       "      <td>0.64</td>\n",
       "      <td>1</td>\n",
       "      <td>0</td>\n",
       "      <td>0</td>\n",
       "      <td>0</td>\n",
       "      <td>0</td>\n",
       "      <td>0</td>\n",
       "      <td>0</td>\n",
       "      <td>0</td>\n",
       "      <td>0</td>\n",
       "      <td>...</td>\n",
       "      <td>0</td>\n",
       "      <td>0</td>\n",
       "      <td>0</td>\n",
       "      <td>0</td>\n",
       "      <td>0.00090</td>\n",
       "      <td>0.017</td>\n",
       "      <td>0.077</td>\n",
       "      <td>0.090</td>\n",
       "      <td>0.085</td>\n",
       "      <td>3</td>\n",
       "    </tr>\n",
       "    <tr>\n",
       "      <th>4</th>\n",
       "      <td>0.23</td>\n",
       "      <td>0</td>\n",
       "      <td>0</td>\n",
       "      <td>0</td>\n",
       "      <td>0</td>\n",
       "      <td>0</td>\n",
       "      <td>0</td>\n",
       "      <td>0</td>\n",
       "      <td>0</td>\n",
       "      <td>0</td>\n",
       "      <td>...</td>\n",
       "      <td>0</td>\n",
       "      <td>0</td>\n",
       "      <td>0</td>\n",
       "      <td>0</td>\n",
       "      <td>0.00025</td>\n",
       "      <td>0.026</td>\n",
       "      <td>0.139</td>\n",
       "      <td>0.090</td>\n",
       "      <td>0.153</td>\n",
       "      <td>3</td>\n",
       "    </tr>\n",
       "    <tr>\n",
       "      <th>5</th>\n",
       "      <td>0.69</td>\n",
       "      <td>1</td>\n",
       "      <td>0</td>\n",
       "      <td>0</td>\n",
       "      <td>0</td>\n",
       "      <td>0</td>\n",
       "      <td>0</td>\n",
       "      <td>0</td>\n",
       "      <td>0</td>\n",
       "      <td>0</td>\n",
       "      <td>...</td>\n",
       "      <td>0</td>\n",
       "      <td>0</td>\n",
       "      <td>0</td>\n",
       "      <td>0</td>\n",
       "      <td>0.00025</td>\n",
       "      <td>0.016</td>\n",
       "      <td>0.086</td>\n",
       "      <td>0.070</td>\n",
       "      <td>0.123</td>\n",
       "      <td>3</td>\n",
       "    </tr>\n",
       "  </tbody>\n",
       "</table>\n",
       "<p>6 rows × 22 columns</p>\n",
       "</div>"
      ],
      "text/plain": [
       "    age   sex   on_thyroxine   query_on_thyroxine   on_antithyroid_medication  \\\n",
       "0  0.73     0              1                    0                           0   \n",
       "1  0.24     0              0                    0                           0   \n",
       "2  0.47     0              0                    0                           0   \n",
       "3  0.64     1              0                    0                           0   \n",
       "4  0.23     0              0                    0                           0   \n",
       "5  0.69     1              0                    0                           0   \n",
       "\n",
       "    sick   pregnant   thyroid_surgery   i131_treatment   query_hypothyroid  \\\n",
       "0      0          0                 0                1                   0   \n",
       "1      0          0                 0                0                   0   \n",
       "2      0          0                 0                0                   0   \n",
       "3      0          0                 0                0                   0   \n",
       "4      0          0                 0                0                   0   \n",
       "5      0          0                 0                0                   0   \n",
       "\n",
       "   ...   goitre   tumor   hypopituitary   psych      tsh     t3    tt4    t4u  \\\n",
       "0  ...        0       0               0       0  0.00060  0.015  0.120  0.082   \n",
       "1  ...        0       0               0       0  0.00025  0.030  0.143  0.133   \n",
       "2  ...        0       0               0       0  0.00190  0.024  0.102  0.131   \n",
       "3  ...        0       0               0       0  0.00090  0.017  0.077  0.090   \n",
       "4  ...        0       0               0       0  0.00025  0.026  0.139  0.090   \n",
       "5  ...        0       0               0       0  0.00025  0.016  0.086  0.070   \n",
       "\n",
       "     fti  class  \n",
       "0  0.146      3  \n",
       "1  0.108      3  \n",
       "2  0.078      3  \n",
       "3  0.085      3  \n",
       "4  0.153      3  \n",
       "5  0.123      3  \n",
       "\n",
       "[6 rows x 22 columns]"
      ]
     },
     "execution_count": 5,
     "metadata": {},
     "output_type": "execute_result"
    }
   ],
   "source": [
    "df.head(6)"
   ]
  },
  {
   "cell_type": "markdown",
   "id": "d7afda70-94d8-4a76-85c5-75e1f1d1d692",
   "metadata": {},
   "source": [
    "### Model the Data"
   ]
  },
  {
   "cell_type": "markdown",
   "id": "2a4eff21-95af-477a-9bfa-01692727fc76",
   "metadata": {},
   "source": [
    "> Lets create a pandas dataframe to store our performance metric which is Accuracy in our case\n",
    "\n",
    "> Purpose of creating the performace(dataframe) is for easy comparision of different models on our dataset"
   ]
  },
  {
   "cell_type": "code",
   "execution_count": 6,
   "id": "b48d0e10-9563-4c94-9727-b5135fb2213e",
   "metadata": {},
   "outputs": [],
   "source": [
    "performance = pd.DataFrame({\"model\": [], \"Accuracy\": []})"
   ]
  },
  {
   "cell_type": "markdown",
   "id": "9da7d8e9-0886-4db5-b380-4f4135426fa2",
   "metadata": {},
   "source": [
    "## Logistic Regression"
   ]
  },
  {
   "cell_type": "code",
   "execution_count": 7,
   "id": "6f4f075b-aeb5-4169-a7d8-4a1fff9120e1",
   "metadata": {},
   "outputs": [],
   "source": [
    "log_reg_model = LogisticRegression(max_iter=1100)\n",
    "_ = log_reg_model.fit(X_train, np.ravel(y_train))"
   ]
  },
  {
   "cell_type": "code",
   "execution_count": 8,
   "id": "369ad149-c92d-40de-8b42-e35b161046d5",
   "metadata": {},
   "outputs": [],
   "source": [
    "model_preds = log_reg_model.predict(X_test)\n",
    "c_matrix = confusion_matrix(y_test, model_preds)"
   ]
  },
  {
   "cell_type": "code",
   "execution_count": 9,
   "id": "13ccc247-f3e3-43c6-9b90-237264ab4366",
   "metadata": {},
   "outputs": [
    {
     "data": {
      "text/plain": [
       "array([[  32,    9,    0],\n",
       "       [   1,  113,    1],\n",
       "       [  17,  130, 1857]], dtype=int64)"
      ]
     },
     "execution_count": 9,
     "metadata": {},
     "output_type": "execute_result"
    }
   ],
   "source": [
    "confusion_matrix(y_test, model_preds)"
   ]
  },
  {
   "cell_type": "markdown",
   "id": "e8a67122-0269-4677-821f-20b9985681ee",
   "metadata": {},
   "source": [
    "### Manually Calculating Total TP,FP and Total FN"
   ]
  },
  {
   "cell_type": "markdown",
   "id": "825a036c-fbad-4e7e-aaa7-800d7ad2c381",
   "metadata": {},
   "source": [
    "> For better understanding on model performance, let us calculate True Positive , Flase Positive and False negative values\n",
    "\n",
    "> As its a multi-classification(class - 1,2,3) problem, our confusion matrix will be a 3 X 3 matrix. "
   ]
  },
  {
   "cell_type": "code",
   "execution_count": 10,
   "id": "79ed20e0-f347-4606-9aa2-e4549d9ecb83",
   "metadata": {},
   "outputs": [
    {
     "name": "stdout",
     "output_type": "stream",
     "text": [
      "Total True Positive Values: 1859\n",
      "Total False Positive Values: 301\n",
      "Total False Negative Values: 301\n"
     ]
    }
   ],
   "source": [
    "# Values are considered from above confusion matrix\n",
    "Total_TP = 34+109+1716\n",
    "print(\"Total True Positive Values:\",Total_TP)\n",
    "Total_FP = (0+30)+(7+258)+(0+6)\n",
    "print(\"Total False Positive Values:\",Total_FP)\n",
    "Total_FN = (7+0)+(0+6)+(30+258)\n",
    "print(\"Total False Negative Values:\",Total_FN)"
   ]
  },
  {
   "cell_type": "markdown",
   "id": "4010ca37-cc17-4f33-acca-5fa7a0f4dbde",
   "metadata": {},
   "source": [
    "> From the above output, we can see that FP is same as FN, In this case, the 'cost' of FP/FN are equal, so micro average accuracy is will be sufficient to evaluate my model\n",
    "\n",
    "> In multiclass evaluation accuracy=recall=precision=f1 for 'micro' average\n",
    "\n",
    "> Here Iam using micro-avergaing score as there is need to weight each prediction equally\n",
    "\n",
    "**As Accuracy,recall,Precision,f1 score are equal. Iam considering Accuracy as models best performance metric.**\n"
   ]
  },
  {
   "cell_type": "code",
   "execution_count": 11,
   "id": "c79acb39-9e8f-4e16-bdee-c77730403df4",
   "metadata": {},
   "outputs": [
    {
     "name": "stdout",
     "output_type": "stream",
     "text": [
      "0.9268518518518518\n"
     ]
    }
   ],
   "source": [
    "logreg_acc= accuracy_score(y_test, model_preds)\n",
    "print(logreg_acc)"
   ]
  },
  {
   "cell_type": "code",
   "execution_count": 12,
   "id": "7b756af4-6260-4cb7-8314-0fedc7e4669c",
   "metadata": {},
   "outputs": [
    {
     "data": {
      "text/plain": [
       "0.9268518518518518"
      ]
     },
     "execution_count": 12,
     "metadata": {},
     "output_type": "execute_result"
    }
   ],
   "source": [
    "precision_score(y_test, model_preds, average='micro')"
   ]
  },
  {
   "cell_type": "code",
   "execution_count": 13,
   "id": "f10b2aca-81d1-411d-bd49-1f7eaa7380f5",
   "metadata": {},
   "outputs": [
    {
     "data": {
      "text/plain": [
       "0.9268518518518518"
      ]
     },
     "execution_count": 13,
     "metadata": {},
     "output_type": "execute_result"
    }
   ],
   "source": [
    "recall_score(y_test, model_preds, average='micro')"
   ]
  },
  {
   "cell_type": "code",
   "execution_count": 14,
   "id": "3d5fb642-7b33-4371-826f-3cb2954b35fd",
   "metadata": {},
   "outputs": [
    {
     "data": {
      "text/plain": [
       "0.9268518518518518"
      ]
     },
     "execution_count": 14,
     "metadata": {},
     "output_type": "execute_result"
    }
   ],
   "source": [
    "f1_score(y_test, model_preds, average='micro')"
   ]
  },
  {
   "cell_type": "markdown",
   "id": "7f2b8b52-96e9-4e9b-ab8d-fc579b64729f",
   "metadata": {},
   "source": [
    "> As We considered Micro averaging, Just checking the various performance metric values(Its evident that all has same value(0.9518518518518518))\n",
    "\n",
    "> From next model, lets just calculate and print accuracy only"
   ]
  },
  {
   "cell_type": "code",
   "execution_count": 15,
   "id": "40c2a6ff-a0bf-47f5-9c63-2b48173d9929",
   "metadata": {},
   "outputs": [
    {
     "name": "stdout",
     "output_type": "stream",
     "text": [
      "              precision    recall  f1-score   support\n",
      "\n",
      "           1       0.64      0.78      0.70        41\n",
      "           2       0.45      0.98      0.62       115\n",
      "           3       1.00      0.93      0.96      2004\n",
      "\n",
      "    accuracy                           0.93      2160\n",
      "   macro avg       0.70      0.90      0.76      2160\n",
      "weighted avg       0.96      0.93      0.94      2160\n",
      "\n"
     ]
    }
   ],
   "source": [
    "print(classification_report(y_test, model_preds))"
   ]
  },
  {
   "cell_type": "code",
   "execution_count": 16,
   "id": "a7e27298-b77e-4cd3-825a-b696979c6a18",
   "metadata": {},
   "outputs": [],
   "source": [
    "performance = pd.concat([performance, pd.DataFrame({'model':\"Log Reg\", \n",
    "                                                    'Accuracy': logreg_acc }, index=[0])])"
   ]
  },
  {
   "cell_type": "code",
   "execution_count": 17,
   "id": "fa95c7fd-a85b-4f75-b5d1-9dba914acd67",
   "metadata": {},
   "outputs": [
    {
     "data": {
      "text/html": [
       "<div>\n",
       "<style scoped>\n",
       "    .dataframe tbody tr th:only-of-type {\n",
       "        vertical-align: middle;\n",
       "    }\n",
       "\n",
       "    .dataframe tbody tr th {\n",
       "        vertical-align: top;\n",
       "    }\n",
       "\n",
       "    .dataframe thead th {\n",
       "        text-align: right;\n",
       "    }\n",
       "</style>\n",
       "<table border=\"1\" class=\"dataframe\">\n",
       "  <thead>\n",
       "    <tr style=\"text-align: right;\">\n",
       "      <th></th>\n",
       "      <th>model</th>\n",
       "      <th>Accuracy</th>\n",
       "    </tr>\n",
       "  </thead>\n",
       "  <tbody>\n",
       "    <tr>\n",
       "      <th>0</th>\n",
       "      <td>Log Reg</td>\n",
       "      <td>0.926852</td>\n",
       "    </tr>\n",
       "  </tbody>\n",
       "</table>\n",
       "</div>"
      ],
      "text/plain": [
       "     model  Accuracy\n",
       "0  Log Reg  0.926852"
      ]
     },
     "execution_count": 17,
     "metadata": {},
     "output_type": "execute_result"
    }
   ],
   "source": [
    "performance"
   ]
  },
  {
   "cell_type": "markdown",
   "id": "35b5a698-a248-4c79-9fd1-5ad17dc272ef",
   "metadata": {},
   "source": [
    "### Logistic Regression - RandomSearchCV "
   ]
  },
  {
   "cell_type": "code",
   "execution_count": 18,
   "id": "3b8d44d7-4e49-4c65-adda-5b3da38e4fe0",
   "metadata": {},
   "outputs": [
    {
     "name": "stdout",
     "output_type": "stream",
     "text": [
      "The best accuracy score is 0.9642574257425742\n",
      "... with parameters: {'C': 100}\n"
     ]
    }
   ],
   "source": [
    "#prepare the hyperparameter list to tune\n",
    "hyperparameter_list = {'C':[0.001, 0.01, 0.1, 1, 10, 100]\n",
    "                     }\n",
    "\n",
    "score_measure = \"accuracy\"\n",
    "\n",
    "#create a random search cv object\n",
    "random_search_cv_log = RandomizedSearchCV(estimator=log_reg_model,\n",
    "                                     param_distributions=hyperparameter_list,\n",
    "                                     cv=5,\n",
    "                                          scoring=score_measure,\n",
    "                                     n_iter=10,\n",
    "                                     n_jobs=-1\n",
    "                                    )\n",
    "\n",
    "_ = random_search_cv_log.fit(X_train, y_train)\n",
    "\n",
    "print(f\"The best {score_measure} score is {random_search_cv_log.best_score_}\")\n",
    "print(f\"... with parameters: {random_search_cv_log.best_params_}\")\n",
    "\n",
    "bestRecallTree = random_search_cv_log.best_estimator_\n"
   ]
  },
  {
   "cell_type": "code",
   "execution_count": 19,
   "id": "7cc490ce-7c86-4772-a41a-c888b2943cc9",
   "metadata": {},
   "outputs": [
    {
     "name": "stdout",
     "output_type": "stream",
     "text": [
      "0.9569444444444445\n"
     ]
    }
   ],
   "source": [
    "model_preds = random_search_cv_log.predict(X_test)\n",
    "c_matrix = confusion_matrix(y_test, model_preds)\n",
    "rand_logreg_acc= accuracy_score(y_test, model_preds)\n",
    "print(rand_logreg_acc)"
   ]
  },
  {
   "cell_type": "code",
   "execution_count": 20,
   "id": "1f2ed9ca-64bd-4660-837a-aa002d2404ad",
   "metadata": {},
   "outputs": [],
   "source": [
    "c_matrix = confusion_matrix(y_test, random_search_cv_log.predict(X_test))\n",
    "\n",
    "performance = pd.concat([performance, pd.DataFrame({'model':\"Rand Log Reg\", \n",
    "                                                    'Accuracy': rand_logreg_acc }, index=[0])])"
   ]
  },
  {
   "cell_type": "code",
   "execution_count": 21,
   "id": "985ca00a-fb1c-497e-8022-1642c68dc092",
   "metadata": {},
   "outputs": [
    {
     "data": {
      "text/html": [
       "<div>\n",
       "<style scoped>\n",
       "    .dataframe tbody tr th:only-of-type {\n",
       "        vertical-align: middle;\n",
       "    }\n",
       "\n",
       "    .dataframe tbody tr th {\n",
       "        vertical-align: top;\n",
       "    }\n",
       "\n",
       "    .dataframe thead th {\n",
       "        text-align: right;\n",
       "    }\n",
       "</style>\n",
       "<table border=\"1\" class=\"dataframe\">\n",
       "  <thead>\n",
       "    <tr style=\"text-align: right;\">\n",
       "      <th></th>\n",
       "      <th>model</th>\n",
       "      <th>Accuracy</th>\n",
       "    </tr>\n",
       "  </thead>\n",
       "  <tbody>\n",
       "    <tr>\n",
       "      <th>0</th>\n",
       "      <td>Log Reg</td>\n",
       "      <td>0.926852</td>\n",
       "    </tr>\n",
       "    <tr>\n",
       "      <th>0</th>\n",
       "      <td>Rand Log Reg</td>\n",
       "      <td>0.956944</td>\n",
       "    </tr>\n",
       "  </tbody>\n",
       "</table>\n",
       "</div>"
      ],
      "text/plain": [
       "          model  Accuracy\n",
       "0       Log Reg  0.926852\n",
       "0  Rand Log Reg  0.956944"
      ]
     },
     "execution_count": 21,
     "metadata": {},
     "output_type": "execute_result"
    }
   ],
   "source": [
    "performance"
   ]
  },
  {
   "cell_type": "markdown",
   "id": "6fe46023-d0c8-4a07-8857-0ebadcfe09e0",
   "metadata": {},
   "source": [
    "### Logistic Regression - GridSearchCV "
   ]
  },
  {
   "cell_type": "code",
   "execution_count": 22,
   "id": "ef634aeb-4760-4c49-86b6-631a513c1f2b",
   "metadata": {},
   "outputs": [
    {
     "name": "stdout",
     "output_type": "stream",
     "text": [
      "The best accuracy score is 0.9622772277227722\n",
      "... with parameters: {'C': 10}\n"
     ]
    }
   ],
   "source": [
    "score_measure = \"accuracy\"\n",
    "\n",
    "#Define the parameter grid\n",
    "param_grid = {\n",
    "    'C':[0.1,1,10]\n",
    "}\n",
    "\n",
    "grid_search = GridSearchCV(estimator=log_reg_model, param_grid=param_grid, cv = 5, scoring=score_measure)\n",
    "\n",
    "\n",
    "_ = grid_search.fit(X_train, y_train)\n",
    "\n",
    "print(f\"The best {score_measure} score is {grid_search.best_score_}\")\n",
    "print(f\"... with parameters: {grid_search.best_params_}\")\n",
    "\n",
    "bestRecallTree = grid_search.best_estimator_"
   ]
  },
  {
   "cell_type": "code",
   "execution_count": 23,
   "id": "cf9d2d47-aec6-4d7c-b3d1-0c3b0004c75b",
   "metadata": {},
   "outputs": [
    {
     "name": "stdout",
     "output_type": "stream",
     "text": [
      "0.9546296296296296\n"
     ]
    }
   ],
   "source": [
    "model_preds = grid_search.predict(X_test)\n",
    "c_matrix = confusion_matrix(y_test, model_preds)\n",
    "grid_logreg_acc= accuracy_score(y_test, model_preds)\n",
    "print(grid_logreg_acc)"
   ]
  },
  {
   "cell_type": "code",
   "execution_count": 24,
   "id": "2ad98b53-6121-4365-bf44-349915650534",
   "metadata": {},
   "outputs": [
    {
     "data": {
      "text/html": [
       "<div>\n",
       "<style scoped>\n",
       "    .dataframe tbody tr th:only-of-type {\n",
       "        vertical-align: middle;\n",
       "    }\n",
       "\n",
       "    .dataframe tbody tr th {\n",
       "        vertical-align: top;\n",
       "    }\n",
       "\n",
       "    .dataframe thead th {\n",
       "        text-align: right;\n",
       "    }\n",
       "</style>\n",
       "<table border=\"1\" class=\"dataframe\">\n",
       "  <thead>\n",
       "    <tr style=\"text-align: right;\">\n",
       "      <th></th>\n",
       "      <th>model</th>\n",
       "      <th>Accuracy</th>\n",
       "    </tr>\n",
       "  </thead>\n",
       "  <tbody>\n",
       "    <tr>\n",
       "      <th>0</th>\n",
       "      <td>Log Reg</td>\n",
       "      <td>0.926852</td>\n",
       "    </tr>\n",
       "    <tr>\n",
       "      <th>0</th>\n",
       "      <td>Rand Log Reg</td>\n",
       "      <td>0.956944</td>\n",
       "    </tr>\n",
       "    <tr>\n",
       "      <th>0</th>\n",
       "      <td>Grid Log Reg</td>\n",
       "      <td>0.954630</td>\n",
       "    </tr>\n",
       "  </tbody>\n",
       "</table>\n",
       "</div>"
      ],
      "text/plain": [
       "          model  Accuracy\n",
       "0       Log Reg  0.926852\n",
       "0  Rand Log Reg  0.956944\n",
       "0  Grid Log Reg  0.954630"
      ]
     },
     "execution_count": 24,
     "metadata": {},
     "output_type": "execute_result"
    }
   ],
   "source": [
    "c_matrix = confusion_matrix(y_test, grid_search.predict(X_test))\n",
    "performance = pd.concat([performance, pd.DataFrame({'model':\"Grid Log Reg\", \n",
    "                                                    'Accuracy': grid_logreg_acc }, index=[0])])\n",
    "performance"
   ]
  },
  {
   "cell_type": "markdown",
   "id": "7f870c14-ee7b-410b-887c-ac5eb4ef0360",
   "metadata": {},
   "source": [
    "### SVM"
   ]
  },
  {
   "cell_type": "markdown",
   "id": "351120ff-c2a8-4303-9c49-6da9852e88f7",
   "metadata": {},
   "source": [
    "#### 3.1 Fit a SVM classification model using linear kernal"
   ]
  },
  {
   "cell_type": "code",
   "execution_count": 25,
   "id": "edf11adf-06e7-4ab1-8e02-60023a869b90",
   "metadata": {},
   "outputs": [],
   "source": [
    "svm_lin_model = SVC(kernel=\"linear\")\n",
    "_ = svm_lin_model.fit(X_train, np.ravel(y_train))"
   ]
  },
  {
   "cell_type": "code",
   "execution_count": 26,
   "id": "dfac84c0-b063-4035-84d6-1f82431f2168",
   "metadata": {},
   "outputs": [
    {
     "name": "stdout",
     "output_type": "stream",
     "text": [
      "0.9375\n"
     ]
    }
   ],
   "source": [
    "model_preds = svm_lin_model.predict(X_test)\n",
    "c_matrix = confusion_matrix(y_test, model_preds)\n",
    "lin_svm_acc= accuracy_score(y_test, model_preds)\n",
    "print(lin_svm_acc)"
   ]
  },
  {
   "cell_type": "code",
   "execution_count": 27,
   "id": "bb238fc1-6939-435c-94ad-ddf06534b1fc",
   "metadata": {},
   "outputs": [
    {
     "data": {
      "text/html": [
       "<div>\n",
       "<style scoped>\n",
       "    .dataframe tbody tr th:only-of-type {\n",
       "        vertical-align: middle;\n",
       "    }\n",
       "\n",
       "    .dataframe tbody tr th {\n",
       "        vertical-align: top;\n",
       "    }\n",
       "\n",
       "    .dataframe thead th {\n",
       "        text-align: right;\n",
       "    }\n",
       "</style>\n",
       "<table border=\"1\" class=\"dataframe\">\n",
       "  <thead>\n",
       "    <tr style=\"text-align: right;\">\n",
       "      <th></th>\n",
       "      <th>model</th>\n",
       "      <th>Accuracy</th>\n",
       "    </tr>\n",
       "  </thead>\n",
       "  <tbody>\n",
       "    <tr>\n",
       "      <th>0</th>\n",
       "      <td>Log Reg</td>\n",
       "      <td>0.926852</td>\n",
       "    </tr>\n",
       "    <tr>\n",
       "      <th>0</th>\n",
       "      <td>Rand Log Reg</td>\n",
       "      <td>0.956944</td>\n",
       "    </tr>\n",
       "    <tr>\n",
       "      <th>0</th>\n",
       "      <td>Grid Log Reg</td>\n",
       "      <td>0.954630</td>\n",
       "    </tr>\n",
       "    <tr>\n",
       "      <th>0</th>\n",
       "      <td>Linear SVM</td>\n",
       "      <td>0.937500</td>\n",
       "    </tr>\n",
       "  </tbody>\n",
       "</table>\n",
       "</div>"
      ],
      "text/plain": [
       "          model  Accuracy\n",
       "0       Log Reg  0.926852\n",
       "0  Rand Log Reg  0.956944\n",
       "0  Grid Log Reg  0.954630\n",
       "0    Linear SVM  0.937500"
      ]
     },
     "execution_count": 27,
     "metadata": {},
     "output_type": "execute_result"
    }
   ],
   "source": [
    "performance = pd.concat([performance, pd.DataFrame({'model':\"Linear SVM\", \n",
    "                                                    'Accuracy': lin_svm_acc }, index=[0])])\n",
    "performance"
   ]
  },
  {
   "cell_type": "markdown",
   "id": "cd27308d-c5be-414a-a964-130b28daf569",
   "metadata": {},
   "source": [
    "### SVM Linear - RandomSeearchCV"
   ]
  },
  {
   "cell_type": "code",
   "execution_count": 28,
   "id": "9daf28c7-972b-4302-afc5-3c549c337791",
   "metadata": {},
   "outputs": [
    {
     "name": "stdout",
     "output_type": "stream",
     "text": [
      "Fitting 5 folds for each of 12 candidates, totalling 60 fits\n",
      "The best accuracy score is 0.9681980198019801\n",
      "... with parameters: {'max_iter': 1500, 'C': 10}\n"
     ]
    }
   ],
   "source": [
    "score_measure = \"accuracy\"\n",
    "# Create parameter grid\n",
    "param_grid = {'C': [0.1, 1, 10, 100],\n",
    "              'max_iter': [1000, 1500, 2000]}\n",
    "\n",
    "\n",
    "# Create the random search model\n",
    "rand_search = RandomizedSearchCV(svm_lin_model, param_grid, cv=5, n_iter=50, scoring=score_measure, n_jobs=-1, verbose=1)\n",
    "\n",
    "\n",
    "_ = rand_search.fit(X_train, y_train)\n",
    "\n",
    "print(f\"The best {score_measure} score is {rand_search.best_score_}\")\n",
    "print(f\"... with parameters: {rand_search.best_params_}\")\n",
    "\n",
    "bestRecallTree = rand_search.best_estimator_"
   ]
  },
  {
   "cell_type": "code",
   "execution_count": 29,
   "id": "43b5c141-5517-4c65-8d81-daf3d70f0f9f",
   "metadata": {},
   "outputs": [
    {
     "name": "stdout",
     "output_type": "stream",
     "text": [
      "0.9435185185185185\n"
     ]
    }
   ],
   "source": [
    "model_preds = rand_search.predict(X_test)\n",
    "lin_svm_acc= accuracy_score(y_test, model_preds)\n",
    "print(lin_svm_acc)"
   ]
  },
  {
   "cell_type": "code",
   "execution_count": 30,
   "id": "b0085e4d-c4bf-4998-badb-ba4600839411",
   "metadata": {},
   "outputs": [
    {
     "data": {
      "text/html": [
       "<div>\n",
       "<style scoped>\n",
       "    .dataframe tbody tr th:only-of-type {\n",
       "        vertical-align: middle;\n",
       "    }\n",
       "\n",
       "    .dataframe tbody tr th {\n",
       "        vertical-align: top;\n",
       "    }\n",
       "\n",
       "    .dataframe thead th {\n",
       "        text-align: right;\n",
       "    }\n",
       "</style>\n",
       "<table border=\"1\" class=\"dataframe\">\n",
       "  <thead>\n",
       "    <tr style=\"text-align: right;\">\n",
       "      <th></th>\n",
       "      <th>model</th>\n",
       "      <th>Accuracy</th>\n",
       "    </tr>\n",
       "  </thead>\n",
       "  <tbody>\n",
       "    <tr>\n",
       "      <th>0</th>\n",
       "      <td>Log Reg</td>\n",
       "      <td>0.926852</td>\n",
       "    </tr>\n",
       "    <tr>\n",
       "      <th>0</th>\n",
       "      <td>Rand Log Reg</td>\n",
       "      <td>0.956944</td>\n",
       "    </tr>\n",
       "    <tr>\n",
       "      <th>0</th>\n",
       "      <td>Grid Log Reg</td>\n",
       "      <td>0.954630</td>\n",
       "    </tr>\n",
       "    <tr>\n",
       "      <th>0</th>\n",
       "      <td>Linear SVM</td>\n",
       "      <td>0.937500</td>\n",
       "    </tr>\n",
       "    <tr>\n",
       "      <th>0</th>\n",
       "      <td>Linear Rand SVM</td>\n",
       "      <td>0.943519</td>\n",
       "    </tr>\n",
       "  </tbody>\n",
       "</table>\n",
       "</div>"
      ],
      "text/plain": [
       "             model  Accuracy\n",
       "0          Log Reg  0.926852\n",
       "0     Rand Log Reg  0.956944\n",
       "0     Grid Log Reg  0.954630\n",
       "0       Linear SVM  0.937500\n",
       "0  Linear Rand SVM  0.943519"
      ]
     },
     "execution_count": 30,
     "metadata": {},
     "output_type": "execute_result"
    }
   ],
   "source": [
    "c_matrix = confusion_matrix(y_test, rand_search.predict(X_test))\n",
    "performance = pd.concat([performance, pd.DataFrame({'model':\"Linear Rand SVM\", \n",
    "                                                    'Accuracy': lin_svm_acc }, index=[0])])\n",
    "performance"
   ]
  },
  {
   "cell_type": "markdown",
   "id": "917a02ec-e0a7-464c-9787-8468d16c12c0",
   "metadata": {},
   "source": [
    "### SVM Linear - GridSearchCV"
   ]
  },
  {
   "cell_type": "code",
   "execution_count": 31,
   "id": "a18805a4-9235-47a2-9e97-19379e30b093",
   "metadata": {},
   "outputs": [
    {
     "name": "stdout",
     "output_type": "stream",
     "text": [
      "The best accuracy score is 0.9661782178217821\n",
      "... with parameters: {'C': 100, 'gamma': 1, 'kernel': 'linear'}\n"
     ]
    }
   ],
   "source": [
    "score_measure = \"accuracy\"\n",
    "kfolds = 5\n",
    "\n",
    "#define the parameter grid\n",
    "param_grid = {'C': [0.1, 1, 10, 100],  \n",
    "              'gamma': [1, 0.1, 0.01, 0.001], \n",
    "              'kernel': ['linear']}  \n",
    "#instantiate the GridSearchCV object\n",
    "grid = GridSearchCV(svm_lin_model, param_grid, cv=5,scoring=score_measure)\n",
    "\n",
    "\n",
    "_ = grid.fit(X_train, y_train)\n",
    "\n",
    "print(f\"The best {score_measure} score is {grid.best_score_}\")\n",
    "print(f\"... with parameters: {grid.best_params_}\")\n",
    "\n",
    "bestRecallTree = grid.best_estimator_\n"
   ]
  },
  {
   "cell_type": "code",
   "execution_count": 32,
   "id": "34819ce9-96eb-4467-933c-dd108994e65a",
   "metadata": {},
   "outputs": [
    {
     "name": "stdout",
     "output_type": "stream",
     "text": [
      "0.9555555555555556\n"
     ]
    }
   ],
   "source": [
    "model_preds = grid.predict(X_test)\n",
    "lingrid_svm_acc= accuracy_score(y_test, model_preds)\n",
    "print(lingrid_svm_acc)"
   ]
  },
  {
   "cell_type": "code",
   "execution_count": 33,
   "id": "b0b462cb-1683-4cbd-bc58-1ee6dfa20bba",
   "metadata": {},
   "outputs": [
    {
     "data": {
      "text/html": [
       "<div>\n",
       "<style scoped>\n",
       "    .dataframe tbody tr th:only-of-type {\n",
       "        vertical-align: middle;\n",
       "    }\n",
       "\n",
       "    .dataframe tbody tr th {\n",
       "        vertical-align: top;\n",
       "    }\n",
       "\n",
       "    .dataframe thead th {\n",
       "        text-align: right;\n",
       "    }\n",
       "</style>\n",
       "<table border=\"1\" class=\"dataframe\">\n",
       "  <thead>\n",
       "    <tr style=\"text-align: right;\">\n",
       "      <th></th>\n",
       "      <th>model</th>\n",
       "      <th>Accuracy</th>\n",
       "    </tr>\n",
       "  </thead>\n",
       "  <tbody>\n",
       "    <tr>\n",
       "      <th>0</th>\n",
       "      <td>Log Reg</td>\n",
       "      <td>0.926852</td>\n",
       "    </tr>\n",
       "    <tr>\n",
       "      <th>0</th>\n",
       "      <td>Rand Log Reg</td>\n",
       "      <td>0.956944</td>\n",
       "    </tr>\n",
       "    <tr>\n",
       "      <th>0</th>\n",
       "      <td>Grid Log Reg</td>\n",
       "      <td>0.954630</td>\n",
       "    </tr>\n",
       "    <tr>\n",
       "      <th>0</th>\n",
       "      <td>Linear SVM</td>\n",
       "      <td>0.937500</td>\n",
       "    </tr>\n",
       "    <tr>\n",
       "      <th>0</th>\n",
       "      <td>Linear Rand SVM</td>\n",
       "      <td>0.943519</td>\n",
       "    </tr>\n",
       "    <tr>\n",
       "      <th>0</th>\n",
       "      <td>Linear Grid SVM</td>\n",
       "      <td>0.955556</td>\n",
       "    </tr>\n",
       "  </tbody>\n",
       "</table>\n",
       "</div>"
      ],
      "text/plain": [
       "             model  Accuracy\n",
       "0          Log Reg  0.926852\n",
       "0     Rand Log Reg  0.956944\n",
       "0     Grid Log Reg  0.954630\n",
       "0       Linear SVM  0.937500\n",
       "0  Linear Rand SVM  0.943519\n",
       "0  Linear Grid SVM  0.955556"
      ]
     },
     "execution_count": 33,
     "metadata": {},
     "output_type": "execute_result"
    }
   ],
   "source": [
    "c_matrix = confusion_matrix(y_test, grid.predict(X_test))\n",
    "performance = pd.concat([performance, pd.DataFrame({'model':\"Linear Grid SVM\", \n",
    "                                                    'Accuracy': lingrid_svm_acc}, index=[0])])\n",
    "performance"
   ]
  },
  {
   "cell_type": "markdown",
   "id": "6d6cfc39-5c26-4fe1-81a7-ad7ef6798507",
   "metadata": {},
   "source": [
    "### 3.2 Fit a SVM classification model using rbf kernal"
   ]
  },
  {
   "cell_type": "code",
   "execution_count": 34,
   "id": "c921b5c8-b38c-40f7-9389-3d911b4d04d7",
   "metadata": {},
   "outputs": [],
   "source": [
    "svm_rbf_model = SVC(kernel=\"rbf\", C=10, gamma='scale')\n",
    "_ = svm_rbf_model.fit(X_train, np.ravel(y_train))"
   ]
  },
  {
   "cell_type": "code",
   "execution_count": 35,
   "id": "f9a932d8-8af1-4989-b51b-5d0aa38bce84",
   "metadata": {},
   "outputs": [],
   "source": [
    "model_preds = svm_rbf_model.predict(X_test)\n",
    "c_matrix = confusion_matrix(y_test, model_preds)"
   ]
  },
  {
   "cell_type": "code",
   "execution_count": 36,
   "id": "3e02f3c4-d8a1-45f8-8923-45c439c690b4",
   "metadata": {},
   "outputs": [
    {
     "name": "stdout",
     "output_type": "stream",
     "text": [
      "0.8462962962962963\n"
     ]
    }
   ],
   "source": [
    "rbf_svm_acc= accuracy_score(y_test, model_preds)\n",
    "print(rbf_svm_acc)"
   ]
  },
  {
   "cell_type": "code",
   "execution_count": 37,
   "id": "93c8b73c-9c97-4a37-b38b-f4b4d41921a0",
   "metadata": {},
   "outputs": [
    {
     "data": {
      "text/html": [
       "<div>\n",
       "<style scoped>\n",
       "    .dataframe tbody tr th:only-of-type {\n",
       "        vertical-align: middle;\n",
       "    }\n",
       "\n",
       "    .dataframe tbody tr th {\n",
       "        vertical-align: top;\n",
       "    }\n",
       "\n",
       "    .dataframe thead th {\n",
       "        text-align: right;\n",
       "    }\n",
       "</style>\n",
       "<table border=\"1\" class=\"dataframe\">\n",
       "  <thead>\n",
       "    <tr style=\"text-align: right;\">\n",
       "      <th></th>\n",
       "      <th>model</th>\n",
       "      <th>Accuracy</th>\n",
       "    </tr>\n",
       "  </thead>\n",
       "  <tbody>\n",
       "    <tr>\n",
       "      <th>0</th>\n",
       "      <td>Log Reg</td>\n",
       "      <td>0.926852</td>\n",
       "    </tr>\n",
       "    <tr>\n",
       "      <th>0</th>\n",
       "      <td>Rand Log Reg</td>\n",
       "      <td>0.956944</td>\n",
       "    </tr>\n",
       "    <tr>\n",
       "      <th>0</th>\n",
       "      <td>Grid Log Reg</td>\n",
       "      <td>0.954630</td>\n",
       "    </tr>\n",
       "    <tr>\n",
       "      <th>0</th>\n",
       "      <td>Linear SVM</td>\n",
       "      <td>0.937500</td>\n",
       "    </tr>\n",
       "    <tr>\n",
       "      <th>0</th>\n",
       "      <td>Linear Rand SVM</td>\n",
       "      <td>0.943519</td>\n",
       "    </tr>\n",
       "    <tr>\n",
       "      <th>0</th>\n",
       "      <td>Linear Grid SVM</td>\n",
       "      <td>0.955556</td>\n",
       "    </tr>\n",
       "    <tr>\n",
       "      <th>0</th>\n",
       "      <td>rbf SVM</td>\n",
       "      <td>0.846296</td>\n",
       "    </tr>\n",
       "  </tbody>\n",
       "</table>\n",
       "</div>"
      ],
      "text/plain": [
       "             model  Accuracy\n",
       "0          Log Reg  0.926852\n",
       "0     Rand Log Reg  0.956944\n",
       "0     Grid Log Reg  0.954630\n",
       "0       Linear SVM  0.937500\n",
       "0  Linear Rand SVM  0.943519\n",
       "0  Linear Grid SVM  0.955556\n",
       "0          rbf SVM  0.846296"
      ]
     },
     "execution_count": 37,
     "metadata": {},
     "output_type": "execute_result"
    }
   ],
   "source": [
    "performance = pd.concat([performance, pd.DataFrame({'model':\"rbf SVM\", \n",
    "                                                    'Accuracy': rbf_svm_acc }, index=[0])])\n",
    "performance"
   ]
  },
  {
   "cell_type": "markdown",
   "id": "e92e2ba7-4ee8-495c-9af1-2a4c26375756",
   "metadata": {},
   "source": [
    "### SVM rbf - RandomSearchCV"
   ]
  },
  {
   "cell_type": "code",
   "execution_count": 38,
   "id": "044c3e90-74e3-40f2-883a-87fef903d105",
   "metadata": {},
   "outputs": [
    {
     "name": "stdout",
     "output_type": "stream",
     "text": [
      "Fitting 5 folds for each of 12 candidates, totalling 60 fits\n",
      "The best accuracy score is 0.9164950495049504\n",
      "... with parameters: {'max_iter': 1000, 'C': 10}\n"
     ]
    }
   ],
   "source": [
    "from sklearn.model_selection import RandomizedSearchCV\n",
    "\n",
    "score_measure = \"accuracy\"\n",
    "# Create parameter grid\n",
    "param_grid = {'C': [0.1, 1, 10, 100],\n",
    "              'max_iter': [1000, 1500, 2000]}\n",
    "\n",
    "# Create the random search model\n",
    "rand_search_rbf = RandomizedSearchCV(svm_rbf_model, param_grid, cv=5, n_iter=50, scoring=score_measure, n_jobs=-1, verbose=1)\n",
    "\n",
    "\n",
    "_ = rand_search_rbf.fit(X_train, y_train)\n",
    "\n",
    "print(f\"The best {score_measure} score is {rand_search_rbf.best_score_}\")\n",
    "print(f\"... with parameters: {rand_search_rbf.best_params_}\")\n",
    "\n",
    "bestRecallTree = rand_search_rbf.best_estimator_"
   ]
  },
  {
   "cell_type": "code",
   "execution_count": 39,
   "id": "5720ffc5-cbdd-4d30-b383-9633b2a5c43d",
   "metadata": {},
   "outputs": [
    {
     "name": "stdout",
     "output_type": "stream",
     "text": [
      "0.8462962962962963\n"
     ]
    }
   ],
   "source": [
    "model_preds = rand_search_rbf.predict(X_test)\n",
    "rand_rbf_acc= accuracy_score(y_test, model_preds)\n",
    "print(rand_rbf_acc)"
   ]
  },
  {
   "cell_type": "code",
   "execution_count": 40,
   "id": "efbc7cd7-6a52-4746-8373-c534287da23b",
   "metadata": {},
   "outputs": [
    {
     "data": {
      "text/html": [
       "<div>\n",
       "<style scoped>\n",
       "    .dataframe tbody tr th:only-of-type {\n",
       "        vertical-align: middle;\n",
       "    }\n",
       "\n",
       "    .dataframe tbody tr th {\n",
       "        vertical-align: top;\n",
       "    }\n",
       "\n",
       "    .dataframe thead th {\n",
       "        text-align: right;\n",
       "    }\n",
       "</style>\n",
       "<table border=\"1\" class=\"dataframe\">\n",
       "  <thead>\n",
       "    <tr style=\"text-align: right;\">\n",
       "      <th></th>\n",
       "      <th>model</th>\n",
       "      <th>Accuracy</th>\n",
       "    </tr>\n",
       "  </thead>\n",
       "  <tbody>\n",
       "    <tr>\n",
       "      <th>0</th>\n",
       "      <td>Log Reg</td>\n",
       "      <td>0.926852</td>\n",
       "    </tr>\n",
       "    <tr>\n",
       "      <th>0</th>\n",
       "      <td>Rand Log Reg</td>\n",
       "      <td>0.956944</td>\n",
       "    </tr>\n",
       "    <tr>\n",
       "      <th>0</th>\n",
       "      <td>Grid Log Reg</td>\n",
       "      <td>0.954630</td>\n",
       "    </tr>\n",
       "    <tr>\n",
       "      <th>0</th>\n",
       "      <td>Linear SVM</td>\n",
       "      <td>0.937500</td>\n",
       "    </tr>\n",
       "    <tr>\n",
       "      <th>0</th>\n",
       "      <td>Linear Rand SVM</td>\n",
       "      <td>0.943519</td>\n",
       "    </tr>\n",
       "    <tr>\n",
       "      <th>0</th>\n",
       "      <td>Linear Grid SVM</td>\n",
       "      <td>0.955556</td>\n",
       "    </tr>\n",
       "    <tr>\n",
       "      <th>0</th>\n",
       "      <td>rbf SVM</td>\n",
       "      <td>0.846296</td>\n",
       "    </tr>\n",
       "    <tr>\n",
       "      <th>0</th>\n",
       "      <td>rbf rand svm</td>\n",
       "      <td>0.846296</td>\n",
       "    </tr>\n",
       "  </tbody>\n",
       "</table>\n",
       "</div>"
      ],
      "text/plain": [
       "             model  Accuracy\n",
       "0          Log Reg  0.926852\n",
       "0     Rand Log Reg  0.956944\n",
       "0     Grid Log Reg  0.954630\n",
       "0       Linear SVM  0.937500\n",
       "0  Linear Rand SVM  0.943519\n",
       "0  Linear Grid SVM  0.955556\n",
       "0          rbf SVM  0.846296\n",
       "0     rbf rand svm  0.846296"
      ]
     },
     "execution_count": 40,
     "metadata": {},
     "output_type": "execute_result"
    }
   ],
   "source": [
    "c_matrix = confusion_matrix(y_test, rand_search_rbf.predict(X_test))\n",
    "performance = pd.concat([performance, pd.DataFrame({'model':\"rbf rand svm\", \n",
    "                                                    'Accuracy': rand_rbf_acc }, index=[0])])\n",
    "performance"
   ]
  },
  {
   "cell_type": "markdown",
   "id": "ce85a142-319c-45a1-acf4-5b81a14da0ce",
   "metadata": {},
   "source": [
    "### SVM rbf - GridSearchCV"
   ]
  },
  {
   "cell_type": "code",
   "execution_count": 41,
   "id": "7cb6ab26-5a7f-4599-9e05-18f958782314",
   "metadata": {},
   "outputs": [
    {
     "name": "stdout",
     "output_type": "stream",
     "text": [
      "The best accuracy score is 0.9523366336633664\n",
      "... with parameters: {'C': 100, 'gamma': 0.01, 'kernel': 'rbf'}\n"
     ]
    }
   ],
   "source": [
    "score_measure = \"accuracy\"\n",
    "\n",
    "#define the parameter grid\n",
    "param_grid = {'C': [0.1, 1, 10, 100],  \n",
    "              'gamma': [1, 0.1, 0.01, 0.001], \n",
    "              'kernel': ['rbf']}  \n",
    "#instantiate the GridSearchCV object\n",
    "grid = GridSearchCV(svm_rbf_model, param_grid, cv=5, scoring=score_measure)\n",
    "\n",
    "\n",
    "_ = grid.fit(X_train, y_train)\n",
    "\n",
    "print(f\"The best {score_measure} score is {grid.best_score_}\")\n",
    "print(f\"... with parameters: {grid.best_params_}\")\n",
    "\n",
    "bestRecallTree = grid.best_estimator_\n"
   ]
  },
  {
   "cell_type": "code",
   "execution_count": 42,
   "id": "4363badd-a9cc-4faa-a50f-6d6e8789b387",
   "metadata": {},
   "outputs": [
    {
     "name": "stdout",
     "output_type": "stream",
     "text": [
      "0.9361111111111111\n"
     ]
    }
   ],
   "source": [
    "model_preds = grid.predict(X_test)\n",
    "grid_rbf_acc= accuracy_score(y_test, model_preds)\n",
    "print(grid_rbf_acc)"
   ]
  },
  {
   "cell_type": "code",
   "execution_count": 43,
   "id": "62c836fd-62cf-46aa-a67b-947fee0573cb",
   "metadata": {},
   "outputs": [
    {
     "data": {
      "text/html": [
       "<div>\n",
       "<style scoped>\n",
       "    .dataframe tbody tr th:only-of-type {\n",
       "        vertical-align: middle;\n",
       "    }\n",
       "\n",
       "    .dataframe tbody tr th {\n",
       "        vertical-align: top;\n",
       "    }\n",
       "\n",
       "    .dataframe thead th {\n",
       "        text-align: right;\n",
       "    }\n",
       "</style>\n",
       "<table border=\"1\" class=\"dataframe\">\n",
       "  <thead>\n",
       "    <tr style=\"text-align: right;\">\n",
       "      <th></th>\n",
       "      <th>model</th>\n",
       "      <th>Accuracy</th>\n",
       "    </tr>\n",
       "  </thead>\n",
       "  <tbody>\n",
       "    <tr>\n",
       "      <th>0</th>\n",
       "      <td>Log Reg</td>\n",
       "      <td>0.926852</td>\n",
       "    </tr>\n",
       "    <tr>\n",
       "      <th>0</th>\n",
       "      <td>Rand Log Reg</td>\n",
       "      <td>0.956944</td>\n",
       "    </tr>\n",
       "    <tr>\n",
       "      <th>0</th>\n",
       "      <td>Grid Log Reg</td>\n",
       "      <td>0.954630</td>\n",
       "    </tr>\n",
       "    <tr>\n",
       "      <th>0</th>\n",
       "      <td>Linear SVM</td>\n",
       "      <td>0.937500</td>\n",
       "    </tr>\n",
       "    <tr>\n",
       "      <th>0</th>\n",
       "      <td>Linear Rand SVM</td>\n",
       "      <td>0.943519</td>\n",
       "    </tr>\n",
       "    <tr>\n",
       "      <th>0</th>\n",
       "      <td>Linear Grid SVM</td>\n",
       "      <td>0.955556</td>\n",
       "    </tr>\n",
       "    <tr>\n",
       "      <th>0</th>\n",
       "      <td>rbf SVM</td>\n",
       "      <td>0.846296</td>\n",
       "    </tr>\n",
       "    <tr>\n",
       "      <th>0</th>\n",
       "      <td>rbf rand svm</td>\n",
       "      <td>0.846296</td>\n",
       "    </tr>\n",
       "    <tr>\n",
       "      <th>0</th>\n",
       "      <td>rbf grid svm</td>\n",
       "      <td>0.936111</td>\n",
       "    </tr>\n",
       "  </tbody>\n",
       "</table>\n",
       "</div>"
      ],
      "text/plain": [
       "             model  Accuracy\n",
       "0          Log Reg  0.926852\n",
       "0     Rand Log Reg  0.956944\n",
       "0     Grid Log Reg  0.954630\n",
       "0       Linear SVM  0.937500\n",
       "0  Linear Rand SVM  0.943519\n",
       "0  Linear Grid SVM  0.955556\n",
       "0          rbf SVM  0.846296\n",
       "0     rbf rand svm  0.846296\n",
       "0     rbf grid svm  0.936111"
      ]
     },
     "execution_count": 43,
     "metadata": {},
     "output_type": "execute_result"
    }
   ],
   "source": [
    "c_matrix = confusion_matrix(y_test, grid.predict(X_test))\n",
    "performance = pd.concat([performance, pd.DataFrame({'model':\"rbf grid svm\", \n",
    "                                                    'Accuracy': grid_rbf_acc }, index=[0])])\n",
    "performance"
   ]
  },
  {
   "cell_type": "markdown",
   "id": "cfef70c9-bb73-4aeb-b66f-39550b797d1a",
   "metadata": {},
   "source": [
    "### 3.3 Fit a SVM classification model using polynomial kernal"
   ]
  },
  {
   "cell_type": "code",
   "execution_count": 44,
   "id": "f12c7cc2-5855-4170-bb6a-f3cd34453c31",
   "metadata": {},
   "outputs": [],
   "source": [
    " svm_poly_model= SVC(kernel=\"poly\", degree=3, coef0=1, C=10, probability = True)\n",
    "_ = svm_poly_model.fit(X_train, np.ravel(y_train))"
   ]
  },
  {
   "cell_type": "code",
   "execution_count": 45,
   "id": "050848ce-0901-4417-8bb1-2e58f8068d5e",
   "metadata": {},
   "outputs": [
    {
     "name": "stdout",
     "output_type": "stream",
     "text": [
      "0.9180555555555555\n"
     ]
    }
   ],
   "source": [
    "model_preds = svm_poly_model.predict(X_test)\n",
    "c_matrix = confusion_matrix(y_test, model_preds)\n",
    "poly_svm_acc= accuracy_score(y_test, model_preds)\n",
    "print(poly_svm_acc)"
   ]
  },
  {
   "cell_type": "code",
   "execution_count": 46,
   "id": "9c9d576d-3c23-4f6f-97a0-38c9bc144aba",
   "metadata": {},
   "outputs": [],
   "source": [
    "performance = pd.concat([performance, pd.DataFrame({'model':\"poly svm\", \n",
    "                                                    'Accuracy': poly_svm_acc}, index=[0])])"
   ]
  },
  {
   "cell_type": "code",
   "execution_count": 47,
   "id": "42bf27d7-343b-41ac-9bbd-76c079bcdce6",
   "metadata": {},
   "outputs": [
    {
     "data": {
      "text/html": [
       "<div>\n",
       "<style scoped>\n",
       "    .dataframe tbody tr th:only-of-type {\n",
       "        vertical-align: middle;\n",
       "    }\n",
       "\n",
       "    .dataframe tbody tr th {\n",
       "        vertical-align: top;\n",
       "    }\n",
       "\n",
       "    .dataframe thead th {\n",
       "        text-align: right;\n",
       "    }\n",
       "</style>\n",
       "<table border=\"1\" class=\"dataframe\">\n",
       "  <thead>\n",
       "    <tr style=\"text-align: right;\">\n",
       "      <th></th>\n",
       "      <th>model</th>\n",
       "      <th>Accuracy</th>\n",
       "    </tr>\n",
       "  </thead>\n",
       "  <tbody>\n",
       "    <tr>\n",
       "      <th>0</th>\n",
       "      <td>Log Reg</td>\n",
       "      <td>0.926852</td>\n",
       "    </tr>\n",
       "    <tr>\n",
       "      <th>0</th>\n",
       "      <td>Rand Log Reg</td>\n",
       "      <td>0.956944</td>\n",
       "    </tr>\n",
       "    <tr>\n",
       "      <th>0</th>\n",
       "      <td>Grid Log Reg</td>\n",
       "      <td>0.954630</td>\n",
       "    </tr>\n",
       "    <tr>\n",
       "      <th>0</th>\n",
       "      <td>Linear SVM</td>\n",
       "      <td>0.937500</td>\n",
       "    </tr>\n",
       "    <tr>\n",
       "      <th>0</th>\n",
       "      <td>Linear Rand SVM</td>\n",
       "      <td>0.943519</td>\n",
       "    </tr>\n",
       "    <tr>\n",
       "      <th>0</th>\n",
       "      <td>Linear Grid SVM</td>\n",
       "      <td>0.955556</td>\n",
       "    </tr>\n",
       "    <tr>\n",
       "      <th>0</th>\n",
       "      <td>rbf SVM</td>\n",
       "      <td>0.846296</td>\n",
       "    </tr>\n",
       "    <tr>\n",
       "      <th>0</th>\n",
       "      <td>rbf rand svm</td>\n",
       "      <td>0.846296</td>\n",
       "    </tr>\n",
       "    <tr>\n",
       "      <th>0</th>\n",
       "      <td>rbf grid svm</td>\n",
       "      <td>0.936111</td>\n",
       "    </tr>\n",
       "    <tr>\n",
       "      <th>0</th>\n",
       "      <td>poly svm</td>\n",
       "      <td>0.918056</td>\n",
       "    </tr>\n",
       "  </tbody>\n",
       "</table>\n",
       "</div>"
      ],
      "text/plain": [
       "             model  Accuracy\n",
       "0          Log Reg  0.926852\n",
       "0     Rand Log Reg  0.956944\n",
       "0     Grid Log Reg  0.954630\n",
       "0       Linear SVM  0.937500\n",
       "0  Linear Rand SVM  0.943519\n",
       "0  Linear Grid SVM  0.955556\n",
       "0          rbf SVM  0.846296\n",
       "0     rbf rand svm  0.846296\n",
       "0     rbf grid svm  0.936111\n",
       "0         poly svm  0.918056"
      ]
     },
     "execution_count": 47,
     "metadata": {},
     "output_type": "execute_result"
    }
   ],
   "source": [
    "performance"
   ]
  },
  {
   "cell_type": "markdown",
   "id": "a5bfd0c4-ea9c-448c-9eeb-6f0afecd1ac0",
   "metadata": {},
   "source": [
    "### SVM Poly - RandomSearchCV"
   ]
  },
  {
   "cell_type": "code",
   "execution_count": 48,
   "id": "e3d4c9ba-7359-4a38-b02a-edc513c587a8",
   "metadata": {},
   "outputs": [
    {
     "name": "stdout",
     "output_type": "stream",
     "text": [
      "Fitting 5 folds for each of 12 candidates, totalling 60 fits\n",
      "The best accuracy score is 0.9463762376237623\n",
      "... with parameters: {'max_iter': 1000, 'C': 100}\n"
     ]
    }
   ],
   "source": [
    "score_measure = \"accuracy\"\n",
    "# Create parameter grid\n",
    "param_grid = {'C': [0.1, 1, 10, 100],\n",
    "              'max_iter': [1000, 1500, 2000]}\n",
    "\n",
    "\n",
    "# Create the random search model\n",
    "rand_search_poly = RandomizedSearchCV(svm_poly_model, param_grid, cv=5, n_iter=50, scoring=score_measure, n_jobs=-1, verbose=1)\n",
    "\n",
    "\n",
    "_ = rand_search_poly.fit(X_train, y_train)\n",
    "\n",
    "print(f\"The best {score_measure} score is {rand_search_poly.best_score_}\")\n",
    "print(f\"... with parameters: {rand_search_poly.best_params_}\")\n",
    "\n",
    "bestRecallTree = rand_search_poly.best_estimator_"
   ]
  },
  {
   "cell_type": "code",
   "execution_count": 49,
   "id": "55e8bbdc-8e79-40bb-a235-fb9936d89aa5",
   "metadata": {},
   "outputs": [
    {
     "name": "stdout",
     "output_type": "stream",
     "text": [
      "0.9101851851851852\n"
     ]
    }
   ],
   "source": [
    "model_preds = rand_search_poly.predict(X_test)\n",
    "rand_poly_acc= accuracy_score(y_test, model_preds)\n",
    "print(rand_poly_acc)"
   ]
  },
  {
   "cell_type": "code",
   "execution_count": 50,
   "id": "f9f693dd-1c53-4f2a-bf50-5e976f18464d",
   "metadata": {},
   "outputs": [
    {
     "data": {
      "text/html": [
       "<div>\n",
       "<style scoped>\n",
       "    .dataframe tbody tr th:only-of-type {\n",
       "        vertical-align: middle;\n",
       "    }\n",
       "\n",
       "    .dataframe tbody tr th {\n",
       "        vertical-align: top;\n",
       "    }\n",
       "\n",
       "    .dataframe thead th {\n",
       "        text-align: right;\n",
       "    }\n",
       "</style>\n",
       "<table border=\"1\" class=\"dataframe\">\n",
       "  <thead>\n",
       "    <tr style=\"text-align: right;\">\n",
       "      <th></th>\n",
       "      <th>model</th>\n",
       "      <th>Accuracy</th>\n",
       "    </tr>\n",
       "  </thead>\n",
       "  <tbody>\n",
       "    <tr>\n",
       "      <th>0</th>\n",
       "      <td>Log Reg</td>\n",
       "      <td>0.926852</td>\n",
       "    </tr>\n",
       "    <tr>\n",
       "      <th>0</th>\n",
       "      <td>Rand Log Reg</td>\n",
       "      <td>0.956944</td>\n",
       "    </tr>\n",
       "    <tr>\n",
       "      <th>0</th>\n",
       "      <td>Grid Log Reg</td>\n",
       "      <td>0.954630</td>\n",
       "    </tr>\n",
       "    <tr>\n",
       "      <th>0</th>\n",
       "      <td>Linear SVM</td>\n",
       "      <td>0.937500</td>\n",
       "    </tr>\n",
       "    <tr>\n",
       "      <th>0</th>\n",
       "      <td>Linear Rand SVM</td>\n",
       "      <td>0.943519</td>\n",
       "    </tr>\n",
       "    <tr>\n",
       "      <th>0</th>\n",
       "      <td>Linear Grid SVM</td>\n",
       "      <td>0.955556</td>\n",
       "    </tr>\n",
       "    <tr>\n",
       "      <th>0</th>\n",
       "      <td>rbf SVM</td>\n",
       "      <td>0.846296</td>\n",
       "    </tr>\n",
       "    <tr>\n",
       "      <th>0</th>\n",
       "      <td>rbf rand svm</td>\n",
       "      <td>0.846296</td>\n",
       "    </tr>\n",
       "    <tr>\n",
       "      <th>0</th>\n",
       "      <td>rbf grid svm</td>\n",
       "      <td>0.936111</td>\n",
       "    </tr>\n",
       "    <tr>\n",
       "      <th>0</th>\n",
       "      <td>poly svm</td>\n",
       "      <td>0.918056</td>\n",
       "    </tr>\n",
       "    <tr>\n",
       "      <th>0</th>\n",
       "      <td>poly rand svm</td>\n",
       "      <td>0.910185</td>\n",
       "    </tr>\n",
       "  </tbody>\n",
       "</table>\n",
       "</div>"
      ],
      "text/plain": [
       "             model  Accuracy\n",
       "0          Log Reg  0.926852\n",
       "0     Rand Log Reg  0.956944\n",
       "0     Grid Log Reg  0.954630\n",
       "0       Linear SVM  0.937500\n",
       "0  Linear Rand SVM  0.943519\n",
       "0  Linear Grid SVM  0.955556\n",
       "0          rbf SVM  0.846296\n",
       "0     rbf rand svm  0.846296\n",
       "0     rbf grid svm  0.936111\n",
       "0         poly svm  0.918056\n",
       "0    poly rand svm  0.910185"
      ]
     },
     "execution_count": 50,
     "metadata": {},
     "output_type": "execute_result"
    }
   ],
   "source": [
    "c_matrix = confusion_matrix(y_test, rand_search_poly.predict(X_test))\n",
    "performance = pd.concat([performance, pd.DataFrame({'model':\"poly rand svm\", \n",
    "                                                    'Accuracy': rand_poly_acc }, index=[0])])\n",
    "performance"
   ]
  },
  {
   "cell_type": "markdown",
   "id": "2242cedf-1ff7-4180-909a-0fd6d1350857",
   "metadata": {},
   "source": [
    "### SVM Poly - GridSearchCV"
   ]
  },
  {
   "cell_type": "code",
   "execution_count": 51,
   "id": "3866f23e-9cd4-4d01-901f-861d854ae395",
   "metadata": {},
   "outputs": [
    {
     "name": "stdout",
     "output_type": "stream",
     "text": [
      "The best accuracy score is 0.8828118811881188\n",
      "... with parameters: {'C': 1, 'gamma': 1, 'kernel': 'poly'}\n"
     ]
    }
   ],
   "source": [
    "score_measure = \"accuracy\"\n",
    "#create a SVM classifier\n",
    "clf = SVC(kernel='poly')\n",
    "#define the parameter grid\n",
    "param_grid = {'C': [0.1, 1, 10, 100],  \n",
    "              'gamma': [1, 0.1, 0.01, 0.001], \n",
    "              'kernel': ['poly']}  \n",
    "#instantiate the GridSearchCV object\n",
    "grid = GridSearchCV(clf, param_grid, cv=5,scoring=score_measure)\n",
    "\n",
    "\n",
    "_ = grid.fit(X_train, y_train)\n",
    "\n",
    "print(f\"The best {score_measure} score is {grid.best_score_}\")\n",
    "print(f\"... with parameters: {grid.best_params_}\")\n",
    "\n",
    "bestRecallTree = grid.best_estimator_\n"
   ]
  },
  {
   "cell_type": "code",
   "execution_count": 52,
   "id": "a2e227d2-6c03-428e-825f-1f25f4e22101",
   "metadata": {},
   "outputs": [
    {
     "name": "stdout",
     "output_type": "stream",
     "text": [
      "0.8462962962962963\n"
     ]
    }
   ],
   "source": [
    "model_preds = grid.predict(X_test)\n",
    "grid_poly_acc= accuracy_score(y_test, model_preds)\n",
    "print(grid_poly_acc)"
   ]
  },
  {
   "cell_type": "code",
   "execution_count": 53,
   "id": "1747e949-2351-4eea-9c2a-c74ed78c0cc3",
   "metadata": {},
   "outputs": [
    {
     "data": {
      "text/html": [
       "<div>\n",
       "<style scoped>\n",
       "    .dataframe tbody tr th:only-of-type {\n",
       "        vertical-align: middle;\n",
       "    }\n",
       "\n",
       "    .dataframe tbody tr th {\n",
       "        vertical-align: top;\n",
       "    }\n",
       "\n",
       "    .dataframe thead th {\n",
       "        text-align: right;\n",
       "    }\n",
       "</style>\n",
       "<table border=\"1\" class=\"dataframe\">\n",
       "  <thead>\n",
       "    <tr style=\"text-align: right;\">\n",
       "      <th></th>\n",
       "      <th>model</th>\n",
       "      <th>Accuracy</th>\n",
       "    </tr>\n",
       "  </thead>\n",
       "  <tbody>\n",
       "    <tr>\n",
       "      <th>0</th>\n",
       "      <td>Log Reg</td>\n",
       "      <td>0.926852</td>\n",
       "    </tr>\n",
       "    <tr>\n",
       "      <th>0</th>\n",
       "      <td>Rand Log Reg</td>\n",
       "      <td>0.956944</td>\n",
       "    </tr>\n",
       "    <tr>\n",
       "      <th>0</th>\n",
       "      <td>Grid Log Reg</td>\n",
       "      <td>0.954630</td>\n",
       "    </tr>\n",
       "    <tr>\n",
       "      <th>0</th>\n",
       "      <td>Linear SVM</td>\n",
       "      <td>0.937500</td>\n",
       "    </tr>\n",
       "    <tr>\n",
       "      <th>0</th>\n",
       "      <td>Linear Rand SVM</td>\n",
       "      <td>0.943519</td>\n",
       "    </tr>\n",
       "    <tr>\n",
       "      <th>0</th>\n",
       "      <td>Linear Grid SVM</td>\n",
       "      <td>0.955556</td>\n",
       "    </tr>\n",
       "    <tr>\n",
       "      <th>0</th>\n",
       "      <td>rbf SVM</td>\n",
       "      <td>0.846296</td>\n",
       "    </tr>\n",
       "    <tr>\n",
       "      <th>0</th>\n",
       "      <td>rbf rand svm</td>\n",
       "      <td>0.846296</td>\n",
       "    </tr>\n",
       "    <tr>\n",
       "      <th>0</th>\n",
       "      <td>rbf grid svm</td>\n",
       "      <td>0.936111</td>\n",
       "    </tr>\n",
       "    <tr>\n",
       "      <th>0</th>\n",
       "      <td>poly svm</td>\n",
       "      <td>0.918056</td>\n",
       "    </tr>\n",
       "    <tr>\n",
       "      <th>0</th>\n",
       "      <td>poly rand svm</td>\n",
       "      <td>0.910185</td>\n",
       "    </tr>\n",
       "    <tr>\n",
       "      <th>0</th>\n",
       "      <td>poly grid svm</td>\n",
       "      <td>0.846296</td>\n",
       "    </tr>\n",
       "  </tbody>\n",
       "</table>\n",
       "</div>"
      ],
      "text/plain": [
       "             model  Accuracy\n",
       "0          Log Reg  0.926852\n",
       "0     Rand Log Reg  0.956944\n",
       "0     Grid Log Reg  0.954630\n",
       "0       Linear SVM  0.937500\n",
       "0  Linear Rand SVM  0.943519\n",
       "0  Linear Grid SVM  0.955556\n",
       "0          rbf SVM  0.846296\n",
       "0     rbf rand svm  0.846296\n",
       "0     rbf grid svm  0.936111\n",
       "0         poly svm  0.918056\n",
       "0    poly rand svm  0.910185\n",
       "0    poly grid svm  0.846296"
      ]
     },
     "execution_count": 53,
     "metadata": {},
     "output_type": "execute_result"
    }
   ],
   "source": [
    "c_matrix = confusion_matrix(y_test, grid.predict(X_test))\n",
    "performance = pd.concat([performance, pd.DataFrame({'model':\"poly grid svm\", \n",
    "                                                    'Accuracy': grid_poly_acc }, index=[0])])\n",
    "performance"
   ]
  },
  {
   "cell_type": "markdown",
   "id": "da5b7e0a-e5fb-4aeb-b3a3-e0087c04f1d6",
   "metadata": {},
   "source": [
    "### Decision Tree"
   ]
  },
  {
   "cell_type": "code",
   "execution_count": 54,
   "id": "a1d21a7b-4a9a-42f8-869d-ffe29815f1dc",
   "metadata": {},
   "outputs": [],
   "source": [
    "dtree = DecisionTreeClassifier()\n",
    "_ = dtree.fit(X_train, np.ravel(y_train))"
   ]
  },
  {
   "cell_type": "code",
   "execution_count": 55,
   "id": "3d286e30-71c9-48b5-9ae4-d1089bfa4401",
   "metadata": {},
   "outputs": [
    {
     "name": "stdout",
     "output_type": "stream",
     "text": [
      "0.987037037037037\n"
     ]
    }
   ],
   "source": [
    "model_preds = dtree.predict(X_test)\n",
    "c_matrix = confusion_matrix(y_test, model_preds)\n",
    "dtree_acc= accuracy_score(y_test, model_preds)\n",
    "print(dtree_acc)"
   ]
  },
  {
   "cell_type": "code",
   "execution_count": 56,
   "id": "fd236a9c-0836-4b8d-b10e-f817e8ad8566",
   "metadata": {},
   "outputs": [
    {
     "data": {
      "text/html": [
       "<div>\n",
       "<style scoped>\n",
       "    .dataframe tbody tr th:only-of-type {\n",
       "        vertical-align: middle;\n",
       "    }\n",
       "\n",
       "    .dataframe tbody tr th {\n",
       "        vertical-align: top;\n",
       "    }\n",
       "\n",
       "    .dataframe thead th {\n",
       "        text-align: right;\n",
       "    }\n",
       "</style>\n",
       "<table border=\"1\" class=\"dataframe\">\n",
       "  <thead>\n",
       "    <tr style=\"text-align: right;\">\n",
       "      <th></th>\n",
       "      <th>model</th>\n",
       "      <th>Accuracy</th>\n",
       "    </tr>\n",
       "  </thead>\n",
       "  <tbody>\n",
       "    <tr>\n",
       "      <th>0</th>\n",
       "      <td>Log Reg</td>\n",
       "      <td>0.926852</td>\n",
       "    </tr>\n",
       "    <tr>\n",
       "      <th>0</th>\n",
       "      <td>Rand Log Reg</td>\n",
       "      <td>0.956944</td>\n",
       "    </tr>\n",
       "    <tr>\n",
       "      <th>0</th>\n",
       "      <td>Grid Log Reg</td>\n",
       "      <td>0.954630</td>\n",
       "    </tr>\n",
       "    <tr>\n",
       "      <th>0</th>\n",
       "      <td>Linear SVM</td>\n",
       "      <td>0.937500</td>\n",
       "    </tr>\n",
       "    <tr>\n",
       "      <th>0</th>\n",
       "      <td>Linear Rand SVM</td>\n",
       "      <td>0.943519</td>\n",
       "    </tr>\n",
       "    <tr>\n",
       "      <th>0</th>\n",
       "      <td>Linear Grid SVM</td>\n",
       "      <td>0.955556</td>\n",
       "    </tr>\n",
       "    <tr>\n",
       "      <th>0</th>\n",
       "      <td>rbf SVM</td>\n",
       "      <td>0.846296</td>\n",
       "    </tr>\n",
       "    <tr>\n",
       "      <th>0</th>\n",
       "      <td>rbf rand svm</td>\n",
       "      <td>0.846296</td>\n",
       "    </tr>\n",
       "    <tr>\n",
       "      <th>0</th>\n",
       "      <td>rbf grid svm</td>\n",
       "      <td>0.936111</td>\n",
       "    </tr>\n",
       "    <tr>\n",
       "      <th>0</th>\n",
       "      <td>poly svm</td>\n",
       "      <td>0.918056</td>\n",
       "    </tr>\n",
       "    <tr>\n",
       "      <th>0</th>\n",
       "      <td>poly rand svm</td>\n",
       "      <td>0.910185</td>\n",
       "    </tr>\n",
       "    <tr>\n",
       "      <th>0</th>\n",
       "      <td>poly grid svm</td>\n",
       "      <td>0.846296</td>\n",
       "    </tr>\n",
       "    <tr>\n",
       "      <th>0</th>\n",
       "      <td>D Tree</td>\n",
       "      <td>0.987037</td>\n",
       "    </tr>\n",
       "  </tbody>\n",
       "</table>\n",
       "</div>"
      ],
      "text/plain": [
       "             model  Accuracy\n",
       "0          Log Reg  0.926852\n",
       "0     Rand Log Reg  0.956944\n",
       "0     Grid Log Reg  0.954630\n",
       "0       Linear SVM  0.937500\n",
       "0  Linear Rand SVM  0.943519\n",
       "0  Linear Grid SVM  0.955556\n",
       "0          rbf SVM  0.846296\n",
       "0     rbf rand svm  0.846296\n",
       "0     rbf grid svm  0.936111\n",
       "0         poly svm  0.918056\n",
       "0    poly rand svm  0.910185\n",
       "0    poly grid svm  0.846296\n",
       "0           D Tree  0.987037"
      ]
     },
     "execution_count": 56,
     "metadata": {},
     "output_type": "execute_result"
    }
   ],
   "source": [
    "performance = pd.concat([performance, pd.DataFrame({'model':\"D Tree\", \n",
    "                                                    'Accuracy': dtree_acc }, index=[0])])\n",
    "performance"
   ]
  },
  {
   "cell_type": "markdown",
   "id": "0825d20d-804c-4fe4-81b3-c91a03493271",
   "metadata": {},
   "source": [
    "### DTree - RandomSearchCV"
   ]
  },
  {
   "cell_type": "code",
   "execution_count": 57,
   "id": "b9e69799-7869-4bb5-84c6-248d0c9c5947",
   "metadata": {},
   "outputs": [
    {
     "name": "stdout",
     "output_type": "stream",
     "text": [
      "Fitting 5 folds for each of 500 candidates, totalling 2500 fits\n",
      "The best accuracy score is 0.996019801980198\n",
      "... with parameters: {'min_samples_split': 38, 'min_samples_leaf': 1, 'min_impurity_decrease': 0.004600000000000001, 'max_leaf_nodes': 129, 'max_depth': 41, 'criterion': 'gini'}\n"
     ]
    }
   ],
   "source": [
    "score_measure = \"accuracy\"\n",
    "kfolds = 5\n",
    "\n",
    "param_grid = {\n",
    "    'min_samples_split': np.arange(1,50),  \n",
    "    'min_samples_leaf': np.arange(1,50),\n",
    "    'min_impurity_decrease': np.arange(0.0001, 0.01, 0.0005),\n",
    "    'max_leaf_nodes': np.arange(5, 200), \n",
    "    'max_depth': np.arange(1,50), \n",
    "    'criterion': ['entropy', 'gini'],\n",
    "}\n",
    "\n",
    "dtree = DecisionTreeClassifier()\n",
    "rand_search = RandomizedSearchCV(estimator = dtree, param_distributions=param_grid, cv=kfolds, n_iter=500,\n",
    "                           scoring=score_measure, verbose=1, n_jobs=-1,  # n_jobs=-1 will utilize all available CPUs \n",
    "                           return_train_score=True)\n",
    "\n",
    "_ = rand_search.fit(X_train, y_train)\n",
    "\n",
    "print(f\"The best {score_measure} score is {rand_search.best_score_}\")\n",
    "print(f\"... with parameters: {rand_search.best_params_}\")\n",
    "\n",
    "bestRecallTree = rand_search.best_estimator_"
   ]
  },
  {
   "cell_type": "code",
   "execution_count": 58,
   "id": "e803fbda-b00f-4ea1-b12e-69458072fd54",
   "metadata": {},
   "outputs": [
    {
     "name": "stdout",
     "output_type": "stream",
     "text": [
      "0.9828703703703704\n"
     ]
    }
   ],
   "source": [
    "model_preds = rand_search.predict(X_test)\n",
    "dtree_rand_acc= accuracy_score(y_test, model_preds)\n",
    "print(dtree_rand_acc)"
   ]
  },
  {
   "cell_type": "code",
   "execution_count": 59,
   "id": "e4e4d0e2-f4a1-43bf-878b-9686c2b969f8",
   "metadata": {},
   "outputs": [
    {
     "data": {
      "text/html": [
       "<div>\n",
       "<style scoped>\n",
       "    .dataframe tbody tr th:only-of-type {\n",
       "        vertical-align: middle;\n",
       "    }\n",
       "\n",
       "    .dataframe tbody tr th {\n",
       "        vertical-align: top;\n",
       "    }\n",
       "\n",
       "    .dataframe thead th {\n",
       "        text-align: right;\n",
       "    }\n",
       "</style>\n",
       "<table border=\"1\" class=\"dataframe\">\n",
       "  <thead>\n",
       "    <tr style=\"text-align: right;\">\n",
       "      <th></th>\n",
       "      <th>model</th>\n",
       "      <th>Accuracy</th>\n",
       "    </tr>\n",
       "  </thead>\n",
       "  <tbody>\n",
       "    <tr>\n",
       "      <th>0</th>\n",
       "      <td>Log Reg</td>\n",
       "      <td>0.926852</td>\n",
       "    </tr>\n",
       "    <tr>\n",
       "      <th>0</th>\n",
       "      <td>Rand Log Reg</td>\n",
       "      <td>0.956944</td>\n",
       "    </tr>\n",
       "    <tr>\n",
       "      <th>0</th>\n",
       "      <td>Grid Log Reg</td>\n",
       "      <td>0.954630</td>\n",
       "    </tr>\n",
       "    <tr>\n",
       "      <th>0</th>\n",
       "      <td>Linear SVM</td>\n",
       "      <td>0.937500</td>\n",
       "    </tr>\n",
       "    <tr>\n",
       "      <th>0</th>\n",
       "      <td>Linear Rand SVM</td>\n",
       "      <td>0.943519</td>\n",
       "    </tr>\n",
       "    <tr>\n",
       "      <th>0</th>\n",
       "      <td>Linear Grid SVM</td>\n",
       "      <td>0.955556</td>\n",
       "    </tr>\n",
       "    <tr>\n",
       "      <th>0</th>\n",
       "      <td>rbf SVM</td>\n",
       "      <td>0.846296</td>\n",
       "    </tr>\n",
       "    <tr>\n",
       "      <th>0</th>\n",
       "      <td>rbf rand svm</td>\n",
       "      <td>0.846296</td>\n",
       "    </tr>\n",
       "    <tr>\n",
       "      <th>0</th>\n",
       "      <td>rbf grid svm</td>\n",
       "      <td>0.936111</td>\n",
       "    </tr>\n",
       "    <tr>\n",
       "      <th>0</th>\n",
       "      <td>poly svm</td>\n",
       "      <td>0.918056</td>\n",
       "    </tr>\n",
       "    <tr>\n",
       "      <th>0</th>\n",
       "      <td>poly rand svm</td>\n",
       "      <td>0.910185</td>\n",
       "    </tr>\n",
       "    <tr>\n",
       "      <th>0</th>\n",
       "      <td>poly grid svm</td>\n",
       "      <td>0.846296</td>\n",
       "    </tr>\n",
       "    <tr>\n",
       "      <th>0</th>\n",
       "      <td>D Tree</td>\n",
       "      <td>0.987037</td>\n",
       "    </tr>\n",
       "    <tr>\n",
       "      <th>0</th>\n",
       "      <td>D Tree Rand</td>\n",
       "      <td>0.982870</td>\n",
       "    </tr>\n",
       "  </tbody>\n",
       "</table>\n",
       "</div>"
      ],
      "text/plain": [
       "             model  Accuracy\n",
       "0          Log Reg  0.926852\n",
       "0     Rand Log Reg  0.956944\n",
       "0     Grid Log Reg  0.954630\n",
       "0       Linear SVM  0.937500\n",
       "0  Linear Rand SVM  0.943519\n",
       "0  Linear Grid SVM  0.955556\n",
       "0          rbf SVM  0.846296\n",
       "0     rbf rand svm  0.846296\n",
       "0     rbf grid svm  0.936111\n",
       "0         poly svm  0.918056\n",
       "0    poly rand svm  0.910185\n",
       "0    poly grid svm  0.846296\n",
       "0           D Tree  0.987037\n",
       "0      D Tree Rand  0.982870"
      ]
     },
     "execution_count": 59,
     "metadata": {},
     "output_type": "execute_result"
    }
   ],
   "source": [
    "c_matrix = confusion_matrix(y_test, rand_search.predict(X_test))\n",
    "performance = pd.concat([performance, pd.DataFrame({'model':\"D Tree Rand\", \n",
    "                                                    'Accuracy': dtree_rand_acc}, index=[0])])\n",
    "performance"
   ]
  },
  {
   "cell_type": "markdown",
   "id": "fa183730-bb24-4d8d-aeb6-37f8782ea6bf",
   "metadata": {},
   "source": [
    "### DTree - GridSearchCV"
   ]
  },
  {
   "cell_type": "code",
   "execution_count": 60,
   "id": "c8988994-acd7-4584-87b4-b61b248474eb",
   "metadata": {},
   "outputs": [
    {
     "name": "stdout",
     "output_type": "stream",
     "text": [
      "Fitting 5 folds for each of 9072 candidates, totalling 45360 fits\n",
      "The best accuracy score is 0.9840990099009901\n",
      "... with parameters: {'criterion': 'entropy', 'max_depth': 15, 'max_leaf_nodes': 162, 'min_impurity_decrease': 0.0048, 'min_samples_leaf': 8, 'min_samples_split': 30}\n"
     ]
    }
   ],
   "source": [
    "score_measure = \"accuracy\"\n",
    "kfolds = 5\n",
    "\n",
    "param_grid = {\n",
    "    'min_samples_split': np.arange(30,36),  \n",
    "    'min_samples_leaf': np.arange(6,12),\n",
    "    'min_impurity_decrease': np.arange(0.0048, 0.0054, 0.0001),\n",
    "    'max_leaf_nodes': np.arange(162,168), \n",
    "    'max_depth': np.arange(15,21), \n",
    "    'criterion': ['entropy'],\n",
    "}\n",
    "\n",
    "dtree = DecisionTreeClassifier()\n",
    "grid_search = GridSearchCV(estimator = dtree, param_grid=param_grid, cv=kfolds, \n",
    "                           scoring=score_measure, verbose=1, n_jobs=-1,  # n_jobs=-1 will utilize all available CPUs \n",
    "                           return_train_score=True)\n",
    "\n",
    "_ = grid_search.fit(X_train, y_train)\n",
    "\n",
    "print(f\"The best {score_measure} score is {grid_search.best_score_}\")\n",
    "print(f\"... with parameters: {grid_search.best_params_}\")\n",
    "\n",
    "bestRecallTree = grid_search.best_estimator_"
   ]
  },
  {
   "cell_type": "code",
   "execution_count": 61,
   "id": "3cef5136-757b-4260-a02e-271328f6ee9f",
   "metadata": {},
   "outputs": [
    {
     "name": "stdout",
     "output_type": "stream",
     "text": [
      "0.950925925925926\n"
     ]
    }
   ],
   "source": [
    "model_preds = grid_search.predict(X_test)\n",
    "dtree_grid_acc= accuracy_score(y_test, model_preds)\n",
    "print(dtree_grid_acc)"
   ]
  },
  {
   "cell_type": "code",
   "execution_count": 62,
   "id": "10b7e71d-9e6f-45a4-9df2-7905eead4b41",
   "metadata": {},
   "outputs": [
    {
     "data": {
      "text/html": [
       "<div>\n",
       "<style scoped>\n",
       "    .dataframe tbody tr th:only-of-type {\n",
       "        vertical-align: middle;\n",
       "    }\n",
       "\n",
       "    .dataframe tbody tr th {\n",
       "        vertical-align: top;\n",
       "    }\n",
       "\n",
       "    .dataframe thead th {\n",
       "        text-align: right;\n",
       "    }\n",
       "</style>\n",
       "<table border=\"1\" class=\"dataframe\">\n",
       "  <thead>\n",
       "    <tr style=\"text-align: right;\">\n",
       "      <th></th>\n",
       "      <th>model</th>\n",
       "      <th>Accuracy</th>\n",
       "    </tr>\n",
       "  </thead>\n",
       "  <tbody>\n",
       "    <tr>\n",
       "      <th>0</th>\n",
       "      <td>Log Reg</td>\n",
       "      <td>0.926852</td>\n",
       "    </tr>\n",
       "    <tr>\n",
       "      <th>0</th>\n",
       "      <td>Rand Log Reg</td>\n",
       "      <td>0.956944</td>\n",
       "    </tr>\n",
       "    <tr>\n",
       "      <th>0</th>\n",
       "      <td>Grid Log Reg</td>\n",
       "      <td>0.954630</td>\n",
       "    </tr>\n",
       "    <tr>\n",
       "      <th>0</th>\n",
       "      <td>Linear SVM</td>\n",
       "      <td>0.937500</td>\n",
       "    </tr>\n",
       "    <tr>\n",
       "      <th>0</th>\n",
       "      <td>Linear Rand SVM</td>\n",
       "      <td>0.943519</td>\n",
       "    </tr>\n",
       "    <tr>\n",
       "      <th>0</th>\n",
       "      <td>Linear Grid SVM</td>\n",
       "      <td>0.955556</td>\n",
       "    </tr>\n",
       "    <tr>\n",
       "      <th>0</th>\n",
       "      <td>rbf SVM</td>\n",
       "      <td>0.846296</td>\n",
       "    </tr>\n",
       "    <tr>\n",
       "      <th>0</th>\n",
       "      <td>rbf rand svm</td>\n",
       "      <td>0.846296</td>\n",
       "    </tr>\n",
       "    <tr>\n",
       "      <th>0</th>\n",
       "      <td>rbf grid svm</td>\n",
       "      <td>0.936111</td>\n",
       "    </tr>\n",
       "    <tr>\n",
       "      <th>0</th>\n",
       "      <td>poly svm</td>\n",
       "      <td>0.918056</td>\n",
       "    </tr>\n",
       "    <tr>\n",
       "      <th>0</th>\n",
       "      <td>poly rand svm</td>\n",
       "      <td>0.910185</td>\n",
       "    </tr>\n",
       "    <tr>\n",
       "      <th>0</th>\n",
       "      <td>poly grid svm</td>\n",
       "      <td>0.846296</td>\n",
       "    </tr>\n",
       "    <tr>\n",
       "      <th>0</th>\n",
       "      <td>D Tree</td>\n",
       "      <td>0.987037</td>\n",
       "    </tr>\n",
       "    <tr>\n",
       "      <th>0</th>\n",
       "      <td>D Tree Rand</td>\n",
       "      <td>0.982870</td>\n",
       "    </tr>\n",
       "    <tr>\n",
       "      <th>0</th>\n",
       "      <td>D Tree Grid</td>\n",
       "      <td>0.950926</td>\n",
       "    </tr>\n",
       "  </tbody>\n",
       "</table>\n",
       "</div>"
      ],
      "text/plain": [
       "             model  Accuracy\n",
       "0          Log Reg  0.926852\n",
       "0     Rand Log Reg  0.956944\n",
       "0     Grid Log Reg  0.954630\n",
       "0       Linear SVM  0.937500\n",
       "0  Linear Rand SVM  0.943519\n",
       "0  Linear Grid SVM  0.955556\n",
       "0          rbf SVM  0.846296\n",
       "0     rbf rand svm  0.846296\n",
       "0     rbf grid svm  0.936111\n",
       "0         poly svm  0.918056\n",
       "0    poly rand svm  0.910185\n",
       "0    poly grid svm  0.846296\n",
       "0           D Tree  0.987037\n",
       "0      D Tree Rand  0.982870\n",
       "0      D Tree Grid  0.950926"
      ]
     },
     "execution_count": 62,
     "metadata": {},
     "output_type": "execute_result"
    }
   ],
   "source": [
    "c_matrix = confusion_matrix(y_test, grid_search.predict(X_test))\n",
    "performance = pd.concat([performance, pd.DataFrame({'model':\"D Tree Grid\", \n",
    "                                                    'Accuracy': dtree_grid_acc}, index=[0])])\n",
    "performance"
   ]
  },
  {
   "cell_type": "markdown",
   "id": "5c175598-1ccc-4580-970c-79e12d2815e1",
   "metadata": {},
   "source": [
    "## Neural Network"
   ]
  },
  {
   "cell_type": "code",
   "execution_count": 64,
   "id": "5084f449-f8fd-4ce0-a971-773e1b24cedb",
   "metadata": {},
   "outputs": [
    {
     "name": "stdout",
     "output_type": "stream",
     "text": [
      "Wall time: 915 ms\n"
     ]
    }
   ],
   "source": [
    "%%time\n",
    "\n",
    "ann = MLPClassifier(hidden_layer_sizes=(60,50,40), solver='adam', max_iter=200)\n",
    "_ = ann.fit(X_train, y_train)"
   ]
  },
  {
   "cell_type": "code",
   "execution_count": 65,
   "id": "3b69e874-9be1-475e-a7db-2a5fdd0c12ea",
   "metadata": {},
   "outputs": [
    {
     "name": "stdout",
     "output_type": "stream",
     "text": [
      "Wall time: 16.3 ms\n"
     ]
    }
   ],
   "source": [
    "%%time\n",
    "y_pred = ann.predict(X_test)"
   ]
  },
  {
   "cell_type": "code",
   "execution_count": 66,
   "id": "de31938f-02a6-4fbb-8f63-70ae23152b80",
   "metadata": {},
   "outputs": [
    {
     "name": "stdout",
     "output_type": "stream",
     "text": [
      "0.8763888888888889\n"
     ]
    }
   ],
   "source": [
    "nn_acc= accuracy_score(y_test, y_pred)\n",
    "print(nn_acc)"
   ]
  },
  {
   "cell_type": "code",
   "execution_count": 67,
   "id": "e03b851d-c358-4171-a7b2-4822673c12dc",
   "metadata": {},
   "outputs": [
    {
     "name": "stdout",
     "output_type": "stream",
     "text": [
      "              precision    recall  f1-score   support\n",
      "\n",
      "           1       0.52      0.83      0.64        41\n",
      "           2       0.32      0.97      0.48       115\n",
      "           3       1.00      0.87      0.93      2004\n",
      "\n",
      "    accuracy                           0.88      2160\n",
      "   macro avg       0.61      0.89      0.69      2160\n",
      "weighted avg       0.95      0.88      0.90      2160\n",
      "\n"
     ]
    }
   ],
   "source": [
    "print(classification_report(y_test, y_pred))"
   ]
  },
  {
   "cell_type": "code",
   "execution_count": 68,
   "id": "c6320501-96dd-46ef-9d16-7434b19d1664",
   "metadata": {},
   "outputs": [
    {
     "data": {
      "text/html": [
       "<div>\n",
       "<style scoped>\n",
       "    .dataframe tbody tr th:only-of-type {\n",
       "        vertical-align: middle;\n",
       "    }\n",
       "\n",
       "    .dataframe tbody tr th {\n",
       "        vertical-align: top;\n",
       "    }\n",
       "\n",
       "    .dataframe thead th {\n",
       "        text-align: right;\n",
       "    }\n",
       "</style>\n",
       "<table border=\"1\" class=\"dataframe\">\n",
       "  <thead>\n",
       "    <tr style=\"text-align: right;\">\n",
       "      <th></th>\n",
       "      <th>model</th>\n",
       "      <th>Accuracy</th>\n",
       "    </tr>\n",
       "  </thead>\n",
       "  <tbody>\n",
       "    <tr>\n",
       "      <th>0</th>\n",
       "      <td>Log Reg</td>\n",
       "      <td>0.926852</td>\n",
       "    </tr>\n",
       "    <tr>\n",
       "      <th>0</th>\n",
       "      <td>Rand Log Reg</td>\n",
       "      <td>0.956944</td>\n",
       "    </tr>\n",
       "    <tr>\n",
       "      <th>0</th>\n",
       "      <td>Grid Log Reg</td>\n",
       "      <td>0.954630</td>\n",
       "    </tr>\n",
       "    <tr>\n",
       "      <th>0</th>\n",
       "      <td>Linear SVM</td>\n",
       "      <td>0.937500</td>\n",
       "    </tr>\n",
       "    <tr>\n",
       "      <th>0</th>\n",
       "      <td>Linear Rand SVM</td>\n",
       "      <td>0.943519</td>\n",
       "    </tr>\n",
       "    <tr>\n",
       "      <th>0</th>\n",
       "      <td>Linear Grid SVM</td>\n",
       "      <td>0.955556</td>\n",
       "    </tr>\n",
       "    <tr>\n",
       "      <th>0</th>\n",
       "      <td>rbf SVM</td>\n",
       "      <td>0.846296</td>\n",
       "    </tr>\n",
       "    <tr>\n",
       "      <th>0</th>\n",
       "      <td>rbf rand svm</td>\n",
       "      <td>0.846296</td>\n",
       "    </tr>\n",
       "    <tr>\n",
       "      <th>0</th>\n",
       "      <td>rbf grid svm</td>\n",
       "      <td>0.936111</td>\n",
       "    </tr>\n",
       "    <tr>\n",
       "      <th>0</th>\n",
       "      <td>poly svm</td>\n",
       "      <td>0.918056</td>\n",
       "    </tr>\n",
       "    <tr>\n",
       "      <th>0</th>\n",
       "      <td>poly rand svm</td>\n",
       "      <td>0.910185</td>\n",
       "    </tr>\n",
       "    <tr>\n",
       "      <th>0</th>\n",
       "      <td>poly grid svm</td>\n",
       "      <td>0.846296</td>\n",
       "    </tr>\n",
       "    <tr>\n",
       "      <th>0</th>\n",
       "      <td>D Tree</td>\n",
       "      <td>0.987037</td>\n",
       "    </tr>\n",
       "    <tr>\n",
       "      <th>0</th>\n",
       "      <td>D Tree Rand</td>\n",
       "      <td>0.982870</td>\n",
       "    </tr>\n",
       "    <tr>\n",
       "      <th>0</th>\n",
       "      <td>D Tree Grid</td>\n",
       "      <td>0.950926</td>\n",
       "    </tr>\n",
       "    <tr>\n",
       "      <th>0</th>\n",
       "      <td>Neural Net</td>\n",
       "      <td>0.876389</td>\n",
       "    </tr>\n",
       "  </tbody>\n",
       "</table>\n",
       "</div>"
      ],
      "text/plain": [
       "             model  Accuracy\n",
       "0          Log Reg  0.926852\n",
       "0     Rand Log Reg  0.956944\n",
       "0     Grid Log Reg  0.954630\n",
       "0       Linear SVM  0.937500\n",
       "0  Linear Rand SVM  0.943519\n",
       "0  Linear Grid SVM  0.955556\n",
       "0          rbf SVM  0.846296\n",
       "0     rbf rand svm  0.846296\n",
       "0     rbf grid svm  0.936111\n",
       "0         poly svm  0.918056\n",
       "0    poly rand svm  0.910185\n",
       "0    poly grid svm  0.846296\n",
       "0           D Tree  0.987037\n",
       "0      D Tree Rand  0.982870\n",
       "0      D Tree Grid  0.950926\n",
       "0       Neural Net  0.876389"
      ]
     },
     "execution_count": 68,
     "metadata": {},
     "output_type": "execute_result"
    }
   ],
   "source": [
    "performance = pd.concat([performance, pd.DataFrame({'model':\"Neural Net\", \n",
    "                                                    'Accuracy': nn_acc}, index=[0])])\n",
    "performance"
   ]
  },
  {
   "cell_type": "markdown",
   "id": "fb852ca4-e91c-4922-aed4-5369db503f5c",
   "metadata": {},
   "source": [
    "### Neural Networks With RandomsearchCV"
   ]
  },
  {
   "cell_type": "code",
   "execution_count": 69,
   "id": "60f30dcc-0613-4883-9b62-96f13c5c36f6",
   "metadata": {},
   "outputs": [
    {
     "name": "stdout",
     "output_type": "stream",
     "text": [
      "Fitting 5 folds for each of 100 candidates, totalling 500 fits\n",
      "{'solver': 'adam', 'max_iter': 5000, 'learning_rate_init': 0.01, 'learning_rate': 'invscaling', 'hidden_layer_sizes': (50,), 'alpha': 0, 'activation': 'tanh'}\n",
      "Wall time: 23.5 s\n"
     ]
    }
   ],
   "source": [
    "%%time\n",
    "\n",
    "score_measure = \"accuracy\"\n",
    "kfolds = 5\n",
    "\n",
    "param_grid = {\n",
    "    'hidden_layer_sizes': [ (50,), (70,),(50,30), (40,20), (60,40, 20), (70,50,40)],\n",
    "    'activation': ['logistic', 'tanh', 'relu'],\n",
    "    'solver': ['adam', 'sgd'],\n",
    "    'alpha': [0, .2, .5, .7, 1],\n",
    "    'learning_rate': ['constant', 'invscaling', 'adaptive'],\n",
    "    'learning_rate_init': [0.001, 0.01, 0.1, 0.2, 0.5],\n",
    "    'max_iter': [5000]\n",
    "}\n",
    "\n",
    "ann = MLPClassifier()\n",
    "grid_search = RandomizedSearchCV(estimator = ann, param_distributions=param_grid, cv=kfolds, n_iter=100,\n",
    "                           scoring=score_measure, verbose=1, n_jobs=-1,  # n_jobs=-1 will utilize all available CPUs \n",
    "                           return_train_score=True)\n",
    "\n",
    "_ = grid_search.fit(X_train, y_train)\n",
    "\n",
    "bestRecallTree = grid_search.best_estimator_\n",
    "\n",
    "print(grid_search.best_params_)"
   ]
  },
  {
   "cell_type": "code",
   "execution_count": 70,
   "id": "29f9a6af-d101-4614-a328-a884e4b4c5ee",
   "metadata": {},
   "outputs": [
    {
     "name": "stdout",
     "output_type": "stream",
     "text": [
      "              precision    recall  f1-score   support\n",
      "\n",
      "           1       0.34      0.85      0.49        41\n",
      "           2       0.41      0.97      0.57       115\n",
      "           3       1.00      0.89      0.94      2004\n",
      "\n",
      "    accuracy                           0.89      2160\n",
      "   macro avg       0.58      0.90      0.67      2160\n",
      "weighted avg       0.95      0.89      0.91      2160\n",
      "\n",
      "Wall time: 24.4 ms\n"
     ]
    }
   ],
   "source": [
    "%%time\n",
    "y_pred = bestRecallTree.predict(X_test)\n",
    "\n",
    "print(classification_report(y_test, y_pred))"
   ]
  },
  {
   "cell_type": "code",
   "execution_count": 71,
   "id": "7d28de90-4da8-4281-b783-a729c4e77862",
   "metadata": {},
   "outputs": [
    {
     "name": "stdout",
     "output_type": "stream",
     "text": [
      "0.8935185185185185\n"
     ]
    }
   ],
   "source": [
    "nn_acc_rand= accuracy_score(y_test, y_pred)\n",
    "print(nn_acc_rand)"
   ]
  },
  {
   "cell_type": "code",
   "execution_count": 72,
   "id": "7bb6fa9c-35c8-40b5-9e37-7c0b9be6340d",
   "metadata": {},
   "outputs": [
    {
     "data": {
      "text/html": [
       "<div>\n",
       "<style scoped>\n",
       "    .dataframe tbody tr th:only-of-type {\n",
       "        vertical-align: middle;\n",
       "    }\n",
       "\n",
       "    .dataframe tbody tr th {\n",
       "        vertical-align: top;\n",
       "    }\n",
       "\n",
       "    .dataframe thead th {\n",
       "        text-align: right;\n",
       "    }\n",
       "</style>\n",
       "<table border=\"1\" class=\"dataframe\">\n",
       "  <thead>\n",
       "    <tr style=\"text-align: right;\">\n",
       "      <th></th>\n",
       "      <th>model</th>\n",
       "      <th>Accuracy</th>\n",
       "    </tr>\n",
       "  </thead>\n",
       "  <tbody>\n",
       "    <tr>\n",
       "      <th>0</th>\n",
       "      <td>Log Reg</td>\n",
       "      <td>0.926852</td>\n",
       "    </tr>\n",
       "    <tr>\n",
       "      <th>0</th>\n",
       "      <td>Rand Log Reg</td>\n",
       "      <td>0.956944</td>\n",
       "    </tr>\n",
       "    <tr>\n",
       "      <th>0</th>\n",
       "      <td>Grid Log Reg</td>\n",
       "      <td>0.954630</td>\n",
       "    </tr>\n",
       "    <tr>\n",
       "      <th>0</th>\n",
       "      <td>Linear SVM</td>\n",
       "      <td>0.937500</td>\n",
       "    </tr>\n",
       "    <tr>\n",
       "      <th>0</th>\n",
       "      <td>Linear Rand SVM</td>\n",
       "      <td>0.943519</td>\n",
       "    </tr>\n",
       "    <tr>\n",
       "      <th>0</th>\n",
       "      <td>Linear Grid SVM</td>\n",
       "      <td>0.955556</td>\n",
       "    </tr>\n",
       "    <tr>\n",
       "      <th>0</th>\n",
       "      <td>rbf SVM</td>\n",
       "      <td>0.846296</td>\n",
       "    </tr>\n",
       "    <tr>\n",
       "      <th>0</th>\n",
       "      <td>rbf rand svm</td>\n",
       "      <td>0.846296</td>\n",
       "    </tr>\n",
       "    <tr>\n",
       "      <th>0</th>\n",
       "      <td>rbf grid svm</td>\n",
       "      <td>0.936111</td>\n",
       "    </tr>\n",
       "    <tr>\n",
       "      <th>0</th>\n",
       "      <td>poly svm</td>\n",
       "      <td>0.918056</td>\n",
       "    </tr>\n",
       "    <tr>\n",
       "      <th>0</th>\n",
       "      <td>poly rand svm</td>\n",
       "      <td>0.910185</td>\n",
       "    </tr>\n",
       "    <tr>\n",
       "      <th>0</th>\n",
       "      <td>poly grid svm</td>\n",
       "      <td>0.846296</td>\n",
       "    </tr>\n",
       "    <tr>\n",
       "      <th>0</th>\n",
       "      <td>D Tree</td>\n",
       "      <td>0.987037</td>\n",
       "    </tr>\n",
       "    <tr>\n",
       "      <th>0</th>\n",
       "      <td>D Tree Rand</td>\n",
       "      <td>0.982870</td>\n",
       "    </tr>\n",
       "    <tr>\n",
       "      <th>0</th>\n",
       "      <td>D Tree Grid</td>\n",
       "      <td>0.950926</td>\n",
       "    </tr>\n",
       "    <tr>\n",
       "      <th>0</th>\n",
       "      <td>Neural Net</td>\n",
       "      <td>0.876389</td>\n",
       "    </tr>\n",
       "    <tr>\n",
       "      <th>0</th>\n",
       "      <td>NN Rand</td>\n",
       "      <td>0.893519</td>\n",
       "    </tr>\n",
       "  </tbody>\n",
       "</table>\n",
       "</div>"
      ],
      "text/plain": [
       "             model  Accuracy\n",
       "0          Log Reg  0.926852\n",
       "0     Rand Log Reg  0.956944\n",
       "0     Grid Log Reg  0.954630\n",
       "0       Linear SVM  0.937500\n",
       "0  Linear Rand SVM  0.943519\n",
       "0  Linear Grid SVM  0.955556\n",
       "0          rbf SVM  0.846296\n",
       "0     rbf rand svm  0.846296\n",
       "0     rbf grid svm  0.936111\n",
       "0         poly svm  0.918056\n",
       "0    poly rand svm  0.910185\n",
       "0    poly grid svm  0.846296\n",
       "0           D Tree  0.987037\n",
       "0      D Tree Rand  0.982870\n",
       "0      D Tree Grid  0.950926\n",
       "0       Neural Net  0.876389\n",
       "0          NN Rand  0.893519"
      ]
     },
     "execution_count": 72,
     "metadata": {},
     "output_type": "execute_result"
    }
   ],
   "source": [
    "performance = pd.concat([performance, pd.DataFrame({'model':\"NN Rand\", \n",
    "                                                    'Accuracy': nn_acc_rand}, index=[0])])\n",
    "performance"
   ]
  },
  {
   "cell_type": "markdown",
   "id": "c41f3314-e6db-4bc7-bfec-7e04c1d9d6a6",
   "metadata": {},
   "source": [
    "### Neural Networks With GridSearchCV"
   ]
  },
  {
   "cell_type": "code",
   "execution_count": 73,
   "id": "f72f0b11-82b9-4f57-8ee4-54bec69f5d84",
   "metadata": {},
   "outputs": [
    {
     "name": "stdout",
     "output_type": "stream",
     "text": [
      "Fitting 5 folds for each of 144 candidates, totalling 720 fits\n",
      "{'activation': 'relu', 'alpha': 0.5, 'hidden_layer_sizes': (70,), 'learning_rate': 'invscaling', 'learning_rate_init': 0.005, 'max_iter': 5000, 'solver': 'adam'}\n",
      "Wall time: 8.7 s\n"
     ]
    }
   ],
   "source": [
    "%%time\n",
    "\n",
    "score_measure = \"accuracy\"\n",
    "kfolds = 5\n",
    "\n",
    "param_grid = {\n",
    "    'hidden_layer_sizes': [ (30,), (50,), (70,), (90,)],\n",
    "    'activation': ['tanh', 'relu'],\n",
    "    'solver': ['adam'],\n",
    "    'alpha': [.5, .7, 1],\n",
    "    'learning_rate': ['adaptive', 'invscaling'],\n",
    "    'learning_rate_init': [0.005, 0.01, 0.15],\n",
    "    'max_iter': [5000]\n",
    "}\n",
    "\n",
    "ann = MLPClassifier()\n",
    "grid_search = GridSearchCV(estimator = ann, param_grid=param_grid, cv=kfolds, \n",
    "                           scoring=score_measure, verbose=1, n_jobs=-1,  # n_jobs=-1 will utilize all available CPUs \n",
    "                           return_train_score=True)\n",
    "\n",
    "_ = grid_search.fit(X_train, y_train)\n",
    "\n",
    "bestRecallTree = grid_search.best_estimator_\n",
    "\n",
    "print(grid_search.best_params_)"
   ]
  },
  {
   "cell_type": "code",
   "execution_count": 74,
   "id": "6bf2289b-91c6-4bbe-9146-6190dd652a92",
   "metadata": {},
   "outputs": [
    {
     "name": "stdout",
     "output_type": "stream",
     "text": [
      "              precision    recall  f1-score   support\n",
      "\n",
      "           1       0.59      0.78      0.67        41\n",
      "           2       0.52      0.98      0.68       115\n",
      "           3       1.00      0.94      0.97      2004\n",
      "\n",
      "    accuracy                           0.94      2160\n",
      "   macro avg       0.70      0.90      0.77      2160\n",
      "weighted avg       0.97      0.94      0.95      2160\n",
      "\n",
      "Wall time: 40.1 ms\n"
     ]
    }
   ],
   "source": [
    "%%time\n",
    "y_pred = bestRecallTree.predict(X_test)\n",
    "\n",
    "print(classification_report(y_test, y_pred))"
   ]
  },
  {
   "cell_type": "code",
   "execution_count": 75,
   "id": "c5ed812c-a601-4525-a21d-815c102322f6",
   "metadata": {},
   "outputs": [
    {
     "name": "stdout",
     "output_type": "stream",
     "text": [
      "0.9402777777777778\n"
     ]
    }
   ],
   "source": [
    "nn_acc_grid= accuracy_score(y_test, y_pred)\n",
    "print(nn_acc_grid)"
   ]
  },
  {
   "cell_type": "code",
   "execution_count": 76,
   "id": "74c811ba-1945-46fd-a756-5543dea85c60",
   "metadata": {},
   "outputs": [
    {
     "data": {
      "text/html": [
       "<div>\n",
       "<style scoped>\n",
       "    .dataframe tbody tr th:only-of-type {\n",
       "        vertical-align: middle;\n",
       "    }\n",
       "\n",
       "    .dataframe tbody tr th {\n",
       "        vertical-align: top;\n",
       "    }\n",
       "\n",
       "    .dataframe thead th {\n",
       "        text-align: right;\n",
       "    }\n",
       "</style>\n",
       "<table border=\"1\" class=\"dataframe\">\n",
       "  <thead>\n",
       "    <tr style=\"text-align: right;\">\n",
       "      <th></th>\n",
       "      <th>model</th>\n",
       "      <th>Accuracy</th>\n",
       "    </tr>\n",
       "  </thead>\n",
       "  <tbody>\n",
       "    <tr>\n",
       "      <th>0</th>\n",
       "      <td>Log Reg</td>\n",
       "      <td>0.926852</td>\n",
       "    </tr>\n",
       "    <tr>\n",
       "      <th>0</th>\n",
       "      <td>Rand Log Reg</td>\n",
       "      <td>0.956944</td>\n",
       "    </tr>\n",
       "    <tr>\n",
       "      <th>0</th>\n",
       "      <td>Grid Log Reg</td>\n",
       "      <td>0.954630</td>\n",
       "    </tr>\n",
       "    <tr>\n",
       "      <th>0</th>\n",
       "      <td>Linear SVM</td>\n",
       "      <td>0.937500</td>\n",
       "    </tr>\n",
       "    <tr>\n",
       "      <th>0</th>\n",
       "      <td>Linear Rand SVM</td>\n",
       "      <td>0.943519</td>\n",
       "    </tr>\n",
       "    <tr>\n",
       "      <th>0</th>\n",
       "      <td>Linear Grid SVM</td>\n",
       "      <td>0.955556</td>\n",
       "    </tr>\n",
       "    <tr>\n",
       "      <th>0</th>\n",
       "      <td>rbf SVM</td>\n",
       "      <td>0.846296</td>\n",
       "    </tr>\n",
       "    <tr>\n",
       "      <th>0</th>\n",
       "      <td>rbf rand svm</td>\n",
       "      <td>0.846296</td>\n",
       "    </tr>\n",
       "    <tr>\n",
       "      <th>0</th>\n",
       "      <td>rbf grid svm</td>\n",
       "      <td>0.936111</td>\n",
       "    </tr>\n",
       "    <tr>\n",
       "      <th>0</th>\n",
       "      <td>poly svm</td>\n",
       "      <td>0.918056</td>\n",
       "    </tr>\n",
       "    <tr>\n",
       "      <th>0</th>\n",
       "      <td>poly rand svm</td>\n",
       "      <td>0.910185</td>\n",
       "    </tr>\n",
       "    <tr>\n",
       "      <th>0</th>\n",
       "      <td>poly grid svm</td>\n",
       "      <td>0.846296</td>\n",
       "    </tr>\n",
       "    <tr>\n",
       "      <th>0</th>\n",
       "      <td>D Tree</td>\n",
       "      <td>0.987037</td>\n",
       "    </tr>\n",
       "    <tr>\n",
       "      <th>0</th>\n",
       "      <td>D Tree Rand</td>\n",
       "      <td>0.982870</td>\n",
       "    </tr>\n",
       "    <tr>\n",
       "      <th>0</th>\n",
       "      <td>D Tree Grid</td>\n",
       "      <td>0.950926</td>\n",
       "    </tr>\n",
       "    <tr>\n",
       "      <th>0</th>\n",
       "      <td>Neural Net</td>\n",
       "      <td>0.876389</td>\n",
       "    </tr>\n",
       "    <tr>\n",
       "      <th>0</th>\n",
       "      <td>NN Rand</td>\n",
       "      <td>0.893519</td>\n",
       "    </tr>\n",
       "    <tr>\n",
       "      <th>0</th>\n",
       "      <td>NN Grid</td>\n",
       "      <td>0.940278</td>\n",
       "    </tr>\n",
       "  </tbody>\n",
       "</table>\n",
       "</div>"
      ],
      "text/plain": [
       "             model  Accuracy\n",
       "0          Log Reg  0.926852\n",
       "0     Rand Log Reg  0.956944\n",
       "0     Grid Log Reg  0.954630\n",
       "0       Linear SVM  0.937500\n",
       "0  Linear Rand SVM  0.943519\n",
       "0  Linear Grid SVM  0.955556\n",
       "0          rbf SVM  0.846296\n",
       "0     rbf rand svm  0.846296\n",
       "0     rbf grid svm  0.936111\n",
       "0         poly svm  0.918056\n",
       "0    poly rand svm  0.910185\n",
       "0    poly grid svm  0.846296\n",
       "0           D Tree  0.987037\n",
       "0      D Tree Rand  0.982870\n",
       "0      D Tree Grid  0.950926\n",
       "0       Neural Net  0.876389\n",
       "0          NN Rand  0.893519\n",
       "0          NN Grid  0.940278"
      ]
     },
     "execution_count": 76,
     "metadata": {},
     "output_type": "execute_result"
    }
   ],
   "source": [
    "performance = pd.concat([performance, pd.DataFrame({'model':\"NN Grid\", \n",
    "                                                    'Accuracy': nn_acc_grid}, index=[0])])\n",
    "performance"
   ]
  },
  {
   "cell_type": "code",
   "execution_count": 77,
   "id": "b0b1cf53-c863-4a7f-9b99-2ae1fadd4d59",
   "metadata": {},
   "outputs": [
    {
     "data": {
      "text/html": [
       "<div>\n",
       "<style scoped>\n",
       "    .dataframe tbody tr th:only-of-type {\n",
       "        vertical-align: middle;\n",
       "    }\n",
       "\n",
       "    .dataframe tbody tr th {\n",
       "        vertical-align: top;\n",
       "    }\n",
       "\n",
       "    .dataframe thead th {\n",
       "        text-align: right;\n",
       "    }\n",
       "</style>\n",
       "<table border=\"1\" class=\"dataframe\">\n",
       "  <thead>\n",
       "    <tr style=\"text-align: right;\">\n",
       "      <th></th>\n",
       "      <th>model</th>\n",
       "      <th>Accuracy</th>\n",
       "    </tr>\n",
       "  </thead>\n",
       "  <tbody>\n",
       "    <tr>\n",
       "      <th>0</th>\n",
       "      <td>poly grid svm</td>\n",
       "      <td>0.846296</td>\n",
       "    </tr>\n",
       "    <tr>\n",
       "      <th>0</th>\n",
       "      <td>rbf SVM</td>\n",
       "      <td>0.846296</td>\n",
       "    </tr>\n",
       "    <tr>\n",
       "      <th>0</th>\n",
       "      <td>rbf rand svm</td>\n",
       "      <td>0.846296</td>\n",
       "    </tr>\n",
       "    <tr>\n",
       "      <th>0</th>\n",
       "      <td>Neural Net</td>\n",
       "      <td>0.876389</td>\n",
       "    </tr>\n",
       "    <tr>\n",
       "      <th>0</th>\n",
       "      <td>NN Rand</td>\n",
       "      <td>0.893519</td>\n",
       "    </tr>\n",
       "    <tr>\n",
       "      <th>0</th>\n",
       "      <td>poly rand svm</td>\n",
       "      <td>0.910185</td>\n",
       "    </tr>\n",
       "    <tr>\n",
       "      <th>0</th>\n",
       "      <td>poly svm</td>\n",
       "      <td>0.918056</td>\n",
       "    </tr>\n",
       "    <tr>\n",
       "      <th>0</th>\n",
       "      <td>Log Reg</td>\n",
       "      <td>0.926852</td>\n",
       "    </tr>\n",
       "    <tr>\n",
       "      <th>0</th>\n",
       "      <td>rbf grid svm</td>\n",
       "      <td>0.936111</td>\n",
       "    </tr>\n",
       "    <tr>\n",
       "      <th>0</th>\n",
       "      <td>Linear SVM</td>\n",
       "      <td>0.937500</td>\n",
       "    </tr>\n",
       "    <tr>\n",
       "      <th>0</th>\n",
       "      <td>NN Grid</td>\n",
       "      <td>0.940278</td>\n",
       "    </tr>\n",
       "    <tr>\n",
       "      <th>0</th>\n",
       "      <td>Linear Rand SVM</td>\n",
       "      <td>0.943519</td>\n",
       "    </tr>\n",
       "    <tr>\n",
       "      <th>0</th>\n",
       "      <td>D Tree Grid</td>\n",
       "      <td>0.950926</td>\n",
       "    </tr>\n",
       "    <tr>\n",
       "      <th>0</th>\n",
       "      <td>Grid Log Reg</td>\n",
       "      <td>0.954630</td>\n",
       "    </tr>\n",
       "    <tr>\n",
       "      <th>0</th>\n",
       "      <td>Linear Grid SVM</td>\n",
       "      <td>0.955556</td>\n",
       "    </tr>\n",
       "    <tr>\n",
       "      <th>0</th>\n",
       "      <td>Rand Log Reg</td>\n",
       "      <td>0.956944</td>\n",
       "    </tr>\n",
       "    <tr>\n",
       "      <th>0</th>\n",
       "      <td>D Tree Rand</td>\n",
       "      <td>0.982870</td>\n",
       "    </tr>\n",
       "    <tr>\n",
       "      <th>0</th>\n",
       "      <td>D Tree</td>\n",
       "      <td>0.987037</td>\n",
       "    </tr>\n",
       "  </tbody>\n",
       "</table>\n",
       "</div>"
      ],
      "text/plain": [
       "             model  Accuracy\n",
       "0    poly grid svm  0.846296\n",
       "0          rbf SVM  0.846296\n",
       "0     rbf rand svm  0.846296\n",
       "0       Neural Net  0.876389\n",
       "0          NN Rand  0.893519\n",
       "0    poly rand svm  0.910185\n",
       "0         poly svm  0.918056\n",
       "0          Log Reg  0.926852\n",
       "0     rbf grid svm  0.936111\n",
       "0       Linear SVM  0.937500\n",
       "0          NN Grid  0.940278\n",
       "0  Linear Rand SVM  0.943519\n",
       "0      D Tree Grid  0.950926\n",
       "0     Grid Log Reg  0.954630\n",
       "0  Linear Grid SVM  0.955556\n",
       "0     Rand Log Reg  0.956944\n",
       "0      D Tree Rand  0.982870\n",
       "0           D Tree  0.987037"
      ]
     },
     "execution_count": 77,
     "metadata": {},
     "output_type": "execute_result"
    }
   ],
   "source": [
    "performance.sort_values(by=['Accuracy'])"
   ]
  },
  {
   "cell_type": "markdown",
   "id": "e658ecde-3c5a-42cf-80a3-d975f9403a76",
   "metadata": {},
   "source": [
    "## Analysis:\n",
    "\n",
    "> The Decision Tree Rand and Decision Tree Grid, both of which had an accuracy rating of 98.7%, were the models in this dataset that performed the best. This is noticeably higher than the other models, which were all in the 80–95% range. As a result, it seems that the Decision Tree models would work better with this dataset. With accuracy rates of 95.7%, Random Logistic Regression and Neural Network Grid were the next-best models. Also, these models are excellent at correctly forecasting the data. \n",
    "\n",
    "> The least accurate models in this dataset were Poly Grid SVM, RBF SVM, and RBF Random SVM, all with an accuracy score of 84.6%. These models could be better at accurately predicting the data than the other models. \n",
    "\n",
    "> With a 98.7% accuracy rate, decision tree models are often the top performers in this dataset. With an accuracy of 95.7%, the Random Logistic Regression and Neural Network Grid models are likewise quite efficient. With an accuracy of just 84.6%, the Poly Grid SVM, RBF SVM, and RBF Random SVM models are the least reliable."
   ]
  }
 ],
 "metadata": {
  "kernelspec": {
   "display_name": "Python 3 (ipykernel)",
   "language": "python",
   "name": "python3"
  },
  "language_info": {
   "codemirror_mode": {
    "name": "ipython",
    "version": 3
   },
   "file_extension": ".py",
   "mimetype": "text/x-python",
   "name": "python",
   "nbconvert_exporter": "python",
   "pygments_lexer": "ipython3",
   "version": "3.9.13"
  }
 },
 "nbformat": 4,
 "nbformat_minor": 5
}
